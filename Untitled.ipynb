{
 "cells": [
  {
   "cell_type": "code",
   "execution_count": 1,
   "metadata": {
    "collapsed": true
   },
   "outputs": [],
   "source": [
    "#문제1: 문자열 속 숫자들의 합 구하기"
   ]
  },
  {
   "cell_type": "code",
   "execution_count": 2,
   "metadata": {
    "collapsed": true
   },
   "outputs": [],
   "source": [
    "def sum_str(x):\n",
    "    #split 함수를 이용하여 구분자로 데이터를 자른다.\n",
    "    #list(map()) 을 이용하여 전체에 대해 int(숫자형)형으로 변경한다.\n",
    "    #sum 함수를 이용하여 전체 합산\n",
    "    result = sum(list(map(int,x.split(','))))\n",
    "    return result"
   ]
  },
  {
   "cell_type": "code",
   "execution_count": 3,
   "metadata": {
    "collapsed": true
   },
   "outputs": [],
   "source": [
    "#문제2: 설날까지 남은 시간 "
   ]
  },
  {
   "cell_type": "code",
   "execution_count": 12,
   "metadata": {
    "collapsed": false
   },
   "outputs": [],
   "source": [
    "def until_new_year():\n",
    "    import arrow\n",
    "    #한국 시간 기준으로 설날에서 현재시간을 차감.\n",
    "    result = arrow.get('2017-01-30 00:00').replace(tzinfo='Asia/Seoul') - arrow.now().to('Asia/Seoul')\n",
    "    #결과를 day 타입으로 변경하여 리턴\n",
    "    return result.days"
   ]
  },
  {
   "cell_type": "code",
   "execution_count": 5,
   "metadata": {
    "collapsed": false
   },
   "outputs": [],
   "source": [
    "#문제3: UserAgentString 분석"
   ]
  },
  {
   "cell_type": "code",
   "execution_count": 6,
   "metadata": {
    "collapsed": true
   },
   "outputs": [],
   "source": [
    "def ua_string(x):\n",
    "    if 'Chrome' in x:\n",
    "        return('C')\n",
    "    elif 'Safari' in x:\n",
    "        return('S')\n",
    "    elif 'Firefox' in x:\n",
    "        return('F')\n",
    "    else:\n",
    "        return('I')"
   ]
  },
  {
   "cell_type": "code",
   "execution_count": 7,
   "metadata": {
    "collapsed": false
   },
   "outputs": [],
   "source": [
    "#문제4: 결측값 제거"
   ]
  },
  {
   "cell_type": "code",
   "execution_count": 8,
   "metadata": {
    "collapsed": false
   },
   "outputs": [],
   "source": [
    "def del_nan_row(x):\n",
    "    dropna_x=x.dropna(how='all')\n",
    "    return(dropna_x)"
   ]
  }
 ],
 "metadata": {
  "anaconda-cloud": {},
  "kernelspec": {
   "display_name": "Python [default]",
   "language": "python",
   "name": "python3"
  },
  "language_info": {
   "codemirror_mode": {
    "name": "ipython",
    "version": 3
   },
   "file_extension": ".py",
   "mimetype": "text/x-python",
   "name": "python",
   "nbconvert_exporter": "python",
   "pygments_lexer": "ipython3",
   "version": "3.5.2"
  }
 },
 "nbformat": 4,
 "nbformat_minor": 1
}
