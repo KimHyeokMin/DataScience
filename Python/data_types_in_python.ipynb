{
 "cells": [
  {
   "cell_type": "markdown",
   "metadata": {},
   "source": [
    "# 파이썬의 자료형 \n",
    "## 리스트, 튜플, 딕셔너리, 집합"
   ]
  },
  {
   "cell_type": "markdown",
   "metadata": {},
   "source": [
    "### Python 에서 여러 개의 값들을 묶어서 사용할 때 쓸 수 있는 방법들이 몇가지가 있는데, 이들을 몇가지 기준으로 구분해볼 수 있다."
   ]
  },
  {
   "cell_type": "markdown",
   "metadata": {},
   "source": [
    "1. 순서가 있는가?\n",
    "    - Yes : 리스트, 튜플\n",
    "    - No : 딕셔너리, 집합\n",
    "2. 수정이 가능한가?\n",
    "    - Yes : 리스트, 집합\n",
    "    - No : 튜플 (딕셔너리는 key와 value 값으로 이루어져 있어서 key 값은 수정이 불가능하고 value 값은 수정이 가능하다.)"
   ]
  },
  {
   "cell_type": "markdown",
   "metadata": {},
   "source": [
    "### 1. 리스트"
   ]
  },
  {
   "cell_type": "code",
   "execution_count": 1,
   "metadata": {},
   "outputs": [
    {
     "name": "stdout",
     "output_type": "stream",
     "text": [
      "[1, 2, 3, 4, 5]\n"
     ]
    }
   ],
   "source": [
    "lists = [1,2,3,4,5]\n",
    "print(lists)"
   ]
  },
  {
   "cell_type": "code",
   "execution_count": 3,
   "metadata": {},
   "outputs": [
    {
     "name": "stdout",
     "output_type": "stream",
     "text": [
      "lists[0]:   1 \n",
      "lists[-0]:  1\n"
     ]
    }
   ],
   "source": [
    "print('lists[0]:  ',lists[0], '\\nlists[-0]: ', lists[-0])\n",
    "# 순서가 있기 때문에 0번째, 즉 첫번째 요소 값인 숫자를 출력해라.\n",
    "# 0과 -0은 같기 때문에 0번째를 뜻한다. 즉 첫번째 요소 값인 숫자를 출력해라."
   ]
  },
  {
   "cell_type": "code",
   "execution_count": 4,
   "metadata": {},
   "outputs": [
    {
     "data": {
      "text/plain": [
       "5"
      ]
     },
     "execution_count": 4,
     "metadata": {},
     "output_type": "execute_result"
    }
   ],
   "source": [
    "lists[-1]\n",
    "# 마이너스를 붙여서 뒤에서부터 순서대로 접근도 가능하다. \n",
    "# 0과 -0은 값기 때문에 뒷부분 첫번째 요소가 -1부터 시작한다."
   ]
  },
  {
   "cell_type": "code",
   "execution_count": 5,
   "metadata": {},
   "outputs": [
    {
     "name": "stdout",
     "output_type": "stream",
     "text": [
      "[1, 2, 3, [4, 5, [6, 7]]]\n"
     ]
    }
   ],
   "source": [
    "lists = [1,2,3,[4,5,[6,7]]]\n",
    "# 이중 삼중 리스트를 만드는 것도 가능하다.\n",
    "print(lists)"
   ]
  },
  {
   "cell_type": "code",
   "execution_count": 6,
   "metadata": {},
   "outputs": [
    {
     "name": "stdout",
     "output_type": "stream",
     "text": [
      "lists[3]:        [4, 5, [6, 7]] \n",
      "lists[3][2]:     [6, 7] \n",
      "lists[3][2][1]:  7\n"
     ]
    }
   ],
   "source": [
    "print('lists[3]:       ',lists[3], '\\nlists[3][2]:    ',lists[3][2], \n",
    "      '\\nlists[3][2][1]: ',lists[3][2][1])"
   ]
  },
  {
   "cell_type": "markdown",
   "metadata": {},
   "source": [
    "##### 이렇게 리스트의 요소 값을 찾아 얻어오는 것을 리스트 인덱싱이라고 한다. 다음은 리스트 슬라이싱이라고 한다."
   ]
  },
  {
   "cell_type": "code",
   "execution_count": 7,
   "metadata": {},
   "outputs": [
    {
     "name": "stdout",
     "output_type": "stream",
     "text": [
      "lists[0:2]:  [1, 2] \n",
      "lists[2:5]:  [3, 4, 5]\n"
     ]
    }
   ],
   "source": [
    "lists = [1,2,3,4,5]\n",
    "print('lists[0:2]: ', lists[0:2], '\\nlists[2:5]: ', lists[2:5])\n",
    "# lists['입력요소 이상' : '입력 요소 직전까지']"
   ]
  },
  {
   "cell_type": "code",
   "execution_count": 8,
   "metadata": {},
   "outputs": [
    {
     "name": "stdout",
     "output_type": "stream",
     "text": [
      "lists[:2]:   [1, 2] \n",
      "lists[2:]:   [3, 4, 5] \n",
      "lists[-2:]:  [4, 5] \n",
      "lists[:-2]:  [1, 2, 3]\n"
     ]
    }
   ],
   "source": [
    "lists = [1,2,3,4,5]\n",
    "print('lists[:2]:  ', lists[:2], '\\nlists[2:]:  ', lists[2:], \n",
    "      '\\nlists[-2:]: ', lists[-2:], '\\nlists[:-2]: ', lists[:-2])"
   ]
  },
  {
   "cell_type": "markdown",
   "metadata": {},
   "source": [
    "##### 리스트에 연산자를 사용해 append 할수도 있다."
   ]
  },
  {
   "cell_type": "code",
   "execution_count": 83,
   "metadata": {},
   "outputs": [
    {
     "name": "stdout",
     "output_type": "stream",
     "text": [
      "a + b:        [1, 2, 3, 1, 4, 5, 6] \n",
      "b + a:        [4, 5, 6, 1, 2, 3, 1] \n",
      "(a + b) * 2:  [1, 2, 3, 1, 4, 5, 6, 1, 2, 3, 1, 4, 5, 6]\n"
     ]
    }
   ],
   "source": [
    "a = [1,2,3,1]\n",
    "b = [4,5,6]\n",
    "\n",
    "print('a + b:       ', a+b, '\\nb + a:       ',b+a, '\\n(a + b) * 2: ', (a+b)*2)"
   ]
  },
  {
   "cell_type": "markdown",
   "metadata": {},
   "source": [
    "##### 리스트의 값을 수정할 수 있다."
   ]
  },
  {
   "cell_type": "code",
   "execution_count": 69,
   "metadata": {},
   "outputs": [
    {
     "data": {
      "text/plain": [
       "2"
      ]
     },
     "execution_count": 69,
     "metadata": {},
     "output_type": "execute_result"
    }
   ],
   "source": [
    "a[1]"
   ]
  },
  {
   "cell_type": "code",
   "execution_count": 70,
   "metadata": {},
   "outputs": [
    {
     "data": {
      "text/plain": [
       "[1, [], 3, 1]"
      ]
     },
     "execution_count": 70,
     "metadata": {},
     "output_type": "execute_result"
    }
   ],
   "source": [
    "#공백으로 수정\n",
    "a[1] = []\n",
    "a"
   ]
  },
  {
   "cell_type": "code",
   "execution_count": 71,
   "metadata": {},
   "outputs": [
    {
     "data": {
      "text/plain": [
       "[1, 3, 1]"
      ]
     },
     "execution_count": 71,
     "metadata": {},
     "output_type": "execute_result"
    }
   ],
   "source": [
    "# 두번째 위치를 값을 삭제한다.\n",
    "del(a[1])\n",
    "a"
   ]
  },
  {
   "cell_type": "code",
   "execution_count": 72,
   "metadata": {},
   "outputs": [
    {
     "data": {
      "text/plain": [
       "[3, 1]"
      ]
     },
     "execution_count": 72,
     "metadata": {},
     "output_type": "execute_result"
    }
   ],
   "source": [
    "#remove 함수는 해당 값을 전부 없애주는 것이 아닌 첫 번째 나오는 1을 하나 없애준다. \n",
    "a.remove(1)\n",
    "a"
   ]
  },
  {
   "cell_type": "code",
   "execution_count": 73,
   "metadata": {},
   "outputs": [
    {
     "data": {
      "text/plain": [
       "[3, 1, 5]"
      ]
     },
     "execution_count": 73,
     "metadata": {},
     "output_type": "execute_result"
    }
   ],
   "source": [
    "#리스트의 마지막에 요소를 추가해주는 append()\n",
    "a.append(5)\n",
    "a"
   ]
  },
  {
   "cell_type": "code",
   "execution_count": 74,
   "metadata": {},
   "outputs": [
    {
     "data": {
      "text/plain": [
       "[5, 3, 1]"
      ]
     },
     "execution_count": 74,
     "metadata": {},
     "output_type": "execute_result"
    }
   ],
   "source": [
    "#순서대로 오름차순 정렬해주는 sort(), 리스트의 요소들을 역순으로 뒤집어주는 reverse()\n",
    "a.sort(reverse=True)\n",
    "a"
   ]
  },
  {
   "cell_type": "markdown",
   "metadata": {},
   "source": [
    "##### 이 외에도 값을 입력하면 입력한 값의 위치를 알려주는 index(), 리스트의 요소를 리턴해주면서 그 요소를 삭제하는 pop(), 리스트에 포함된 요소의 개수를 세주는 count(), 리스트와 리스트를 더해주는 extend()함수가 있다."
   ]
  },
  {
   "cell_type": "markdown",
   "metadata": {},
   "source": [
    "---"
   ]
  },
  {
   "cell_type": "markdown",
   "metadata": {},
   "source": [
    "### 2. 튜플"
   ]
  },
  {
   "cell_type": "markdown",
   "metadata": {},
   "source": [
    "#### 튜플(tuple)은 터플이라고도 하며 리스트와 비슷하지만, 튜플은 값을 변화시킬 수 없다. (삭제, 변경이 안된다.) 프로그램이 실행되는 동안 값이 변하지 않았으면 하는 고정값들은 튜프을 이용해주면 좋다."
   ]
  },
  {
   "cell_type": "markdown",
   "metadata": {},
   "source": [
    "#### 튜플의 모습은 다음과 같다."
   ]
  },
  {
   "cell_type": "code",
   "execution_count": 101,
   "metadata": {},
   "outputs": [],
   "source": [
    "t1 = ()\n",
    "t2 = (1,)\n",
    "t3 = (1,2,3)\n",
    "t4 = 1,2,3\n",
    "t5 = ('a','b',('ab','cd'))"
   ]
  },
  {
   "cell_type": "code",
   "execution_count": 109,
   "metadata": {},
   "outputs": [
    {
     "name": "stdout",
     "output_type": "stream",
     "text": [
      "t1:  () \n",
      "t2:  (1,) \n",
      "t3:  (1, 2, 3) \n",
      "t4:  (1, 2, 3) \n",
      "t5:  ('a', 'b', ('ab', 'cd'))\n"
     ]
    }
   ],
   "source": [
    "print('t1: ', t1, '\\nt2: ', t2, '\\nt3: ', t3, '\\nt4: ', t4 , '\\nt5: ', t5)"
   ]
  },
  {
   "cell_type": "markdown",
   "metadata": {},
   "source": [
    "리스트와 유사해보이는데, 차이점은 괄호()를 사용한다는것과, **t2처럼 한개의 요소를 가질 때에는 뒤에 콤마를 붙이는것**, 그리고 괄호()를 생략해도 된다는 점이다."
   ]
  },
  {
   "cell_type": "code",
   "execution_count": 120,
   "metadata": {},
   "outputs": [
    {
     "name": "stdout",
     "output_type": "stream",
     "text": [
      "type:  <class 'tuple'> \n",
      "t2[0]:  1\n"
     ]
    }
   ],
   "source": [
    "t2 = (1,)\n",
    "print('type: ', type(t2), '\\nt2[0]: ', t2[0])"
   ]
  },
  {
   "cell_type": "code",
   "execution_count": 127,
   "metadata": {},
   "outputs": [
    {
     "name": "stdout",
     "output_type": "stream",
     "text": [
      "type:  <class 'int'>\n"
     ]
    },
    {
     "ename": "TypeError",
     "evalue": "'int' object is not subscriptable",
     "output_type": "error",
     "traceback": [
      "\u001b[0;31m---------------------------------------------------------------------------\u001b[0m",
      "\u001b[0;31mTypeError\u001b[0m                                 Traceback (most recent call last)",
      "\u001b[0;32m<ipython-input-127-fb102b509554>\u001b[0m in \u001b[0;36m<module>\u001b[0;34m\u001b[0m\n\u001b[1;32m      1\u001b[0m \u001b[0mt2\u001b[0m \u001b[0;34m=\u001b[0m \u001b[0;34m(\u001b[0m\u001b[0;36m1\u001b[0m\u001b[0;34m)\u001b[0m\u001b[0;34m\u001b[0m\u001b[0m\n\u001b[1;32m      2\u001b[0m \u001b[0mprint\u001b[0m\u001b[0;34m(\u001b[0m\u001b[0;34m'type: '\u001b[0m\u001b[0;34m,\u001b[0m \u001b[0mtype\u001b[0m\u001b[0;34m(\u001b[0m\u001b[0mt2\u001b[0m\u001b[0;34m)\u001b[0m\u001b[0;34m)\u001b[0m\u001b[0;34m\u001b[0m\u001b[0m\n\u001b[0;32m----> 3\u001b[0;31m \u001b[0mt2\u001b[0m\u001b[0;34m[\u001b[0m\u001b[0;36m0\u001b[0m\u001b[0;34m]\u001b[0m\u001b[0;34m\u001b[0m\u001b[0m\n\u001b[0m\u001b[1;32m      4\u001b[0m \u001b[0;31m#한개의 요소를 가질때 뒤에 콤마를 붙이지 않으면 int 형으로 정의된다.\u001b[0m\u001b[0;34m\u001b[0m\u001b[0;34m\u001b[0m\u001b[0m\n",
      "\u001b[0;31mTypeError\u001b[0m: 'int' object is not subscriptable"
     ]
    }
   ],
   "source": [
    "t2 = 1\n",
    "print('type: ', type(t2))\n",
    "t2[0]\n",
    "#한개의 요소를 가질때 뒤에 콤마를 붙이지 않으면 int, str, float 형 등으로 정의된다."
   ]
  },
  {
   "cell_type": "markdown",
   "metadata": {},
   "source": [
    "#### 인덱싱, 슬라이싱, 더하기, 곱하기 등은 리스트와 같은 방식으로 해줄수가 있다."
   ]
  },
  {
   "cell_type": "code",
   "execution_count": 170,
   "metadata": {},
   "outputs": [
    {
     "name": "stdout",
     "output_type": "stream",
     "text": [
      "t1[2]:       3 \n",
      "t1[1:]:      (2, 3, 4, 5) \n",
      "t1+t1[-1:]:  (1, 2, 3, 4, 5, 5) \n",
      "t1*2:        (1, 2, 3, 4, 5, 1, 2, 3, 4, 5)\n"
     ]
    }
   ],
   "source": [
    "t1 = (1,2,3,4,5)\n",
    "print('t1[2]:      ', t1[2], '\\nt1[1:]:     ', t1[1:], \n",
    "      '\\nt1+t1[-1:]: ', t1+t1[-1:], '\\nt1*2:       ', t1*2)"
   ]
  },
  {
   "cell_type": "code",
   "execution_count": 154,
   "metadata": {},
   "outputs": [
    {
     "name": "stdout",
     "output_type": "stream",
     "text": [
      "<class 'int'>\n"
     ]
    },
    {
     "ename": "TypeError",
     "evalue": "can only concatenate tuple (not \"int\") to tuple",
     "output_type": "error",
     "traceback": [
      "\u001b[0;31m---------------------------------------------------------------------------\u001b[0m",
      "\u001b[0;31mTypeError\u001b[0m                                 Traceback (most recent call last)",
      "\u001b[0;32m<ipython-input-154-47896678fbda>\u001b[0m in \u001b[0;36m<module>\u001b[0;34m\u001b[0m\n\u001b[1;32m      1\u001b[0m \u001b[0mprint\u001b[0m\u001b[0;34m(\u001b[0m\u001b[0mtype\u001b[0m\u001b[0;34m(\u001b[0m\u001b[0mt1\u001b[0m\u001b[0;34m[\u001b[0m\u001b[0;36m1\u001b[0m\u001b[0;34m]\u001b[0m\u001b[0;34m)\u001b[0m\u001b[0;34m)\u001b[0m\u001b[0;34m\u001b[0m\u001b[0m\n\u001b[1;32m      2\u001b[0m \u001b[0;34m\u001b[0m\u001b[0m\n\u001b[0;32m----> 3\u001b[0;31m \u001b[0mt1\u001b[0m \u001b[0;34m+\u001b[0m \u001b[0mt1\u001b[0m\u001b[0;34m[\u001b[0m\u001b[0;36m1\u001b[0m\u001b[0;34m]\u001b[0m\u001b[0;34m\u001b[0m\u001b[0m\n\u001b[0m\u001b[1;32m      4\u001b[0m \u001b[0;31m#t1의 두번째 값을 가져오면 int 형으로 가져오므로 더하기를 하면 에러가 발생한다.\u001b[0m\u001b[0;34m\u001b[0m\u001b[0;34m\u001b[0m\u001b[0m\n",
      "\u001b[0;31mTypeError\u001b[0m: can only concatenate tuple (not \"int\") to tuple"
     ]
    }
   ],
   "source": [
    "print(type(t1[1]))\n",
    "t1 + t1[1]\n",
    "#t1의 두번째 값을 가져오면 int 형으로 가져오므로 더하기를 하면 에러가 발생한다."
   ]
  },
  {
   "cell_type": "code",
   "execution_count": 156,
   "metadata": {},
   "outputs": [
    {
     "name": "stdout",
     "output_type": "stream",
     "text": [
      "<class 'tuple'>\n"
     ]
    },
    {
     "data": {
      "text/plain": [
       "(1, 2, 3, 4, 5, 2)"
      ]
     },
     "execution_count": 156,
     "metadata": {},
     "output_type": "execute_result"
    }
   ],
   "source": [
    "# 하기와 같이 tuple type 으로 받아서 더하기를 하여야 한다.\n",
    "print(type(t1[1:2]))\n",
    "t1 + t1[1:2]"
   ]
  },
  {
   "cell_type": "markdown",
   "metadata": {},
   "source": [
    "---"
   ]
  },
  {
   "cell_type": "markdown",
   "metadata": {},
   "source": [
    "### 3. 딕셔너리"
   ]
  },
  {
   "cell_type": "markdown",
   "metadata": {},
   "source": [
    "#### 딕셔너리 자료형에는 중괄호 {} 가 쓰인다. 딕셔너리(Dictionary) 자료형은 Key 값과 Value 값들이 짝지어서 이루어져 있으며, Key 값을 이용하여 각각의 Value 값을 가져올 수 있다."
   ]
  },
  {
   "cell_type": "code",
   "execution_count": 185,
   "metadata": {},
   "outputs": [
    {
     "name": "stdout",
     "output_type": "stream",
     "text": [
      "{'name': 'john'}\n"
     ]
    }
   ],
   "source": [
    "dic = {'name' : 'john'}\n",
    "print(dic)"
   ]
  },
  {
   "cell_type": "code",
   "execution_count": 195,
   "metadata": {},
   "outputs": [
    {
     "name": "stdout",
     "output_type": "stream",
     "text": [
      "dic[name]:    john \n",
      "dic.get(name) john\n"
     ]
    }
   ],
   "source": [
    "print('dic[''name'']:   ', dic['name'], '\\ndic.get(''name'')', dic.get('name'))"
   ]
  },
  {
   "cell_type": "code",
   "execution_count": 202,
   "metadata": {},
   "outputs": [],
   "source": [
    "# 존재하지 않는 Key로 Value값을 가져오려할 때, \n",
    "# dic[키값] 방법은 Key 오류가 발생하고, get함수는 None을 리턴한다"
   ]
  },
  {
   "cell_type": "code",
   "execution_count": 201,
   "metadata": {},
   "outputs": [
    {
     "ename": "KeyError",
     "evalue": "'age'",
     "output_type": "error",
     "traceback": [
      "\u001b[0;31m---------------------------------------------------------------------------\u001b[0m",
      "\u001b[0;31mKeyError\u001b[0m                                  Traceback (most recent call last)",
      "\u001b[0;32m<ipython-input-201-777aeacafc2e>\u001b[0m in \u001b[0;36m<module>\u001b[0;34m\u001b[0m\n\u001b[0;32m----> 1\u001b[0;31m \u001b[0mprint\u001b[0m\u001b[0;34m(\u001b[0m\u001b[0mdic\u001b[0m\u001b[0;34m[\u001b[0m\u001b[0;34m'age'\u001b[0m\u001b[0;34m]\u001b[0m\u001b[0;34m)\u001b[0m\u001b[0;34m\u001b[0m\u001b[0m\n\u001b[0m",
      "\u001b[0;31mKeyError\u001b[0m: 'age'"
     ]
    }
   ],
   "source": [
    "print(dic['age'])"
   ]
  },
  {
   "cell_type": "code",
   "execution_count": 207,
   "metadata": {},
   "outputs": [
    {
     "name": "stdout",
     "output_type": "stream",
     "text": [
      "None\n",
      "Default Value\n"
     ]
    }
   ],
   "source": [
    "print(dic.get('age'))\n",
    "print(dic.get('age','Default Value')) # None 값 default value 처리 가능"
   ]
  },
  {
   "cell_type": "code",
   "execution_count": 65,
   "metadata": {},
   "outputs": [
    {
     "data": {
      "text/plain": [
       "'james'"
      ]
     },
     "execution_count": 65,
     "metadata": {},
     "output_type": "execute_result"
    }
   ],
   "source": [
    "# 동일한 key 를 중복으로 넣으면 마지막 값으로 업데이트 처리된다.\n",
    "dic = {'name':'john', 'name':'james'} \n",
    "dic.get('name')"
   ]
  },
  {
   "cell_type": "markdown",
   "metadata": {},
   "source": [
    "##### 새로운 Key 값과 Value 값 추가 가능"
   ]
  },
  {
   "cell_type": "code",
   "execution_count": 52,
   "metadata": {},
   "outputs": [],
   "source": [
    "dic = {'name':'john'}"
   ]
  },
  {
   "cell_type": "code",
   "execution_count": 53,
   "metadata": {},
   "outputs": [
    {
     "data": {
      "text/plain": [
       "{'name': 'john', 'phone': '01099998282'}"
      ]
     },
     "execution_count": 53,
     "metadata": {},
     "output_type": "execute_result"
    }
   ],
   "source": [
    "dic['phone'] = '01099998282'\n",
    "dic"
   ]
  },
  {
   "cell_type": "code",
   "execution_count": 16,
   "metadata": {},
   "outputs": [
    {
     "name": "stdout",
     "output_type": "stream",
     "text": [
      "dict_keys(['name', 'phone'])\n",
      "['name', 'phone']\n"
     ]
    }
   ],
   "source": [
    "#파이썬 3.0부터는 메모리 낭비를 줄이기 위해 리스트가 아닌 \n",
    "# dcit_keys라는 객체를 리턴해준다. 만약 이전 버전에서처럼 리스트를 리턴받고싶으면,\n",
    "# list(dic.keys())를 사용하면 된다.dcit_values와 dcit_items도 마찬가지.\n",
    "print(dic.keys())\n",
    "print(list(dic.keys()))"
   ]
  },
  {
   "cell_type": "code",
   "execution_count": 55,
   "metadata": {},
   "outputs": [
    {
     "data": {
      "text/plain": [
       "True"
      ]
     },
     "execution_count": 55,
     "metadata": {},
     "output_type": "execute_result"
    }
   ],
   "source": [
    "# 해당 Key 값이 딕셔너리 안에 있는지 조사하기\n",
    "'name' in dic.keys()"
   ]
  },
  {
   "cell_type": "code",
   "execution_count": 58,
   "metadata": {},
   "outputs": [
    {
     "data": {
      "text/plain": [
       "True"
      ]
     },
     "execution_count": 58,
     "metadata": {},
     "output_type": "execute_result"
    }
   ],
   "source": [
    "# 해당 Value 값이 딕셔너리 안에 있는지 조사하기\n",
    "'john' in dic.values()"
   ]
  },
  {
   "cell_type": "code",
   "execution_count": 39,
   "metadata": {},
   "outputs": [
    {
     "data": {
      "text/plain": [
       "{}"
      ]
     },
     "execution_count": 39,
     "metadata": {},
     "output_type": "execute_result"
    }
   ],
   "source": [
    "# Key, Value 값 전부 지우기\n",
    "# 딕셔너리의 모든 요소를 삭제한다. 빈 딕셔너리는 {}로 표현된다.\n",
    "dic.clear()\n",
    "dic"
   ]
  },
  {
   "cell_type": "markdown",
   "metadata": {},
   "source": [
    "### 4. 집합"
   ]
  },
  {
   "cell_type": "markdown",
   "metadata": {},
   "source": [
    "##### 집합 자료형은 set 키워드를 통해 만들 수 있다."
   ]
  },
  {
   "cell_type": "code",
   "execution_count": 77,
   "metadata": {},
   "outputs": [],
   "source": [
    "s1 = set([1,2,3])\n",
    "s2 = set('hello')"
   ]
  },
  {
   "cell_type": "code",
   "execution_count": 80,
   "metadata": {},
   "outputs": [
    {
     "name": "stdout",
     "output_type": "stream",
     "text": [
      "{1, 2, 3}\n",
      "{'o', 'h', 'e', 'l'}\n"
     ]
    }
   ],
   "source": [
    "print(s1)\n",
    "print(s2)"
   ]
  },
  {
   "cell_type": "markdown",
   "metadata": {},
   "source": [
    "#### 집합 자료형의 특징\n",
    "1. 중복을 허용하지 않는다.\n",
    "2. 순서가 없다. (unordered)"
   ]
  },
  {
   "cell_type": "markdown",
   "metadata": {},
   "source": [
    "##### 딕셔너리나 집합과 같은 순서가 없는 자료형에서는 인덱싱을 통해 값을 얻어낼 수가 없다. 그래서 집합을 인덱싱하고 싶을 때는 아래에서처럼 리스트나 튜플의 형태로 변환해 주어야 한다."
   ]
  },
  {
   "cell_type": "code",
   "execution_count": 95,
   "metadata": {},
   "outputs": [
    {
     "name": "stdout",
     "output_type": "stream",
     "text": [
      "[2, 3]\n",
      "['o', 'h', 'e', 'l']\n"
     ]
    }
   ],
   "source": [
    "print(list(s1))\n",
    "print(list(s2))"
   ]
  },
  {
   "cell_type": "code",
   "execution_count": 91,
   "metadata": {},
   "outputs": [
    {
     "name": "stdout",
     "output_type": "stream",
     "text": [
      "(2, 3)\n",
      "('h', 'e', 'l')\n"
     ]
    }
   ],
   "source": [
    "print(tuple(s1)[1:])\n",
    "print(tuple(s2)[1:])"
   ]
  },
  {
   "cell_type": "markdown",
   "metadata": {},
   "source": [
    "##### 집합 자료형은 이름이 집합이니 만큼 우리가 중학교 고등학교때 배웠던 교집합, 합집합, 차집합을 해줄 수 있다."
   ]
  },
  {
   "cell_type": "code",
   "execution_count": 96,
   "metadata": {},
   "outputs": [],
   "source": [
    "s1 = set([1,2,3,4,5,6])\n",
    "s2 = set([4,5,6,7,8,9])"
   ]
  },
  {
   "cell_type": "code",
   "execution_count": 105,
   "metadata": {},
   "outputs": [
    {
     "name": "stdout",
     "output_type": "stream",
     "text": [
      "s1 & s2:  {4, 5, 6}\n",
      "s1.intersection(s2):  {4, 5, 6}\n",
      "s1 | s2:  {1, 2, 3, 4, 5, 6, 7, 8, 9}\n",
      "s1.union(s2):  {1, 2, 3, 4, 5, 6, 7, 8, 9}\n",
      "s1 - s2:  {1, 2, 3}\n",
      "s1.difference(s2):  {1, 2, 3}\n"
     ]
    }
   ],
   "source": [
    "# 교집합 구하기\n",
    "print('s1 & s2: ', s1 & s2)\n",
    "print('s1.intersection(s2): ', s1.intersection(s2))\n",
    "\n",
    "# 합집합 구하기\n",
    "print('s1 | s2: ', s1 | s2)\n",
    "print('s1.union(s2): ', s1.union(s2))\n",
    "\n",
    "# 차집합 구하기\n",
    "print('s1 - s2: ', s1 - s2)\n",
    "print('s1.difference(s2): ', s1.difference(s2))"
   ]
  },
  {
   "cell_type": "markdown",
   "metadata": {},
   "source": [
    "#### 집합 자료형에 값을 추가하거나 삭제할 수 있다."
   ]
  },
  {
   "cell_type": "code",
   "execution_count": 109,
   "metadata": {},
   "outputs": [
    {
     "data": {
      "text/plain": [
       "{1, 2, 3, 4, 5}"
      ]
     },
     "execution_count": 109,
     "metadata": {},
     "output_type": "execute_result"
    }
   ],
   "source": [
    "# 값 1개 추가하기\n",
    "s1 = set([1,2,3,4])\n",
    "s1.add(5)\n",
    "s1"
   ]
  },
  {
   "cell_type": "code",
   "execution_count": 110,
   "metadata": {},
   "outputs": [
    {
     "data": {
      "text/plain": [
       "{1, 2, 3, 4, 5, 6, 7}"
      ]
     },
     "execution_count": 110,
     "metadata": {},
     "output_type": "execute_result"
    }
   ],
   "source": [
    "# 값 여러개 추가하기\n",
    "s1 = set([1,2,3,4])\n",
    "s1.update([5,6,7])\n",
    "s1"
   ]
  },
  {
   "cell_type": "code",
   "execution_count": 119,
   "metadata": {},
   "outputs": [
    {
     "data": {
      "text/plain": [
       "{2, 3, 4}"
      ]
     },
     "execution_count": 119,
     "metadata": {},
     "output_type": "execute_result"
    }
   ],
   "source": [
    "# 특정 값 제거하기\n",
    "s1 = set([1,2,3,4])\n",
    "s1.remove(1)\n",
    "s1"
   ]
  }
 ],
 "metadata": {
  "kernelspec": {
   "display_name": "Python 3",
   "language": "python",
   "name": "python3"
  },
  "language_info": {
   "codemirror_mode": {
    "name": "ipython",
    "version": 3
   },
   "file_extension": ".py",
   "mimetype": "text/x-python",
   "name": "python",
   "nbconvert_exporter": "python",
   "pygments_lexer": "ipython3",
   "version": "3.6.6"
  }
 },
 "nbformat": 4,
 "nbformat_minor": 2
}
