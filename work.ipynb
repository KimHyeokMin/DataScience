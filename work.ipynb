{
 "cells": [
  {
   "cell_type": "code",
   "execution_count": 18,
   "metadata": {
    "collapsed": false
   },
   "outputs": [],
   "source": [
    "#문제1: 문자열 속 숫자들의 합 구하기"
   ]
  },
  {
   "cell_type": "code",
   "execution_count": 197,
   "metadata": {
    "collapsed": false
   },
   "outputs": [
    {
     "data": {
      "text/plain": [
       "True"
      ]
     },
     "execution_count": 197,
     "metadata": {},
     "output_type": "execute_result"
    }
   ],
   "source": [
    "import arrow\n",
    "def until_new_year():\n",
    "    #한국 시간 기준으로 설날에서 현재시간을 차감.\n",
    "    result = arrow.get('2017-01-30 00:00').replace(tzinfo='Asia/Seoul') - arrow.now().to('Asia/Seoul')\n",
    "    #결과를 day 타입으로 변경하여 리턴\n",
    "    return result.days\n",
    "until_new_year() == 98\n",
    "#assert until_new_year() == 98"
   ]
  },
  {
   "cell_type": "code",
   "execution_count": 198,
   "metadata": {
    "collapsed": true
   },
   "outputs": [],
   "source": [
    "#문제2: 설날까지 남은 시간"
   ]
  },
  {
   "cell_type": "code",
   "execution_count": 162,
   "metadata": {
    "collapsed": false
   },
   "outputs": [
    {
     "data": {
      "text/plain": [
       "True"
      ]
     },
     "execution_count": 162,
     "metadata": {},
     "output_type": "execute_result"
    }
   ],
   "source": [
    "def sum_str(x):\n",
    "    #split 함수를 이용하여 구분자로 데이터를 자른다.\n",
    "    #list(map()) 을 이용하여 전체에 대해 int(숫자형)형으로 변경한다.\n",
    "    #sum 함수를 이용하여 전체 합산\n",
    "    result = sum(list(map(int,x.split(','))))\n",
    "    return result\n",
    "sum_str('1,7,4,6,2') == 20\n",
    "#assert sum_str('1,7,4,6,2') == 20"
   ]
  },
  {
   "cell_type": "code",
   "execution_count": 201,
   "metadata": {
    "collapsed": false
   },
   "outputs": [],
   "source": [
    "#문제3: UserAgentString 분석"
   ]
  },
  {
   "cell_type": "code",
   "execution_count": 226,
   "metadata": {
    "collapsed": false
   },
   "outputs": [
    {
     "data": {
      "text/plain": [
       "True"
      ]
     },
     "execution_count": 226,
     "metadata": {},
     "output_type": "execute_result"
    }
   ],
   "source": [
    "def ua_string(x):\n",
    "    if 'Chrome' in x:\n",
    "        return('C')\n",
    "    elif 'Safari' in x:\n",
    "        return('S')\n",
    "    elif 'Firefox' in x:\n",
    "        return('F')\n",
    "    else:\n",
    "        return('I')\n",
    "\n",
    "#assert ua_string('Mozilla/5.0 (compatible; MSIE 10.0; Windows NT 6.1; Trident/6.0)') == 'I'\n",
    "ua_string('Mozilla/5.0 (compatible; MSIE 10.0; Windows NT 6.1; Trident/6.0)') == 'I'"
   ]
  },
  {
   "cell_type": "code",
   "execution_count": 228,
   "metadata": {
    "collapsed": true
   },
   "outputs": [],
   "source": [
    "#문제4: 결측값 제거"
   ]
  },
  {
   "cell_type": "code",
   "execution_count": 28,
   "metadata": {
    "collapsed": true
   },
   "outputs": [],
   "source": [
    "import pandas\n",
    "import numpy"
   ]
  },
  {
   "cell_type": "code",
   "execution_count": 30,
   "metadata": {
    "collapsed": false
   },
   "outputs": [],
   "source": [
    "d = pandas.DataFrame({'a': [1, numpy.nan, numpy.nan],  'b': [3, 4, numpy.nan]})"
   ]
  },
  {
   "cell_type": "code",
   "execution_count": 31,
   "metadata": {
    "collapsed": false
   },
   "outputs": [
    {
     "data": {
      "text/html": [
       "<div>\n",
       "<table border=\"1\" class=\"dataframe\">\n",
       "  <thead>\n",
       "    <tr style=\"text-align: right;\">\n",
       "      <th></th>\n",
       "      <th>a</th>\n",
       "      <th>b</th>\n",
       "    </tr>\n",
       "  </thead>\n",
       "  <tbody>\n",
       "    <tr>\n",
       "      <th>0</th>\n",
       "      <td>1.0</td>\n",
       "      <td>3.0</td>\n",
       "    </tr>\n",
       "    <tr>\n",
       "      <th>1</th>\n",
       "      <td>NaN</td>\n",
       "      <td>4.0</td>\n",
       "    </tr>\n",
       "    <tr>\n",
       "      <th>2</th>\n",
       "      <td>NaN</td>\n",
       "      <td>NaN</td>\n",
       "    </tr>\n",
       "  </tbody>\n",
       "</table>\n",
       "</div>"
      ],
      "text/plain": [
       "     a    b\n",
       "0  1.0  3.0\n",
       "1  NaN  4.0\n",
       "2  NaN  NaN"
      ]
     },
     "execution_count": 31,
     "metadata": {},
     "output_type": "execute_result"
    }
   ],
   "source": [
    "d"
   ]
  },
  {
   "cell_type": "code",
   "execution_count": 4,
   "metadata": {
    "collapsed": false
   },
   "outputs": [],
   "source": [
    "#####선형모형#####"
   ]
  },
  {
   "cell_type": "code",
   "execution_count": 6,
   "metadata": {
    "collapsed": true
   },
   "outputs": [],
   "source": [
    "import pandas"
   ]
  },
  {
   "cell_type": "code",
   "execution_count": 8,
   "metadata": {
    "collapsed": true
   },
   "outputs": [],
   "source": [
    "automobile = pandas.read_csv('automobile.csv')"
   ]
  },
  {
   "cell_type": "code",
   "execution_count": 10,
   "metadata": {
    "collapsed": false,
    "scrolled": true
   },
   "outputs": [
    {
     "data": {
      "text/html": [
       "<div>\n",
       "<table border=\"1\" class=\"dataframe\">\n",
       "  <thead>\n",
       "    <tr style=\"text-align: right;\">\n",
       "      <th></th>\n",
       "      <th>symboling</th>\n",
       "      <th>normalized_losses</th>\n",
       "      <th>maker</th>\n",
       "      <th>fuel</th>\n",
       "      <th>aspiration</th>\n",
       "      <th>doors</th>\n",
       "      <th>body</th>\n",
       "      <th>wheels</th>\n",
       "      <th>engine_location</th>\n",
       "      <th>wheel_base</th>\n",
       "      <th>...</th>\n",
       "      <th>engine_size</th>\n",
       "      <th>fuel_system</th>\n",
       "      <th>bore</th>\n",
       "      <th>stroke</th>\n",
       "      <th>compression_ratio</th>\n",
       "      <th>horsepower</th>\n",
       "      <th>peak_rpm</th>\n",
       "      <th>city_mpg</th>\n",
       "      <th>highway_mpg</th>\n",
       "      <th>price</th>\n",
       "    </tr>\n",
       "  </thead>\n",
       "  <tbody>\n",
       "    <tr>\n",
       "      <th>0</th>\n",
       "      <td>2</td>\n",
       "      <td>164</td>\n",
       "      <td>audi</td>\n",
       "      <td>gas</td>\n",
       "      <td>std</td>\n",
       "      <td>four</td>\n",
       "      <td>sedan</td>\n",
       "      <td>fwd</td>\n",
       "      <td>front</td>\n",
       "      <td>99.8</td>\n",
       "      <td>...</td>\n",
       "      <td>109</td>\n",
       "      <td>mpfi</td>\n",
       "      <td>3.19</td>\n",
       "      <td>3.40</td>\n",
       "      <td>10.00</td>\n",
       "      <td>102</td>\n",
       "      <td>5500</td>\n",
       "      <td>24</td>\n",
       "      <td>30</td>\n",
       "      <td>13950</td>\n",
       "    </tr>\n",
       "    <tr>\n",
       "      <th>1</th>\n",
       "      <td>2</td>\n",
       "      <td>164</td>\n",
       "      <td>audi</td>\n",
       "      <td>gas</td>\n",
       "      <td>std</td>\n",
       "      <td>four</td>\n",
       "      <td>sedan</td>\n",
       "      <td>4wd</td>\n",
       "      <td>front</td>\n",
       "      <td>99.4</td>\n",
       "      <td>...</td>\n",
       "      <td>136</td>\n",
       "      <td>mpfi</td>\n",
       "      <td>3.19</td>\n",
       "      <td>3.40</td>\n",
       "      <td>8.00</td>\n",
       "      <td>115</td>\n",
       "      <td>5500</td>\n",
       "      <td>18</td>\n",
       "      <td>22</td>\n",
       "      <td>17450</td>\n",
       "    </tr>\n",
       "    <tr>\n",
       "      <th>2</th>\n",
       "      <td>1</td>\n",
       "      <td>158</td>\n",
       "      <td>audi</td>\n",
       "      <td>gas</td>\n",
       "      <td>std</td>\n",
       "      <td>four</td>\n",
       "      <td>sedan</td>\n",
       "      <td>fwd</td>\n",
       "      <td>front</td>\n",
       "      <td>105.8</td>\n",
       "      <td>...</td>\n",
       "      <td>136</td>\n",
       "      <td>mpfi</td>\n",
       "      <td>3.19</td>\n",
       "      <td>3.40</td>\n",
       "      <td>8.50</td>\n",
       "      <td>110</td>\n",
       "      <td>5500</td>\n",
       "      <td>19</td>\n",
       "      <td>25</td>\n",
       "      <td>17710</td>\n",
       "    </tr>\n",
       "    <tr>\n",
       "      <th>3</th>\n",
       "      <td>1</td>\n",
       "      <td>158</td>\n",
       "      <td>audi</td>\n",
       "      <td>gas</td>\n",
       "      <td>turbo</td>\n",
       "      <td>four</td>\n",
       "      <td>sedan</td>\n",
       "      <td>fwd</td>\n",
       "      <td>front</td>\n",
       "      <td>105.8</td>\n",
       "      <td>...</td>\n",
       "      <td>131</td>\n",
       "      <td>mpfi</td>\n",
       "      <td>3.13</td>\n",
       "      <td>3.40</td>\n",
       "      <td>8.30</td>\n",
       "      <td>140</td>\n",
       "      <td>5500</td>\n",
       "      <td>17</td>\n",
       "      <td>20</td>\n",
       "      <td>23875</td>\n",
       "    </tr>\n",
       "    <tr>\n",
       "      <th>4</th>\n",
       "      <td>2</td>\n",
       "      <td>192</td>\n",
       "      <td>bmw</td>\n",
       "      <td>gas</td>\n",
       "      <td>std</td>\n",
       "      <td>two</td>\n",
       "      <td>sedan</td>\n",
       "      <td>rwd</td>\n",
       "      <td>front</td>\n",
       "      <td>101.2</td>\n",
       "      <td>...</td>\n",
       "      <td>108</td>\n",
       "      <td>mpfi</td>\n",
       "      <td>3.50</td>\n",
       "      <td>2.80</td>\n",
       "      <td>8.80</td>\n",
       "      <td>101</td>\n",
       "      <td>5800</td>\n",
       "      <td>23</td>\n",
       "      <td>29</td>\n",
       "      <td>16430</td>\n",
       "    </tr>\n",
       "    <tr>\n",
       "      <th>5</th>\n",
       "      <td>0</td>\n",
       "      <td>192</td>\n",
       "      <td>bmw</td>\n",
       "      <td>gas</td>\n",
       "      <td>std</td>\n",
       "      <td>four</td>\n",
       "      <td>sedan</td>\n",
       "      <td>rwd</td>\n",
       "      <td>front</td>\n",
       "      <td>101.2</td>\n",
       "      <td>...</td>\n",
       "      <td>108</td>\n",
       "      <td>mpfi</td>\n",
       "      <td>3.50</td>\n",
       "      <td>2.80</td>\n",
       "      <td>8.80</td>\n",
       "      <td>101</td>\n",
       "      <td>5800</td>\n",
       "      <td>23</td>\n",
       "      <td>29</td>\n",
       "      <td>16925</td>\n",
       "    </tr>\n",
       "    <tr>\n",
       "      <th>6</th>\n",
       "      <td>0</td>\n",
       "      <td>188</td>\n",
       "      <td>bmw</td>\n",
       "      <td>gas</td>\n",
       "      <td>std</td>\n",
       "      <td>two</td>\n",
       "      <td>sedan</td>\n",
       "      <td>rwd</td>\n",
       "      <td>front</td>\n",
       "      <td>101.2</td>\n",
       "      <td>...</td>\n",
       "      <td>164</td>\n",
       "      <td>mpfi</td>\n",
       "      <td>3.31</td>\n",
       "      <td>3.19</td>\n",
       "      <td>9.00</td>\n",
       "      <td>121</td>\n",
       "      <td>4250</td>\n",
       "      <td>21</td>\n",
       "      <td>28</td>\n",
       "      <td>20970</td>\n",
       "    </tr>\n",
       "    <tr>\n",
       "      <th>7</th>\n",
       "      <td>0</td>\n",
       "      <td>188</td>\n",
       "      <td>bmw</td>\n",
       "      <td>gas</td>\n",
       "      <td>std</td>\n",
       "      <td>four</td>\n",
       "      <td>sedan</td>\n",
       "      <td>rwd</td>\n",
       "      <td>front</td>\n",
       "      <td>101.2</td>\n",
       "      <td>...</td>\n",
       "      <td>164</td>\n",
       "      <td>mpfi</td>\n",
       "      <td>3.31</td>\n",
       "      <td>3.19</td>\n",
       "      <td>9.00</td>\n",
       "      <td>121</td>\n",
       "      <td>4250</td>\n",
       "      <td>21</td>\n",
       "      <td>28</td>\n",
       "      <td>21105</td>\n",
       "    </tr>\n",
       "    <tr>\n",
       "      <th>8</th>\n",
       "      <td>2</td>\n",
       "      <td>121</td>\n",
       "      <td>chevrolet</td>\n",
       "      <td>gas</td>\n",
       "      <td>std</td>\n",
       "      <td>two</td>\n",
       "      <td>hatchback</td>\n",
       "      <td>fwd</td>\n",
       "      <td>front</td>\n",
       "      <td>88.4</td>\n",
       "      <td>...</td>\n",
       "      <td>61</td>\n",
       "      <td>2bbl</td>\n",
       "      <td>2.91</td>\n",
       "      <td>3.03</td>\n",
       "      <td>9.50</td>\n",
       "      <td>48</td>\n",
       "      <td>5100</td>\n",
       "      <td>47</td>\n",
       "      <td>53</td>\n",
       "      <td>5151</td>\n",
       "    </tr>\n",
       "    <tr>\n",
       "      <th>9</th>\n",
       "      <td>1</td>\n",
       "      <td>98</td>\n",
       "      <td>chevrolet</td>\n",
       "      <td>gas</td>\n",
       "      <td>std</td>\n",
       "      <td>two</td>\n",
       "      <td>hatchback</td>\n",
       "      <td>fwd</td>\n",
       "      <td>front</td>\n",
       "      <td>94.5</td>\n",
       "      <td>...</td>\n",
       "      <td>90</td>\n",
       "      <td>2bbl</td>\n",
       "      <td>3.03</td>\n",
       "      <td>3.11</td>\n",
       "      <td>9.60</td>\n",
       "      <td>70</td>\n",
       "      <td>5400</td>\n",
       "      <td>38</td>\n",
       "      <td>43</td>\n",
       "      <td>6295</td>\n",
       "    </tr>\n",
       "    <tr>\n",
       "      <th>10</th>\n",
       "      <td>0</td>\n",
       "      <td>81</td>\n",
       "      <td>chevrolet</td>\n",
       "      <td>gas</td>\n",
       "      <td>std</td>\n",
       "      <td>four</td>\n",
       "      <td>sedan</td>\n",
       "      <td>fwd</td>\n",
       "      <td>front</td>\n",
       "      <td>94.5</td>\n",
       "      <td>...</td>\n",
       "      <td>90</td>\n",
       "      <td>2bbl</td>\n",
       "      <td>3.03</td>\n",
       "      <td>3.11</td>\n",
       "      <td>9.60</td>\n",
       "      <td>70</td>\n",
       "      <td>5400</td>\n",
       "      <td>38</td>\n",
       "      <td>43</td>\n",
       "      <td>6575</td>\n",
       "    </tr>\n",
       "    <tr>\n",
       "      <th>11</th>\n",
       "      <td>1</td>\n",
       "      <td>118</td>\n",
       "      <td>dodge</td>\n",
       "      <td>gas</td>\n",
       "      <td>std</td>\n",
       "      <td>two</td>\n",
       "      <td>hatchback</td>\n",
       "      <td>fwd</td>\n",
       "      <td>front</td>\n",
       "      <td>93.7</td>\n",
       "      <td>...</td>\n",
       "      <td>90</td>\n",
       "      <td>2bbl</td>\n",
       "      <td>2.97</td>\n",
       "      <td>3.23</td>\n",
       "      <td>9.41</td>\n",
       "      <td>68</td>\n",
       "      <td>5500</td>\n",
       "      <td>37</td>\n",
       "      <td>41</td>\n",
       "      <td>5572</td>\n",
       "    </tr>\n",
       "    <tr>\n",
       "      <th>12</th>\n",
       "      <td>1</td>\n",
       "      <td>118</td>\n",
       "      <td>dodge</td>\n",
       "      <td>gas</td>\n",
       "      <td>std</td>\n",
       "      <td>two</td>\n",
       "      <td>hatchback</td>\n",
       "      <td>fwd</td>\n",
       "      <td>front</td>\n",
       "      <td>93.7</td>\n",
       "      <td>...</td>\n",
       "      <td>90</td>\n",
       "      <td>2bbl</td>\n",
       "      <td>2.97</td>\n",
       "      <td>3.23</td>\n",
       "      <td>9.40</td>\n",
       "      <td>68</td>\n",
       "      <td>5500</td>\n",
       "      <td>31</td>\n",
       "      <td>38</td>\n",
       "      <td>6377</td>\n",
       "    </tr>\n",
       "    <tr>\n",
       "      <th>13</th>\n",
       "      <td>1</td>\n",
       "      <td>118</td>\n",
       "      <td>dodge</td>\n",
       "      <td>gas</td>\n",
       "      <td>turbo</td>\n",
       "      <td>two</td>\n",
       "      <td>hatchback</td>\n",
       "      <td>fwd</td>\n",
       "      <td>front</td>\n",
       "      <td>93.7</td>\n",
       "      <td>...</td>\n",
       "      <td>98</td>\n",
       "      <td>mpfi</td>\n",
       "      <td>3.03</td>\n",
       "      <td>3.39</td>\n",
       "      <td>7.60</td>\n",
       "      <td>102</td>\n",
       "      <td>5500</td>\n",
       "      <td>24</td>\n",
       "      <td>30</td>\n",
       "      <td>7957</td>\n",
       "    </tr>\n",
       "    <tr>\n",
       "      <th>14</th>\n",
       "      <td>1</td>\n",
       "      <td>148</td>\n",
       "      <td>dodge</td>\n",
       "      <td>gas</td>\n",
       "      <td>std</td>\n",
       "      <td>four</td>\n",
       "      <td>hatchback</td>\n",
       "      <td>fwd</td>\n",
       "      <td>front</td>\n",
       "      <td>93.7</td>\n",
       "      <td>...</td>\n",
       "      <td>90</td>\n",
       "      <td>2bbl</td>\n",
       "      <td>2.97</td>\n",
       "      <td>3.23</td>\n",
       "      <td>9.40</td>\n",
       "      <td>68</td>\n",
       "      <td>5500</td>\n",
       "      <td>31</td>\n",
       "      <td>38</td>\n",
       "      <td>6229</td>\n",
       "    </tr>\n",
       "    <tr>\n",
       "      <th>15</th>\n",
       "      <td>1</td>\n",
       "      <td>148</td>\n",
       "      <td>dodge</td>\n",
       "      <td>gas</td>\n",
       "      <td>std</td>\n",
       "      <td>four</td>\n",
       "      <td>sedan</td>\n",
       "      <td>fwd</td>\n",
       "      <td>front</td>\n",
       "      <td>93.7</td>\n",
       "      <td>...</td>\n",
       "      <td>90</td>\n",
       "      <td>2bbl</td>\n",
       "      <td>2.97</td>\n",
       "      <td>3.23</td>\n",
       "      <td>9.40</td>\n",
       "      <td>68</td>\n",
       "      <td>5500</td>\n",
       "      <td>31</td>\n",
       "      <td>38</td>\n",
       "      <td>6692</td>\n",
       "    </tr>\n",
       "    <tr>\n",
       "      <th>16</th>\n",
       "      <td>1</td>\n",
       "      <td>148</td>\n",
       "      <td>dodge</td>\n",
       "      <td>gas</td>\n",
       "      <td>std</td>\n",
       "      <td>four</td>\n",
       "      <td>sedan</td>\n",
       "      <td>fwd</td>\n",
       "      <td>front</td>\n",
       "      <td>93.7</td>\n",
       "      <td>...</td>\n",
       "      <td>90</td>\n",
       "      <td>2bbl</td>\n",
       "      <td>2.97</td>\n",
       "      <td>3.23</td>\n",
       "      <td>9.40</td>\n",
       "      <td>68</td>\n",
       "      <td>5500</td>\n",
       "      <td>31</td>\n",
       "      <td>38</td>\n",
       "      <td>7609</td>\n",
       "    </tr>\n",
       "    <tr>\n",
       "      <th>17</th>\n",
       "      <td>-1</td>\n",
       "      <td>110</td>\n",
       "      <td>dodge</td>\n",
       "      <td>gas</td>\n",
       "      <td>std</td>\n",
       "      <td>four</td>\n",
       "      <td>wagon</td>\n",
       "      <td>fwd</td>\n",
       "      <td>front</td>\n",
       "      <td>103.3</td>\n",
       "      <td>...</td>\n",
       "      <td>122</td>\n",
       "      <td>2bbl</td>\n",
       "      <td>3.34</td>\n",
       "      <td>3.46</td>\n",
       "      <td>8.50</td>\n",
       "      <td>88</td>\n",
       "      <td>5000</td>\n",
       "      <td>24</td>\n",
       "      <td>30</td>\n",
       "      <td>8921</td>\n",
       "    </tr>\n",
       "    <tr>\n",
       "      <th>18</th>\n",
       "      <td>3</td>\n",
       "      <td>145</td>\n",
       "      <td>dodge</td>\n",
       "      <td>gas</td>\n",
       "      <td>turbo</td>\n",
       "      <td>two</td>\n",
       "      <td>hatchback</td>\n",
       "      <td>fwd</td>\n",
       "      <td>front</td>\n",
       "      <td>95.9</td>\n",
       "      <td>...</td>\n",
       "      <td>156</td>\n",
       "      <td>mfi</td>\n",
       "      <td>3.60</td>\n",
       "      <td>3.90</td>\n",
       "      <td>7.00</td>\n",
       "      <td>145</td>\n",
       "      <td>5000</td>\n",
       "      <td>19</td>\n",
       "      <td>24</td>\n",
       "      <td>12964</td>\n",
       "    </tr>\n",
       "    <tr>\n",
       "      <th>19</th>\n",
       "      <td>2</td>\n",
       "      <td>137</td>\n",
       "      <td>honda</td>\n",
       "      <td>gas</td>\n",
       "      <td>std</td>\n",
       "      <td>two</td>\n",
       "      <td>hatchback</td>\n",
       "      <td>fwd</td>\n",
       "      <td>front</td>\n",
       "      <td>86.6</td>\n",
       "      <td>...</td>\n",
       "      <td>92</td>\n",
       "      <td>1bbl</td>\n",
       "      <td>2.91</td>\n",
       "      <td>3.41</td>\n",
       "      <td>9.60</td>\n",
       "      <td>58</td>\n",
       "      <td>4800</td>\n",
       "      <td>49</td>\n",
       "      <td>54</td>\n",
       "      <td>6479</td>\n",
       "    </tr>\n",
       "    <tr>\n",
       "      <th>20</th>\n",
       "      <td>2</td>\n",
       "      <td>137</td>\n",
       "      <td>honda</td>\n",
       "      <td>gas</td>\n",
       "      <td>std</td>\n",
       "      <td>two</td>\n",
       "      <td>hatchback</td>\n",
       "      <td>fwd</td>\n",
       "      <td>front</td>\n",
       "      <td>86.6</td>\n",
       "      <td>...</td>\n",
       "      <td>92</td>\n",
       "      <td>1bbl</td>\n",
       "      <td>2.91</td>\n",
       "      <td>3.41</td>\n",
       "      <td>9.20</td>\n",
       "      <td>76</td>\n",
       "      <td>6000</td>\n",
       "      <td>31</td>\n",
       "      <td>38</td>\n",
       "      <td>6855</td>\n",
       "    </tr>\n",
       "    <tr>\n",
       "      <th>21</th>\n",
       "      <td>1</td>\n",
       "      <td>101</td>\n",
       "      <td>honda</td>\n",
       "      <td>gas</td>\n",
       "      <td>std</td>\n",
       "      <td>two</td>\n",
       "      <td>hatchback</td>\n",
       "      <td>fwd</td>\n",
       "      <td>front</td>\n",
       "      <td>93.7</td>\n",
       "      <td>...</td>\n",
       "      <td>79</td>\n",
       "      <td>1bbl</td>\n",
       "      <td>2.91</td>\n",
       "      <td>3.07</td>\n",
       "      <td>10.10</td>\n",
       "      <td>60</td>\n",
       "      <td>5500</td>\n",
       "      <td>38</td>\n",
       "      <td>42</td>\n",
       "      <td>5399</td>\n",
       "    </tr>\n",
       "    <tr>\n",
       "      <th>22</th>\n",
       "      <td>1</td>\n",
       "      <td>101</td>\n",
       "      <td>honda</td>\n",
       "      <td>gas</td>\n",
       "      <td>std</td>\n",
       "      <td>two</td>\n",
       "      <td>hatchback</td>\n",
       "      <td>fwd</td>\n",
       "      <td>front</td>\n",
       "      <td>93.7</td>\n",
       "      <td>...</td>\n",
       "      <td>92</td>\n",
       "      <td>1bbl</td>\n",
       "      <td>2.91</td>\n",
       "      <td>3.41</td>\n",
       "      <td>9.20</td>\n",
       "      <td>76</td>\n",
       "      <td>6000</td>\n",
       "      <td>30</td>\n",
       "      <td>34</td>\n",
       "      <td>6529</td>\n",
       "    </tr>\n",
       "    <tr>\n",
       "      <th>23</th>\n",
       "      <td>1</td>\n",
       "      <td>101</td>\n",
       "      <td>honda</td>\n",
       "      <td>gas</td>\n",
       "      <td>std</td>\n",
       "      <td>two</td>\n",
       "      <td>hatchback</td>\n",
       "      <td>fwd</td>\n",
       "      <td>front</td>\n",
       "      <td>93.7</td>\n",
       "      <td>...</td>\n",
       "      <td>92</td>\n",
       "      <td>1bbl</td>\n",
       "      <td>2.91</td>\n",
       "      <td>3.41</td>\n",
       "      <td>9.20</td>\n",
       "      <td>76</td>\n",
       "      <td>6000</td>\n",
       "      <td>30</td>\n",
       "      <td>34</td>\n",
       "      <td>7129</td>\n",
       "    </tr>\n",
       "    <tr>\n",
       "      <th>24</th>\n",
       "      <td>0</td>\n",
       "      <td>110</td>\n",
       "      <td>honda</td>\n",
       "      <td>gas</td>\n",
       "      <td>std</td>\n",
       "      <td>four</td>\n",
       "      <td>sedan</td>\n",
       "      <td>fwd</td>\n",
       "      <td>front</td>\n",
       "      <td>96.5</td>\n",
       "      <td>...</td>\n",
       "      <td>92</td>\n",
       "      <td>1bbl</td>\n",
       "      <td>2.91</td>\n",
       "      <td>3.41</td>\n",
       "      <td>9.20</td>\n",
       "      <td>76</td>\n",
       "      <td>6000</td>\n",
       "      <td>30</td>\n",
       "      <td>34</td>\n",
       "      <td>7295</td>\n",
       "    </tr>\n",
       "    <tr>\n",
       "      <th>25</th>\n",
       "      <td>0</td>\n",
       "      <td>78</td>\n",
       "      <td>honda</td>\n",
       "      <td>gas</td>\n",
       "      <td>std</td>\n",
       "      <td>four</td>\n",
       "      <td>wagon</td>\n",
       "      <td>fwd</td>\n",
       "      <td>front</td>\n",
       "      <td>96.5</td>\n",
       "      <td>...</td>\n",
       "      <td>92</td>\n",
       "      <td>1bbl</td>\n",
       "      <td>2.92</td>\n",
       "      <td>3.41</td>\n",
       "      <td>9.20</td>\n",
       "      <td>76</td>\n",
       "      <td>6000</td>\n",
       "      <td>30</td>\n",
       "      <td>34</td>\n",
       "      <td>7295</td>\n",
       "    </tr>\n",
       "    <tr>\n",
       "      <th>26</th>\n",
       "      <td>0</td>\n",
       "      <td>106</td>\n",
       "      <td>honda</td>\n",
       "      <td>gas</td>\n",
       "      <td>std</td>\n",
       "      <td>two</td>\n",
       "      <td>hatchback</td>\n",
       "      <td>fwd</td>\n",
       "      <td>front</td>\n",
       "      <td>96.5</td>\n",
       "      <td>...</td>\n",
       "      <td>110</td>\n",
       "      <td>1bbl</td>\n",
       "      <td>3.15</td>\n",
       "      <td>3.58</td>\n",
       "      <td>9.00</td>\n",
       "      <td>86</td>\n",
       "      <td>5800</td>\n",
       "      <td>27</td>\n",
       "      <td>33</td>\n",
       "      <td>7895</td>\n",
       "    </tr>\n",
       "    <tr>\n",
       "      <th>27</th>\n",
       "      <td>0</td>\n",
       "      <td>106</td>\n",
       "      <td>honda</td>\n",
       "      <td>gas</td>\n",
       "      <td>std</td>\n",
       "      <td>two</td>\n",
       "      <td>hatchback</td>\n",
       "      <td>fwd</td>\n",
       "      <td>front</td>\n",
       "      <td>96.5</td>\n",
       "      <td>...</td>\n",
       "      <td>110</td>\n",
       "      <td>1bbl</td>\n",
       "      <td>3.15</td>\n",
       "      <td>3.58</td>\n",
       "      <td>9.00</td>\n",
       "      <td>86</td>\n",
       "      <td>5800</td>\n",
       "      <td>27</td>\n",
       "      <td>33</td>\n",
       "      <td>9095</td>\n",
       "    </tr>\n",
       "    <tr>\n",
       "      <th>28</th>\n",
       "      <td>0</td>\n",
       "      <td>85</td>\n",
       "      <td>honda</td>\n",
       "      <td>gas</td>\n",
       "      <td>std</td>\n",
       "      <td>four</td>\n",
       "      <td>sedan</td>\n",
       "      <td>fwd</td>\n",
       "      <td>front</td>\n",
       "      <td>96.5</td>\n",
       "      <td>...</td>\n",
       "      <td>110</td>\n",
       "      <td>1bbl</td>\n",
       "      <td>3.15</td>\n",
       "      <td>3.58</td>\n",
       "      <td>9.00</td>\n",
       "      <td>86</td>\n",
       "      <td>5800</td>\n",
       "      <td>27</td>\n",
       "      <td>33</td>\n",
       "      <td>8845</td>\n",
       "    </tr>\n",
       "    <tr>\n",
       "      <th>29</th>\n",
       "      <td>0</td>\n",
       "      <td>85</td>\n",
       "      <td>honda</td>\n",
       "      <td>gas</td>\n",
       "      <td>std</td>\n",
       "      <td>four</td>\n",
       "      <td>sedan</td>\n",
       "      <td>fwd</td>\n",
       "      <td>front</td>\n",
       "      <td>96.5</td>\n",
       "      <td>...</td>\n",
       "      <td>110</td>\n",
       "      <td>1bbl</td>\n",
       "      <td>3.15</td>\n",
       "      <td>3.58</td>\n",
       "      <td>9.00</td>\n",
       "      <td>86</td>\n",
       "      <td>5800</td>\n",
       "      <td>27</td>\n",
       "      <td>33</td>\n",
       "      <td>10295</td>\n",
       "    </tr>\n",
       "    <tr>\n",
       "      <th>...</th>\n",
       "      <td>...</td>\n",
       "      <td>...</td>\n",
       "      <td>...</td>\n",
       "      <td>...</td>\n",
       "      <td>...</td>\n",
       "      <td>...</td>\n",
       "      <td>...</td>\n",
       "      <td>...</td>\n",
       "      <td>...</td>\n",
       "      <td>...</td>\n",
       "      <td>...</td>\n",
       "      <td>...</td>\n",
       "      <td>...</td>\n",
       "      <td>...</td>\n",
       "      <td>...</td>\n",
       "      <td>...</td>\n",
       "      <td>...</td>\n",
       "      <td>...</td>\n",
       "      <td>...</td>\n",
       "      <td>...</td>\n",
       "      <td>...</td>\n",
       "    </tr>\n",
       "    <tr>\n",
       "      <th>129</th>\n",
       "      <td>2</td>\n",
       "      <td>134</td>\n",
       "      <td>toyota</td>\n",
       "      <td>gas</td>\n",
       "      <td>std</td>\n",
       "      <td>two</td>\n",
       "      <td>hardtop</td>\n",
       "      <td>rwd</td>\n",
       "      <td>front</td>\n",
       "      <td>98.4</td>\n",
       "      <td>...</td>\n",
       "      <td>146</td>\n",
       "      <td>mpfi</td>\n",
       "      <td>3.62</td>\n",
       "      <td>3.50</td>\n",
       "      <td>9.30</td>\n",
       "      <td>116</td>\n",
       "      <td>4800</td>\n",
       "      <td>24</td>\n",
       "      <td>30</td>\n",
       "      <td>11199</td>\n",
       "    </tr>\n",
       "    <tr>\n",
       "      <th>130</th>\n",
       "      <td>2</td>\n",
       "      <td>134</td>\n",
       "      <td>toyota</td>\n",
       "      <td>gas</td>\n",
       "      <td>std</td>\n",
       "      <td>two</td>\n",
       "      <td>hatchback</td>\n",
       "      <td>rwd</td>\n",
       "      <td>front</td>\n",
       "      <td>98.4</td>\n",
       "      <td>...</td>\n",
       "      <td>146</td>\n",
       "      <td>mpfi</td>\n",
       "      <td>3.62</td>\n",
       "      <td>3.50</td>\n",
       "      <td>9.30</td>\n",
       "      <td>116</td>\n",
       "      <td>4800</td>\n",
       "      <td>24</td>\n",
       "      <td>30</td>\n",
       "      <td>11549</td>\n",
       "    </tr>\n",
       "    <tr>\n",
       "      <th>131</th>\n",
       "      <td>2</td>\n",
       "      <td>134</td>\n",
       "      <td>toyota</td>\n",
       "      <td>gas</td>\n",
       "      <td>std</td>\n",
       "      <td>two</td>\n",
       "      <td>convertible</td>\n",
       "      <td>rwd</td>\n",
       "      <td>front</td>\n",
       "      <td>98.4</td>\n",
       "      <td>...</td>\n",
       "      <td>146</td>\n",
       "      <td>mpfi</td>\n",
       "      <td>3.62</td>\n",
       "      <td>3.50</td>\n",
       "      <td>9.30</td>\n",
       "      <td>116</td>\n",
       "      <td>4800</td>\n",
       "      <td>24</td>\n",
       "      <td>30</td>\n",
       "      <td>17669</td>\n",
       "    </tr>\n",
       "    <tr>\n",
       "      <th>132</th>\n",
       "      <td>-1</td>\n",
       "      <td>65</td>\n",
       "      <td>toyota</td>\n",
       "      <td>gas</td>\n",
       "      <td>std</td>\n",
       "      <td>four</td>\n",
       "      <td>sedan</td>\n",
       "      <td>fwd</td>\n",
       "      <td>front</td>\n",
       "      <td>102.4</td>\n",
       "      <td>...</td>\n",
       "      <td>122</td>\n",
       "      <td>mpfi</td>\n",
       "      <td>3.31</td>\n",
       "      <td>3.54</td>\n",
       "      <td>8.70</td>\n",
       "      <td>92</td>\n",
       "      <td>4200</td>\n",
       "      <td>29</td>\n",
       "      <td>34</td>\n",
       "      <td>8948</td>\n",
       "    </tr>\n",
       "    <tr>\n",
       "      <th>133</th>\n",
       "      <td>-1</td>\n",
       "      <td>65</td>\n",
       "      <td>toyota</td>\n",
       "      <td>diesel</td>\n",
       "      <td>turbo</td>\n",
       "      <td>four</td>\n",
       "      <td>sedan</td>\n",
       "      <td>fwd</td>\n",
       "      <td>front</td>\n",
       "      <td>102.4</td>\n",
       "      <td>...</td>\n",
       "      <td>110</td>\n",
       "      <td>idi</td>\n",
       "      <td>3.27</td>\n",
       "      <td>3.35</td>\n",
       "      <td>22.50</td>\n",
       "      <td>73</td>\n",
       "      <td>4500</td>\n",
       "      <td>30</td>\n",
       "      <td>33</td>\n",
       "      <td>10698</td>\n",
       "    </tr>\n",
       "    <tr>\n",
       "      <th>134</th>\n",
       "      <td>-1</td>\n",
       "      <td>65</td>\n",
       "      <td>toyota</td>\n",
       "      <td>gas</td>\n",
       "      <td>std</td>\n",
       "      <td>four</td>\n",
       "      <td>hatchback</td>\n",
       "      <td>fwd</td>\n",
       "      <td>front</td>\n",
       "      <td>102.4</td>\n",
       "      <td>...</td>\n",
       "      <td>122</td>\n",
       "      <td>mpfi</td>\n",
       "      <td>3.31</td>\n",
       "      <td>3.54</td>\n",
       "      <td>8.70</td>\n",
       "      <td>92</td>\n",
       "      <td>4200</td>\n",
       "      <td>27</td>\n",
       "      <td>32</td>\n",
       "      <td>9988</td>\n",
       "    </tr>\n",
       "    <tr>\n",
       "      <th>135</th>\n",
       "      <td>-1</td>\n",
       "      <td>65</td>\n",
       "      <td>toyota</td>\n",
       "      <td>gas</td>\n",
       "      <td>std</td>\n",
       "      <td>four</td>\n",
       "      <td>sedan</td>\n",
       "      <td>fwd</td>\n",
       "      <td>front</td>\n",
       "      <td>102.4</td>\n",
       "      <td>...</td>\n",
       "      <td>122</td>\n",
       "      <td>mpfi</td>\n",
       "      <td>3.31</td>\n",
       "      <td>3.54</td>\n",
       "      <td>8.70</td>\n",
       "      <td>92</td>\n",
       "      <td>4200</td>\n",
       "      <td>27</td>\n",
       "      <td>32</td>\n",
       "      <td>10898</td>\n",
       "    </tr>\n",
       "    <tr>\n",
       "      <th>136</th>\n",
       "      <td>-1</td>\n",
       "      <td>65</td>\n",
       "      <td>toyota</td>\n",
       "      <td>gas</td>\n",
       "      <td>std</td>\n",
       "      <td>four</td>\n",
       "      <td>hatchback</td>\n",
       "      <td>fwd</td>\n",
       "      <td>front</td>\n",
       "      <td>102.4</td>\n",
       "      <td>...</td>\n",
       "      <td>122</td>\n",
       "      <td>mpfi</td>\n",
       "      <td>3.31</td>\n",
       "      <td>3.54</td>\n",
       "      <td>8.70</td>\n",
       "      <td>92</td>\n",
       "      <td>4200</td>\n",
       "      <td>27</td>\n",
       "      <td>32</td>\n",
       "      <td>11248</td>\n",
       "    </tr>\n",
       "    <tr>\n",
       "      <th>137</th>\n",
       "      <td>3</td>\n",
       "      <td>197</td>\n",
       "      <td>toyota</td>\n",
       "      <td>gas</td>\n",
       "      <td>std</td>\n",
       "      <td>two</td>\n",
       "      <td>hatchback</td>\n",
       "      <td>rwd</td>\n",
       "      <td>front</td>\n",
       "      <td>102.9</td>\n",
       "      <td>...</td>\n",
       "      <td>171</td>\n",
       "      <td>mpfi</td>\n",
       "      <td>3.27</td>\n",
       "      <td>3.35</td>\n",
       "      <td>9.30</td>\n",
       "      <td>161</td>\n",
       "      <td>5200</td>\n",
       "      <td>20</td>\n",
       "      <td>24</td>\n",
       "      <td>16558</td>\n",
       "    </tr>\n",
       "    <tr>\n",
       "      <th>138</th>\n",
       "      <td>3</td>\n",
       "      <td>197</td>\n",
       "      <td>toyota</td>\n",
       "      <td>gas</td>\n",
       "      <td>std</td>\n",
       "      <td>two</td>\n",
       "      <td>hatchback</td>\n",
       "      <td>rwd</td>\n",
       "      <td>front</td>\n",
       "      <td>102.9</td>\n",
       "      <td>...</td>\n",
       "      <td>171</td>\n",
       "      <td>mpfi</td>\n",
       "      <td>3.27</td>\n",
       "      <td>3.35</td>\n",
       "      <td>9.30</td>\n",
       "      <td>161</td>\n",
       "      <td>5200</td>\n",
       "      <td>19</td>\n",
       "      <td>24</td>\n",
       "      <td>15998</td>\n",
       "    </tr>\n",
       "    <tr>\n",
       "      <th>139</th>\n",
       "      <td>-1</td>\n",
       "      <td>90</td>\n",
       "      <td>toyota</td>\n",
       "      <td>gas</td>\n",
       "      <td>std</td>\n",
       "      <td>four</td>\n",
       "      <td>sedan</td>\n",
       "      <td>rwd</td>\n",
       "      <td>front</td>\n",
       "      <td>104.5</td>\n",
       "      <td>...</td>\n",
       "      <td>171</td>\n",
       "      <td>mpfi</td>\n",
       "      <td>3.27</td>\n",
       "      <td>3.35</td>\n",
       "      <td>9.20</td>\n",
       "      <td>156</td>\n",
       "      <td>5200</td>\n",
       "      <td>20</td>\n",
       "      <td>24</td>\n",
       "      <td>15690</td>\n",
       "    </tr>\n",
       "    <tr>\n",
       "      <th>140</th>\n",
       "      <td>2</td>\n",
       "      <td>122</td>\n",
       "      <td>volkswagen</td>\n",
       "      <td>diesel</td>\n",
       "      <td>std</td>\n",
       "      <td>two</td>\n",
       "      <td>sedan</td>\n",
       "      <td>fwd</td>\n",
       "      <td>front</td>\n",
       "      <td>97.3</td>\n",
       "      <td>...</td>\n",
       "      <td>97</td>\n",
       "      <td>idi</td>\n",
       "      <td>3.01</td>\n",
       "      <td>3.40</td>\n",
       "      <td>23.00</td>\n",
       "      <td>52</td>\n",
       "      <td>4800</td>\n",
       "      <td>37</td>\n",
       "      <td>46</td>\n",
       "      <td>7775</td>\n",
       "    </tr>\n",
       "    <tr>\n",
       "      <th>141</th>\n",
       "      <td>2</td>\n",
       "      <td>122</td>\n",
       "      <td>volkswagen</td>\n",
       "      <td>gas</td>\n",
       "      <td>std</td>\n",
       "      <td>two</td>\n",
       "      <td>sedan</td>\n",
       "      <td>fwd</td>\n",
       "      <td>front</td>\n",
       "      <td>97.3</td>\n",
       "      <td>...</td>\n",
       "      <td>109</td>\n",
       "      <td>mpfi</td>\n",
       "      <td>3.19</td>\n",
       "      <td>3.40</td>\n",
       "      <td>9.00</td>\n",
       "      <td>85</td>\n",
       "      <td>5250</td>\n",
       "      <td>27</td>\n",
       "      <td>34</td>\n",
       "      <td>7975</td>\n",
       "    </tr>\n",
       "    <tr>\n",
       "      <th>142</th>\n",
       "      <td>2</td>\n",
       "      <td>94</td>\n",
       "      <td>volkswagen</td>\n",
       "      <td>diesel</td>\n",
       "      <td>std</td>\n",
       "      <td>four</td>\n",
       "      <td>sedan</td>\n",
       "      <td>fwd</td>\n",
       "      <td>front</td>\n",
       "      <td>97.3</td>\n",
       "      <td>...</td>\n",
       "      <td>97</td>\n",
       "      <td>idi</td>\n",
       "      <td>3.01</td>\n",
       "      <td>3.40</td>\n",
       "      <td>23.00</td>\n",
       "      <td>52</td>\n",
       "      <td>4800</td>\n",
       "      <td>37</td>\n",
       "      <td>46</td>\n",
       "      <td>7995</td>\n",
       "    </tr>\n",
       "    <tr>\n",
       "      <th>143</th>\n",
       "      <td>2</td>\n",
       "      <td>94</td>\n",
       "      <td>volkswagen</td>\n",
       "      <td>gas</td>\n",
       "      <td>std</td>\n",
       "      <td>four</td>\n",
       "      <td>sedan</td>\n",
       "      <td>fwd</td>\n",
       "      <td>front</td>\n",
       "      <td>97.3</td>\n",
       "      <td>...</td>\n",
       "      <td>109</td>\n",
       "      <td>mpfi</td>\n",
       "      <td>3.19</td>\n",
       "      <td>3.40</td>\n",
       "      <td>9.00</td>\n",
       "      <td>85</td>\n",
       "      <td>5250</td>\n",
       "      <td>27</td>\n",
       "      <td>34</td>\n",
       "      <td>8195</td>\n",
       "    </tr>\n",
       "    <tr>\n",
       "      <th>144</th>\n",
       "      <td>2</td>\n",
       "      <td>94</td>\n",
       "      <td>volkswagen</td>\n",
       "      <td>gas</td>\n",
       "      <td>std</td>\n",
       "      <td>four</td>\n",
       "      <td>sedan</td>\n",
       "      <td>fwd</td>\n",
       "      <td>front</td>\n",
       "      <td>97.3</td>\n",
       "      <td>...</td>\n",
       "      <td>109</td>\n",
       "      <td>mpfi</td>\n",
       "      <td>3.19</td>\n",
       "      <td>3.40</td>\n",
       "      <td>9.00</td>\n",
       "      <td>85</td>\n",
       "      <td>5250</td>\n",
       "      <td>27</td>\n",
       "      <td>34</td>\n",
       "      <td>8495</td>\n",
       "    </tr>\n",
       "    <tr>\n",
       "      <th>145</th>\n",
       "      <td>2</td>\n",
       "      <td>94</td>\n",
       "      <td>volkswagen</td>\n",
       "      <td>diesel</td>\n",
       "      <td>turbo</td>\n",
       "      <td>four</td>\n",
       "      <td>sedan</td>\n",
       "      <td>fwd</td>\n",
       "      <td>front</td>\n",
       "      <td>97.3</td>\n",
       "      <td>...</td>\n",
       "      <td>97</td>\n",
       "      <td>idi</td>\n",
       "      <td>3.01</td>\n",
       "      <td>3.40</td>\n",
       "      <td>23.00</td>\n",
       "      <td>68</td>\n",
       "      <td>4500</td>\n",
       "      <td>37</td>\n",
       "      <td>42</td>\n",
       "      <td>9495</td>\n",
       "    </tr>\n",
       "    <tr>\n",
       "      <th>146</th>\n",
       "      <td>2</td>\n",
       "      <td>94</td>\n",
       "      <td>volkswagen</td>\n",
       "      <td>gas</td>\n",
       "      <td>std</td>\n",
       "      <td>four</td>\n",
       "      <td>sedan</td>\n",
       "      <td>fwd</td>\n",
       "      <td>front</td>\n",
       "      <td>97.3</td>\n",
       "      <td>...</td>\n",
       "      <td>109</td>\n",
       "      <td>mpfi</td>\n",
       "      <td>3.19</td>\n",
       "      <td>3.40</td>\n",
       "      <td>10.00</td>\n",
       "      <td>100</td>\n",
       "      <td>5500</td>\n",
       "      <td>26</td>\n",
       "      <td>32</td>\n",
       "      <td>9995</td>\n",
       "    </tr>\n",
       "    <tr>\n",
       "      <th>147</th>\n",
       "      <td>3</td>\n",
       "      <td>256</td>\n",
       "      <td>volkswagen</td>\n",
       "      <td>gas</td>\n",
       "      <td>std</td>\n",
       "      <td>two</td>\n",
       "      <td>hatchback</td>\n",
       "      <td>fwd</td>\n",
       "      <td>front</td>\n",
       "      <td>94.5</td>\n",
       "      <td>...</td>\n",
       "      <td>109</td>\n",
       "      <td>mpfi</td>\n",
       "      <td>3.19</td>\n",
       "      <td>3.40</td>\n",
       "      <td>8.50</td>\n",
       "      <td>90</td>\n",
       "      <td>5500</td>\n",
       "      <td>24</td>\n",
       "      <td>29</td>\n",
       "      <td>9980</td>\n",
       "    </tr>\n",
       "    <tr>\n",
       "      <th>148</th>\n",
       "      <td>-2</td>\n",
       "      <td>103</td>\n",
       "      <td>volvo</td>\n",
       "      <td>gas</td>\n",
       "      <td>std</td>\n",
       "      <td>four</td>\n",
       "      <td>sedan</td>\n",
       "      <td>rwd</td>\n",
       "      <td>front</td>\n",
       "      <td>104.3</td>\n",
       "      <td>...</td>\n",
       "      <td>141</td>\n",
       "      <td>mpfi</td>\n",
       "      <td>3.78</td>\n",
       "      <td>3.15</td>\n",
       "      <td>9.50</td>\n",
       "      <td>114</td>\n",
       "      <td>5400</td>\n",
       "      <td>23</td>\n",
       "      <td>28</td>\n",
       "      <td>12940</td>\n",
       "    </tr>\n",
       "    <tr>\n",
       "      <th>149</th>\n",
       "      <td>-1</td>\n",
       "      <td>74</td>\n",
       "      <td>volvo</td>\n",
       "      <td>gas</td>\n",
       "      <td>std</td>\n",
       "      <td>four</td>\n",
       "      <td>wagon</td>\n",
       "      <td>rwd</td>\n",
       "      <td>front</td>\n",
       "      <td>104.3</td>\n",
       "      <td>...</td>\n",
       "      <td>141</td>\n",
       "      <td>mpfi</td>\n",
       "      <td>3.78</td>\n",
       "      <td>3.15</td>\n",
       "      <td>9.50</td>\n",
       "      <td>114</td>\n",
       "      <td>5400</td>\n",
       "      <td>23</td>\n",
       "      <td>28</td>\n",
       "      <td>13415</td>\n",
       "    </tr>\n",
       "    <tr>\n",
       "      <th>150</th>\n",
       "      <td>-2</td>\n",
       "      <td>103</td>\n",
       "      <td>volvo</td>\n",
       "      <td>gas</td>\n",
       "      <td>std</td>\n",
       "      <td>four</td>\n",
       "      <td>sedan</td>\n",
       "      <td>rwd</td>\n",
       "      <td>front</td>\n",
       "      <td>104.3</td>\n",
       "      <td>...</td>\n",
       "      <td>141</td>\n",
       "      <td>mpfi</td>\n",
       "      <td>3.78</td>\n",
       "      <td>3.15</td>\n",
       "      <td>9.50</td>\n",
       "      <td>114</td>\n",
       "      <td>5400</td>\n",
       "      <td>24</td>\n",
       "      <td>28</td>\n",
       "      <td>15985</td>\n",
       "    </tr>\n",
       "    <tr>\n",
       "      <th>151</th>\n",
       "      <td>-1</td>\n",
       "      <td>74</td>\n",
       "      <td>volvo</td>\n",
       "      <td>gas</td>\n",
       "      <td>std</td>\n",
       "      <td>four</td>\n",
       "      <td>wagon</td>\n",
       "      <td>rwd</td>\n",
       "      <td>front</td>\n",
       "      <td>104.3</td>\n",
       "      <td>...</td>\n",
       "      <td>141</td>\n",
       "      <td>mpfi</td>\n",
       "      <td>3.78</td>\n",
       "      <td>3.15</td>\n",
       "      <td>9.50</td>\n",
       "      <td>114</td>\n",
       "      <td>5400</td>\n",
       "      <td>24</td>\n",
       "      <td>28</td>\n",
       "      <td>16515</td>\n",
       "    </tr>\n",
       "    <tr>\n",
       "      <th>152</th>\n",
       "      <td>-2</td>\n",
       "      <td>103</td>\n",
       "      <td>volvo</td>\n",
       "      <td>gas</td>\n",
       "      <td>turbo</td>\n",
       "      <td>four</td>\n",
       "      <td>sedan</td>\n",
       "      <td>rwd</td>\n",
       "      <td>front</td>\n",
       "      <td>104.3</td>\n",
       "      <td>...</td>\n",
       "      <td>130</td>\n",
       "      <td>mpfi</td>\n",
       "      <td>3.62</td>\n",
       "      <td>3.15</td>\n",
       "      <td>7.50</td>\n",
       "      <td>162</td>\n",
       "      <td>5100</td>\n",
       "      <td>17</td>\n",
       "      <td>22</td>\n",
       "      <td>18420</td>\n",
       "    </tr>\n",
       "    <tr>\n",
       "      <th>153</th>\n",
       "      <td>-1</td>\n",
       "      <td>74</td>\n",
       "      <td>volvo</td>\n",
       "      <td>gas</td>\n",
       "      <td>turbo</td>\n",
       "      <td>four</td>\n",
       "      <td>wagon</td>\n",
       "      <td>rwd</td>\n",
       "      <td>front</td>\n",
       "      <td>104.3</td>\n",
       "      <td>...</td>\n",
       "      <td>130</td>\n",
       "      <td>mpfi</td>\n",
       "      <td>3.62</td>\n",
       "      <td>3.15</td>\n",
       "      <td>7.50</td>\n",
       "      <td>162</td>\n",
       "      <td>5100</td>\n",
       "      <td>17</td>\n",
       "      <td>22</td>\n",
       "      <td>18950</td>\n",
       "    </tr>\n",
       "    <tr>\n",
       "      <th>154</th>\n",
       "      <td>-1</td>\n",
       "      <td>95</td>\n",
       "      <td>volvo</td>\n",
       "      <td>gas</td>\n",
       "      <td>std</td>\n",
       "      <td>four</td>\n",
       "      <td>sedan</td>\n",
       "      <td>rwd</td>\n",
       "      <td>front</td>\n",
       "      <td>109.1</td>\n",
       "      <td>...</td>\n",
       "      <td>141</td>\n",
       "      <td>mpfi</td>\n",
       "      <td>3.78</td>\n",
       "      <td>3.15</td>\n",
       "      <td>9.50</td>\n",
       "      <td>114</td>\n",
       "      <td>5400</td>\n",
       "      <td>23</td>\n",
       "      <td>28</td>\n",
       "      <td>16845</td>\n",
       "    </tr>\n",
       "    <tr>\n",
       "      <th>155</th>\n",
       "      <td>-1</td>\n",
       "      <td>95</td>\n",
       "      <td>volvo</td>\n",
       "      <td>gas</td>\n",
       "      <td>turbo</td>\n",
       "      <td>four</td>\n",
       "      <td>sedan</td>\n",
       "      <td>rwd</td>\n",
       "      <td>front</td>\n",
       "      <td>109.1</td>\n",
       "      <td>...</td>\n",
       "      <td>141</td>\n",
       "      <td>mpfi</td>\n",
       "      <td>3.78</td>\n",
       "      <td>3.15</td>\n",
       "      <td>8.70</td>\n",
       "      <td>160</td>\n",
       "      <td>5300</td>\n",
       "      <td>19</td>\n",
       "      <td>25</td>\n",
       "      <td>19045</td>\n",
       "    </tr>\n",
       "    <tr>\n",
       "      <th>156</th>\n",
       "      <td>-1</td>\n",
       "      <td>95</td>\n",
       "      <td>volvo</td>\n",
       "      <td>gas</td>\n",
       "      <td>std</td>\n",
       "      <td>four</td>\n",
       "      <td>sedan</td>\n",
       "      <td>rwd</td>\n",
       "      <td>front</td>\n",
       "      <td>109.1</td>\n",
       "      <td>...</td>\n",
       "      <td>173</td>\n",
       "      <td>mpfi</td>\n",
       "      <td>3.58</td>\n",
       "      <td>2.87</td>\n",
       "      <td>8.80</td>\n",
       "      <td>134</td>\n",
       "      <td>5500</td>\n",
       "      <td>18</td>\n",
       "      <td>23</td>\n",
       "      <td>21485</td>\n",
       "    </tr>\n",
       "    <tr>\n",
       "      <th>157</th>\n",
       "      <td>-1</td>\n",
       "      <td>95</td>\n",
       "      <td>volvo</td>\n",
       "      <td>diesel</td>\n",
       "      <td>turbo</td>\n",
       "      <td>four</td>\n",
       "      <td>sedan</td>\n",
       "      <td>rwd</td>\n",
       "      <td>front</td>\n",
       "      <td>109.1</td>\n",
       "      <td>...</td>\n",
       "      <td>145</td>\n",
       "      <td>idi</td>\n",
       "      <td>3.01</td>\n",
       "      <td>3.40</td>\n",
       "      <td>23.00</td>\n",
       "      <td>106</td>\n",
       "      <td>4800</td>\n",
       "      <td>26</td>\n",
       "      <td>27</td>\n",
       "      <td>22470</td>\n",
       "    </tr>\n",
       "    <tr>\n",
       "      <th>158</th>\n",
       "      <td>-1</td>\n",
       "      <td>95</td>\n",
       "      <td>volvo</td>\n",
       "      <td>gas</td>\n",
       "      <td>turbo</td>\n",
       "      <td>four</td>\n",
       "      <td>sedan</td>\n",
       "      <td>rwd</td>\n",
       "      <td>front</td>\n",
       "      <td>109.1</td>\n",
       "      <td>...</td>\n",
       "      <td>141</td>\n",
       "      <td>mpfi</td>\n",
       "      <td>3.78</td>\n",
       "      <td>3.15</td>\n",
       "      <td>9.50</td>\n",
       "      <td>114</td>\n",
       "      <td>5400</td>\n",
       "      <td>19</td>\n",
       "      <td>25</td>\n",
       "      <td>22625</td>\n",
       "    </tr>\n",
       "  </tbody>\n",
       "</table>\n",
       "<p>159 rows × 26 columns</p>\n",
       "</div>"
      ],
      "text/plain": [
       "     symboling  normalized_losses       maker    fuel aspiration doors  \\\n",
       "0            2                164        audi     gas        std  four   \n",
       "1            2                164        audi     gas        std  four   \n",
       "2            1                158        audi     gas        std  four   \n",
       "3            1                158        audi     gas      turbo  four   \n",
       "4            2                192         bmw     gas        std   two   \n",
       "5            0                192         bmw     gas        std  four   \n",
       "6            0                188         bmw     gas        std   two   \n",
       "7            0                188         bmw     gas        std  four   \n",
       "8            2                121   chevrolet     gas        std   two   \n",
       "9            1                 98   chevrolet     gas        std   two   \n",
       "10           0                 81   chevrolet     gas        std  four   \n",
       "11           1                118       dodge     gas        std   two   \n",
       "12           1                118       dodge     gas        std   two   \n",
       "13           1                118       dodge     gas      turbo   two   \n",
       "14           1                148       dodge     gas        std  four   \n",
       "15           1                148       dodge     gas        std  four   \n",
       "16           1                148       dodge     gas        std  four   \n",
       "17          -1                110       dodge     gas        std  four   \n",
       "18           3                145       dodge     gas      turbo   two   \n",
       "19           2                137       honda     gas        std   two   \n",
       "20           2                137       honda     gas        std   two   \n",
       "21           1                101       honda     gas        std   two   \n",
       "22           1                101       honda     gas        std   two   \n",
       "23           1                101       honda     gas        std   two   \n",
       "24           0                110       honda     gas        std  four   \n",
       "25           0                 78       honda     gas        std  four   \n",
       "26           0                106       honda     gas        std   two   \n",
       "27           0                106       honda     gas        std   two   \n",
       "28           0                 85       honda     gas        std  four   \n",
       "29           0                 85       honda     gas        std  four   \n",
       "..         ...                ...         ...     ...        ...   ...   \n",
       "129          2                134      toyota     gas        std   two   \n",
       "130          2                134      toyota     gas        std   two   \n",
       "131          2                134      toyota     gas        std   two   \n",
       "132         -1                 65      toyota     gas        std  four   \n",
       "133         -1                 65      toyota  diesel      turbo  four   \n",
       "134         -1                 65      toyota     gas        std  four   \n",
       "135         -1                 65      toyota     gas        std  four   \n",
       "136         -1                 65      toyota     gas        std  four   \n",
       "137          3                197      toyota     gas        std   two   \n",
       "138          3                197      toyota     gas        std   two   \n",
       "139         -1                 90      toyota     gas        std  four   \n",
       "140          2                122  volkswagen  diesel        std   two   \n",
       "141          2                122  volkswagen     gas        std   two   \n",
       "142          2                 94  volkswagen  diesel        std  four   \n",
       "143          2                 94  volkswagen     gas        std  four   \n",
       "144          2                 94  volkswagen     gas        std  four   \n",
       "145          2                 94  volkswagen  diesel      turbo  four   \n",
       "146          2                 94  volkswagen     gas        std  four   \n",
       "147          3                256  volkswagen     gas        std   two   \n",
       "148         -2                103       volvo     gas        std  four   \n",
       "149         -1                 74       volvo     gas        std  four   \n",
       "150         -2                103       volvo     gas        std  four   \n",
       "151         -1                 74       volvo     gas        std  four   \n",
       "152         -2                103       volvo     gas      turbo  four   \n",
       "153         -1                 74       volvo     gas      turbo  four   \n",
       "154         -1                 95       volvo     gas        std  four   \n",
       "155         -1                 95       volvo     gas      turbo  four   \n",
       "156         -1                 95       volvo     gas        std  four   \n",
       "157         -1                 95       volvo  diesel      turbo  four   \n",
       "158         -1                 95       volvo     gas      turbo  four   \n",
       "\n",
       "            body wheels engine_location  wheel_base  ...    engine_size  \\\n",
       "0          sedan    fwd           front        99.8  ...            109   \n",
       "1          sedan    4wd           front        99.4  ...            136   \n",
       "2          sedan    fwd           front       105.8  ...            136   \n",
       "3          sedan    fwd           front       105.8  ...            131   \n",
       "4          sedan    rwd           front       101.2  ...            108   \n",
       "5          sedan    rwd           front       101.2  ...            108   \n",
       "6          sedan    rwd           front       101.2  ...            164   \n",
       "7          sedan    rwd           front       101.2  ...            164   \n",
       "8      hatchback    fwd           front        88.4  ...             61   \n",
       "9      hatchback    fwd           front        94.5  ...             90   \n",
       "10         sedan    fwd           front        94.5  ...             90   \n",
       "11     hatchback    fwd           front        93.7  ...             90   \n",
       "12     hatchback    fwd           front        93.7  ...             90   \n",
       "13     hatchback    fwd           front        93.7  ...             98   \n",
       "14     hatchback    fwd           front        93.7  ...             90   \n",
       "15         sedan    fwd           front        93.7  ...             90   \n",
       "16         sedan    fwd           front        93.7  ...             90   \n",
       "17         wagon    fwd           front       103.3  ...            122   \n",
       "18     hatchback    fwd           front        95.9  ...            156   \n",
       "19     hatchback    fwd           front        86.6  ...             92   \n",
       "20     hatchback    fwd           front        86.6  ...             92   \n",
       "21     hatchback    fwd           front        93.7  ...             79   \n",
       "22     hatchback    fwd           front        93.7  ...             92   \n",
       "23     hatchback    fwd           front        93.7  ...             92   \n",
       "24         sedan    fwd           front        96.5  ...             92   \n",
       "25         wagon    fwd           front        96.5  ...             92   \n",
       "26     hatchback    fwd           front        96.5  ...            110   \n",
       "27     hatchback    fwd           front        96.5  ...            110   \n",
       "28         sedan    fwd           front        96.5  ...            110   \n",
       "29         sedan    fwd           front        96.5  ...            110   \n",
       "..           ...    ...             ...         ...  ...            ...   \n",
       "129      hardtop    rwd           front        98.4  ...            146   \n",
       "130    hatchback    rwd           front        98.4  ...            146   \n",
       "131  convertible    rwd           front        98.4  ...            146   \n",
       "132        sedan    fwd           front       102.4  ...            122   \n",
       "133        sedan    fwd           front       102.4  ...            110   \n",
       "134    hatchback    fwd           front       102.4  ...            122   \n",
       "135        sedan    fwd           front       102.4  ...            122   \n",
       "136    hatchback    fwd           front       102.4  ...            122   \n",
       "137    hatchback    rwd           front       102.9  ...            171   \n",
       "138    hatchback    rwd           front       102.9  ...            171   \n",
       "139        sedan    rwd           front       104.5  ...            171   \n",
       "140        sedan    fwd           front        97.3  ...             97   \n",
       "141        sedan    fwd           front        97.3  ...            109   \n",
       "142        sedan    fwd           front        97.3  ...             97   \n",
       "143        sedan    fwd           front        97.3  ...            109   \n",
       "144        sedan    fwd           front        97.3  ...            109   \n",
       "145        sedan    fwd           front        97.3  ...             97   \n",
       "146        sedan    fwd           front        97.3  ...            109   \n",
       "147    hatchback    fwd           front        94.5  ...            109   \n",
       "148        sedan    rwd           front       104.3  ...            141   \n",
       "149        wagon    rwd           front       104.3  ...            141   \n",
       "150        sedan    rwd           front       104.3  ...            141   \n",
       "151        wagon    rwd           front       104.3  ...            141   \n",
       "152        sedan    rwd           front       104.3  ...            130   \n",
       "153        wagon    rwd           front       104.3  ...            130   \n",
       "154        sedan    rwd           front       109.1  ...            141   \n",
       "155        sedan    rwd           front       109.1  ...            141   \n",
       "156        sedan    rwd           front       109.1  ...            173   \n",
       "157        sedan    rwd           front       109.1  ...            145   \n",
       "158        sedan    rwd           front       109.1  ...            141   \n",
       "\n",
       "     fuel_system  bore  stroke compression_ratio horsepower  peak_rpm  \\\n",
       "0           mpfi  3.19    3.40             10.00        102      5500   \n",
       "1           mpfi  3.19    3.40              8.00        115      5500   \n",
       "2           mpfi  3.19    3.40              8.50        110      5500   \n",
       "3           mpfi  3.13    3.40              8.30        140      5500   \n",
       "4           mpfi  3.50    2.80              8.80        101      5800   \n",
       "5           mpfi  3.50    2.80              8.80        101      5800   \n",
       "6           mpfi  3.31    3.19              9.00        121      4250   \n",
       "7           mpfi  3.31    3.19              9.00        121      4250   \n",
       "8           2bbl  2.91    3.03              9.50         48      5100   \n",
       "9           2bbl  3.03    3.11              9.60         70      5400   \n",
       "10          2bbl  3.03    3.11              9.60         70      5400   \n",
       "11          2bbl  2.97    3.23              9.41         68      5500   \n",
       "12          2bbl  2.97    3.23              9.40         68      5500   \n",
       "13          mpfi  3.03    3.39              7.60        102      5500   \n",
       "14          2bbl  2.97    3.23              9.40         68      5500   \n",
       "15          2bbl  2.97    3.23              9.40         68      5500   \n",
       "16          2bbl  2.97    3.23              9.40         68      5500   \n",
       "17          2bbl  3.34    3.46              8.50         88      5000   \n",
       "18           mfi  3.60    3.90              7.00        145      5000   \n",
       "19          1bbl  2.91    3.41              9.60         58      4800   \n",
       "20          1bbl  2.91    3.41              9.20         76      6000   \n",
       "21          1bbl  2.91    3.07             10.10         60      5500   \n",
       "22          1bbl  2.91    3.41              9.20         76      6000   \n",
       "23          1bbl  2.91    3.41              9.20         76      6000   \n",
       "24          1bbl  2.91    3.41              9.20         76      6000   \n",
       "25          1bbl  2.92    3.41              9.20         76      6000   \n",
       "26          1bbl  3.15    3.58              9.00         86      5800   \n",
       "27          1bbl  3.15    3.58              9.00         86      5800   \n",
       "28          1bbl  3.15    3.58              9.00         86      5800   \n",
       "29          1bbl  3.15    3.58              9.00         86      5800   \n",
       "..           ...   ...     ...               ...        ...       ...   \n",
       "129         mpfi  3.62    3.50              9.30        116      4800   \n",
       "130         mpfi  3.62    3.50              9.30        116      4800   \n",
       "131         mpfi  3.62    3.50              9.30        116      4800   \n",
       "132         mpfi  3.31    3.54              8.70         92      4200   \n",
       "133          idi  3.27    3.35             22.50         73      4500   \n",
       "134         mpfi  3.31    3.54              8.70         92      4200   \n",
       "135         mpfi  3.31    3.54              8.70         92      4200   \n",
       "136         mpfi  3.31    3.54              8.70         92      4200   \n",
       "137         mpfi  3.27    3.35              9.30        161      5200   \n",
       "138         mpfi  3.27    3.35              9.30        161      5200   \n",
       "139         mpfi  3.27    3.35              9.20        156      5200   \n",
       "140          idi  3.01    3.40             23.00         52      4800   \n",
       "141         mpfi  3.19    3.40              9.00         85      5250   \n",
       "142          idi  3.01    3.40             23.00         52      4800   \n",
       "143         mpfi  3.19    3.40              9.00         85      5250   \n",
       "144         mpfi  3.19    3.40              9.00         85      5250   \n",
       "145          idi  3.01    3.40             23.00         68      4500   \n",
       "146         mpfi  3.19    3.40             10.00        100      5500   \n",
       "147         mpfi  3.19    3.40              8.50         90      5500   \n",
       "148         mpfi  3.78    3.15              9.50        114      5400   \n",
       "149         mpfi  3.78    3.15              9.50        114      5400   \n",
       "150         mpfi  3.78    3.15              9.50        114      5400   \n",
       "151         mpfi  3.78    3.15              9.50        114      5400   \n",
       "152         mpfi  3.62    3.15              7.50        162      5100   \n",
       "153         mpfi  3.62    3.15              7.50        162      5100   \n",
       "154         mpfi  3.78    3.15              9.50        114      5400   \n",
       "155         mpfi  3.78    3.15              8.70        160      5300   \n",
       "156         mpfi  3.58    2.87              8.80        134      5500   \n",
       "157          idi  3.01    3.40             23.00        106      4800   \n",
       "158         mpfi  3.78    3.15              9.50        114      5400   \n",
       "\n",
       "    city_mpg  highway_mpg  price  \n",
       "0         24           30  13950  \n",
       "1         18           22  17450  \n",
       "2         19           25  17710  \n",
       "3         17           20  23875  \n",
       "4         23           29  16430  \n",
       "5         23           29  16925  \n",
       "6         21           28  20970  \n",
       "7         21           28  21105  \n",
       "8         47           53   5151  \n",
       "9         38           43   6295  \n",
       "10        38           43   6575  \n",
       "11        37           41   5572  \n",
       "12        31           38   6377  \n",
       "13        24           30   7957  \n",
       "14        31           38   6229  \n",
       "15        31           38   6692  \n",
       "16        31           38   7609  \n",
       "17        24           30   8921  \n",
       "18        19           24  12964  \n",
       "19        49           54   6479  \n",
       "20        31           38   6855  \n",
       "21        38           42   5399  \n",
       "22        30           34   6529  \n",
       "23        30           34   7129  \n",
       "24        30           34   7295  \n",
       "25        30           34   7295  \n",
       "26        27           33   7895  \n",
       "27        27           33   9095  \n",
       "28        27           33   8845  \n",
       "29        27           33  10295  \n",
       "..       ...          ...    ...  \n",
       "129       24           30  11199  \n",
       "130       24           30  11549  \n",
       "131       24           30  17669  \n",
       "132       29           34   8948  \n",
       "133       30           33  10698  \n",
       "134       27           32   9988  \n",
       "135       27           32  10898  \n",
       "136       27           32  11248  \n",
       "137       20           24  16558  \n",
       "138       19           24  15998  \n",
       "139       20           24  15690  \n",
       "140       37           46   7775  \n",
       "141       27           34   7975  \n",
       "142       37           46   7995  \n",
       "143       27           34   8195  \n",
       "144       27           34   8495  \n",
       "145       37           42   9495  \n",
       "146       26           32   9995  \n",
       "147       24           29   9980  \n",
       "148       23           28  12940  \n",
       "149       23           28  13415  \n",
       "150       24           28  15985  \n",
       "151       24           28  16515  \n",
       "152       17           22  18420  \n",
       "153       17           22  18950  \n",
       "154       23           28  16845  \n",
       "155       19           25  19045  \n",
       "156       18           23  21485  \n",
       "157       26           27  22470  \n",
       "158       19           25  22625  \n",
       "\n",
       "[159 rows x 26 columns]"
      ]
     },
     "execution_count": 10,
     "metadata": {},
     "output_type": "execute_result"
    }
   ],
   "source": [
    "automobile"
   ]
  },
  {
   "cell_type": "code",
   "execution_count": 13,
   "metadata": {
    "collapsed": false
   },
   "outputs": [],
   "source": [
    "import seaborn"
   ]
  },
  {
   "cell_type": "code",
   "execution_count": 14,
   "metadata": {
    "collapsed": true
   },
   "outputs": [],
   "source": [
    "%matplotlib inline"
   ]
  },
  {
   "cell_type": "code",
   "execution_count": 19,
   "metadata": {
    "collapsed": false
   },
   "outputs": [],
   "source": [
    "##regplot"
   ]
  },
  {
   "cell_type": "code",
   "execution_count": 15,
   "metadata": {
    "collapsed": false
   },
   "outputs": [
    {
     "data": {
      "text/plain": [
       "<matplotlib.axes._subplots.AxesSubplot at 0x10717a1b4e0>"
      ]
     },
     "execution_count": 15,
     "metadata": {},
     "output_type": "execute_result"
    },
    {
     "data": {
      "image/png": "[encoded data removed]",
      "text/plain": [
       "<matplotlib.figure.Figure at 0x107178a7be0>"
      ]
     },
     "metadata": {},
     "output_type": "display_data"
    }
   ],
   "source": [
    "seaborn.regplot(automobile.length, automobile.symboling)"
   ]
  },
  {
   "cell_type": "code",
   "execution_count": 16,
   "metadata": {
    "collapsed": false
   },
   "outputs": [
    {
     "data": {
      "text/plain": [
       "<matplotlib.axes._subplots.AxesSubplot at 0x10717947b70>"
      ]
     },
     "execution_count": 16,
     "metadata": {},
     "output_type": "execute_result"
    },
    {
     "data": {
      "image/png": "[encoded data removed]",
      "text/plain": [
       "<matplotlib.figure.Figure at 0x10717d2dfd0>"
      ]
     },
     "metadata": {},
     "output_type": "display_data"
    }
   ],
   "source": [
    "seaborn.regplot('length', 'symboling', data=automobile)"
   ]
  },
  {
   "cell_type": "code",
   "execution_count": 20,
   "metadata": {
    "collapsed": true
   },
   "outputs": [],
   "source": [
    "##회귀선지우기"
   ]
  },
  {
   "cell_type": "code",
   "execution_count": 22,
   "metadata": {
    "collapsed": false
   },
   "outputs": [
    {
     "data": {
      "text/plain": [
       "<matplotlib.axes._subplots.AxesSubplot at 0x10717dd6550>"
      ]
     },
     "execution_count": 22,
     "metadata": {},
     "output_type": "execute_result"
    },
    {
     "data": {
      "image/png": "[encoded data removed]",
      "text/plain": [
       "<matplotlib.figure.Figure at 0x10717ddd908>"
      ]
     },
     "metadata": {},
     "output_type": "display_data"
    }
   ],
   "source": [
    "seaborn.regplot('length','symboling',data=automobile,fit_reg=False)"
   ]
  },
  {
   "cell_type": "code",
   "execution_count": 23,
   "metadata": {
    "collapsed": true
   },
   "outputs": [],
   "source": [
    "#jitter"
   ]
  },
  {
   "cell_type": "code",
   "execution_count": 28,
   "metadata": {
    "collapsed": false
   },
   "outputs": [
    {
     "data": {
      "text/plain": [
       "<matplotlib.axes._subplots.AxesSubplot at 0x10717feda58>"
      ]
     },
     "execution_count": 28,
     "metadata": {},
     "output_type": "execute_result"
    },
    {
     "data": {
      "image/png": "[encoded data removed]",
      "text/plain": [
       "<matplotlib.figure.Figure at 0x1071802a4e0>"
      ]
     },
     "metadata": {},
     "output_type": "display_data"
    }
   ],
   "source": [
    "seaborn.regplot('length','symboling',data=automobile,fit_reg=False, y_jitter=0.1, x_jitter=0.1)"
   ]
  },
  {
   "cell_type": "code",
   "execution_count": 29,
   "metadata": {
    "collapsed": false
   },
   "outputs": [
    {
     "data": {
      "text/plain": [
       "<matplotlib.axes._subplots.AxesSubplot at 0x10719034b70>"
      ]
     },
     "execution_count": 29,
     "metadata": {},
     "output_type": "execute_result"
    },
    {
     "data": {
      "image/png": "[encoded data removed]",
      "text/plain": [
       "<matplotlib.figure.Figure at 0x1071906b780>"
      ]
     },
     "metadata": {},
     "output_type": "display_data"
    }
   ],
   "source": [
    "seaborn.regplot('length', 'symboling', data=automobile, y_jitter=0.1)"
   ]
  },
  {
   "cell_type": "code",
   "execution_count": 30,
   "metadata": {
    "collapsed": true
   },
   "outputs": [],
   "source": [
    "#신뢰구간 지우기"
   ]
  },
  {
   "cell_type": "code",
   "execution_count": 31,
   "metadata": {
    "collapsed": false
   },
   "outputs": [
    {
     "data": {
      "text/plain": [
       "<matplotlib.axes._subplots.AxesSubplot at 0x107190a14e0>"
      ]
     },
     "execution_count": 31,
     "metadata": {},
     "output_type": "execute_result"
    },
    {
     "data": {
      "image/png": "[encoded data removed]",
      "text/plain": [
       "<matplotlib.figure.Figure at 0x107190f3a90>"
      ]
     },
     "metadata": {},
     "output_type": "display_data"
    }
   ],
   "source": [
    "seaborn.regplot('length', 'symboling', data=automobile, y_jitter=0.1, ci=None)"
   ]
  },
  {
   "cell_type": "code",
   "execution_count": 34,
   "metadata": {
    "collapsed": false
   },
   "outputs": [
    {
     "data": {
      "text/plain": [
       "<matplotlib.axes._subplots.AxesSubplot at 0x107191ea0b8>"
      ]
     },
     "execution_count": 34,
     "metadata": {},
     "output_type": "execute_result"
    },
    {
     "data": {
      "image/png": "[encoded data removed]",
      "text/plain": [
       "<matplotlib.figure.Figure at 0x10719231438>"
      ]
     },
     "metadata": {},
     "output_type": "display_data"
    }
   ],
   "source": [
    "seaborn.regplot('length', 'symboling', data=automobile, y_jitter=0.1, ci=60)"
   ]
  },
  {
   "cell_type": "code",
   "execution_count": 41,
   "metadata": {
    "collapsed": false
   },
   "outputs": [
    {
     "data": {
      "text/plain": [
       "<matplotlib.axes._subplots.AxesSubplot at 0x107194e3390>"
      ]
     },
     "execution_count": 41,
     "metadata": {},
     "output_type": "execute_result"
    },
    {
     "data": {
      "image/png": "[encoded data removed]",
      "text/plain": [
       "<matplotlib.figure.Figure at 0x107195227b8>"
      ]
     },
     "metadata": {},
     "output_type": "display_data"
    }
   ],
   "source": [
    "seaborn.regplot('length','symboling',data=automobile,y_jitter=0.1,ci=None,color='#F710A6')"
   ]
  },
  {
   "cell_type": "code",
   "execution_count": 42,
   "metadata": {
    "collapsed": false
   },
   "outputs": [
    {
     "data": {
      "text/plain": [
       "<matplotlib.axes._subplots.AxesSubplot at 0x10719555400>"
      ]
     },
     "execution_count": 42,
     "metadata": {},
     "output_type": "execute_result"
    },
    {
     "data": {
      "image/png": "[encoded data removed]",
      "text/plain": [
       "<matplotlib.figure.Figure at 0x1071a5619b0>"
      ]
     },
     "metadata": {},
     "output_type": "display_data"
    }
   ],
   "source": [
    "seaborn.regplot('length','symboling',data=automobile,y_jitter=0.1,ci=None,color='red')"
   ]
  },
  {
   "cell_type": "code",
   "execution_count": 43,
   "metadata": {
    "collapsed": false
   },
   "outputs": [
    {
     "data": {
      "text/plain": [
       "<matplotlib.axes._subplots.AxesSubplot at 0x107193eefd0>"
      ]
     },
     "execution_count": 43,
     "metadata": {},
     "output_type": "execute_result"
    },
    {
     "data": {
      "image/png": "[encoded data removed]",
      "text/plain": [
       "<matplotlib.figure.Figure at 0x107192ccba8>"
      ]
     },
     "metadata": {},
     "output_type": "display_data"
    }
   ],
   "source": [
    "seaborn.regplot('length', 'symboling', data=automobile, y_jitter=0.1, ci=None, scatter_kws={'color': 'orange'})"
   ]
  },
  {
   "cell_type": "code",
   "execution_count": 44,
   "metadata": {
    "collapsed": false
   },
   "outputs": [
    {
     "data": {
      "text/plain": [
       "<matplotlib.axes._subplots.AxesSubplot at 0x1071a589b70>"
      ]
     },
     "execution_count": 44,
     "metadata": {},
     "output_type": "execute_result"
    },
    {
     "data": {
      "image/png": "[encoded data removed]",
      "text/plain": [
       "<matplotlib.figure.Figure at 0x10716114320>"
      ]
     },
     "metadata": {},
     "output_type": "display_data"
    }
   ],
   "source": [
    "seaborn.regplot('length', 'symboling', data=automobile, y_jitter=0.1, ci=None, line_kws={'color': 'red'})"
   ]
  },
  {
   "cell_type": "code",
   "execution_count": 45,
   "metadata": {
    "collapsed": false,
    "scrolled": false
   },
   "outputs": [
    {
     "data": {
      "text/plain": [
       "<matplotlib.axes._subplots.AxesSubplot at 0x1071a5959e8>"
      ]
     },
     "execution_count": 45,
     "metadata": {},
     "output_type": "execute_result"
    },
    {
     "data": {
      "image/png": "[encoded data removed]",
      "text/plain": [
       "<matplotlib.figure.Figure at 0x1071a5d5400>"
      ]
     },
     "metadata": {},
     "output_type": "display_data"
    }
   ],
   "source": [
    "seaborn.regplot('length', 'symboling', data=automobile, y_jitter=0.1, ci=None,\n",
    "                line_kws={'color': '#F710A6'})"
   ]
  },
  {
   "cell_type": "code",
   "execution_count": 52,
   "metadata": {
    "collapsed": false,
    "scrolled": true
   },
   "outputs": [
    {
     "data": {
      "text/plain": [
       "<matplotlib.axes._subplots.AxesSubplot at 0x1071a97e908>"
      ]
     },
     "execution_count": 52,
     "metadata": {},
     "output_type": "execute_result"
    },
    {
     "data": {
      "image/png": "[encoded data removed]",
      "text/plain": [
       "<matplotlib.figure.Figure at 0x1071a9b4dd8>"
      ]
     },
     "metadata": {},
     "output_type": "display_data"
    }
   ],
   "source": [
    "seaborn.regplot('length', 'symboling', data=automobile, y_jitter=0.1, fit_reg=False,\n",
    "                marker='v', scatter_kws={'s': 50})"
   ]
  },
  {
   "cell_type": "code",
   "execution_count": 58,
   "metadata": {
    "collapsed": true
   },
   "outputs": [],
   "source": [
    "import statsmodels.formula.api as smf"
   ]
  },
  {
   "cell_type": "code",
   "execution_count": 56,
   "metadata": {
    "collapsed": true
   },
   "outputs": [],
   "source": [
    "#import statsmodels as smf"
   ]
  },
  {
   "cell_type": "code",
   "execution_count": 67,
   "metadata": {
    "collapsed": false
   },
   "outputs": [
    {
     "data": {
      "text/html": [
       "<table class=\"simpletable\">\n",
       "<caption>OLS Regression Results</caption>\n",
       "<tr>\n",
       "  <th>Dep. Variable:</th>        <td>symboling</td>    <th>  R-squared:         </th> <td>   0.113</td>\n",
       "</tr>\n",
       "<tr>\n",
       "  <th>Model:</th>                   <td>OLS</td>       <th>  Adj. R-squared:    </th> <td>   0.107</td>\n",
       "</tr>\n",
       "<tr>\n",
       "  <th>Method:</th>             <td>Least Squares</td>  <th>  F-statistic:       </th> <td>   20.01</td>\n",
       "</tr>\n",
       "<tr>\n",
       "  <th>Date:</th>             <td>Sat, 29 Oct 2016</td> <th>  Prob (F-statistic):</th> <td>1.47e-05</td>\n",
       "</tr>\n",
       "<tr>\n",
       "  <th>Time:</th>                 <td>11:54:45</td>     <th>  Log-Likelihood:    </th> <td> -243.64</td>\n",
       "</tr>\n",
       "<tr>\n",
       "  <th>No. Observations:</th>      <td>   159</td>      <th>  AIC:               </th> <td>   491.3</td>\n",
       "</tr>\n",
       "<tr>\n",
       "  <th>Df Residuals:</th>          <td>   157</td>      <th>  BIC:               </th> <td>   497.4</td>\n",
       "</tr>\n",
       "<tr>\n",
       "  <th>Df Model:</th>              <td>     1</td>      <th>                     </th>     <td> </td>   \n",
       "</tr>\n",
       "<tr>\n",
       "  <th>Covariance Type:</th>      <td>nonrobust</td>    <th>                     </th>     <td> </td>   \n",
       "</tr>\n",
       "</table>\n",
       "<table class=\"simpletable\">\n",
       "<tr>\n",
       "      <td></td>         <th>coef</th>     <th>std err</th>      <th>t</th>      <th>P>|t|</th> <th>[95.0% Conf. Int.]</th> \n",
       "</tr>\n",
       "<tr>\n",
       "  <th>Intercept</th> <td>    6.7385</td> <td>    1.345</td> <td>    5.011</td> <td> 0.000</td> <td>    4.082     9.395</td>\n",
       "</tr>\n",
       "<tr>\n",
       "  <th>length</th>    <td>   -0.0348</td> <td>    0.008</td> <td>   -4.474</td> <td> 0.000</td> <td>   -0.050    -0.019</td>\n",
       "</tr>\n",
       "</table>\n",
       "<table class=\"simpletable\">\n",
       "<tr>\n",
       "  <th>Omnibus:</th>       <td>10.632</td> <th>  Durbin-Watson:     </th> <td>   0.909</td>\n",
       "</tr>\n",
       "<tr>\n",
       "  <th>Prob(Omnibus):</th> <td> 0.005</td> <th>  Jarque-Bera (JB):  </th> <td>  11.510</td>\n",
       "</tr>\n",
       "<tr>\n",
       "  <th>Skew:</th>          <td> 0.658</td> <th>  Prob(JB):          </th> <td> 0.00317</td>\n",
       "</tr>\n",
       "<tr>\n",
       "  <th>Kurtosis:</th>      <td> 2.915</td> <th>  Cond. No.          </th> <td>2.60e+03</td>\n",
       "</tr>\n",
       "</table>"
      ],
      "text/plain": [
       "<class 'statsmodels.iolib.summary.Summary'>\n",
       "\"\"\"\n",
       "                            OLS Regression Results                            \n",
       "==============================================================================\n",
       "Dep. Variable:              symboling   R-squared:                       0.113\n",
       "Model:                            OLS   Adj. R-squared:                  0.107\n",
       "Method:                 Least Squares   F-statistic:                     20.01\n",
       "Date:                Sat, 29 Oct 2016   Prob (F-statistic):           1.47e-05\n",
       "Time:                        11:54:45   Log-Likelihood:                -243.64\n",
       "No. Observations:                 159   AIC:                             491.3\n",
       "Df Residuals:                     157   BIC:                             497.4\n",
       "Df Model:                           1                                         \n",
       "Covariance Type:            nonrobust                                         \n",
       "==============================================================================\n",
       "                 coef    std err          t      P>|t|      [95.0% Conf. Int.]\n",
       "------------------------------------------------------------------------------\n",
       "Intercept      6.7385      1.345      5.011      0.000         4.082     9.395\n",
       "length        -0.0348      0.008     -4.474      0.000        -0.050    -0.019\n",
       "==============================================================================\n",
       "Omnibus:                       10.632   Durbin-Watson:                   0.909\n",
       "Prob(Omnibus):                  0.005   Jarque-Bera (JB):               11.510\n",
       "Skew:                           0.658   Prob(JB):                      0.00317\n",
       "Kurtosis:                       2.915   Cond. No.                     2.60e+03\n",
       "==============================================================================\n",
       "\n",
       "Warnings:\n",
       "[1] Standard Errors assume that the covariance matrix of the errors is correctly specified.\n",
       "[2] The condition number is large, 2.6e+03. This might indicate that there are\n",
       "strong multicollinearity or other numerical problems.\n",
       "\"\"\""
      ]
     },
     "execution_count": 67,
     "metadata": {},
     "output_type": "execute_result"
    }
   ],
   "source": [
    "model = smf.ols('symboling~length', data=automobile)\n",
    "result=model.fit()\n",
    "result.summary()"
   ]
  },
  {
   "cell_type": "code",
   "execution_count": 66,
   "metadata": {
    "collapsed": true
   },
   "outputs": [],
   "source": [
    "#제일 중요한 게 coef, 그 다음이 R-squared\n",
    "#R-squared 는 0~1 사이의 값(1에 가까울수록 좋다)\n",
    "#변수가 많아질수록 R-squared 값이 떨어지므로 이걸 보정한게 Adj.R-squared\n",
    "#Log-Likelyhood, No.Observations,AIC,Df Residuals, BIC 는 0에 가까울 수록 좋다."
   ]
  },
  {
   "cell_type": "code",
   "execution_count": 68,
   "metadata": {
    "collapsed": false
   },
   "outputs": [
    {
     "data": {
      "text/html": [
       "<table class=\"simpletable\">\n",
       "<caption>OLS Regression Results</caption>\n",
       "<tr>\n",
       "  <th>Dep. Variable:</th>        <td>symboling</td>    <th>  R-squared:         </th> <td>   0.134</td>\n",
       "</tr>\n",
       "<tr>\n",
       "  <th>Model:</th>                   <td>OLS</td>       <th>  Adj. R-squared:    </th> <td>   0.123</td>\n",
       "</tr>\n",
       "<tr>\n",
       "  <th>Method:</th>             <td>Least Squares</td>  <th>  F-statistic:       </th> <td>   12.03</td>\n",
       "</tr>\n",
       "<tr>\n",
       "  <th>Date:</th>             <td>Sat, 29 Oct 2016</td> <th>  Prob (F-statistic):</th> <td>1.38e-05</td>\n",
       "</tr>\n",
       "<tr>\n",
       "  <th>Time:</th>                 <td>11:54:57</td>     <th>  Log-Likelihood:    </th> <td> -241.77</td>\n",
       "</tr>\n",
       "<tr>\n",
       "  <th>No. Observations:</th>      <td>   159</td>      <th>  AIC:               </th> <td>   489.5</td>\n",
       "</tr>\n",
       "<tr>\n",
       "  <th>Df Residuals:</th>          <td>   156</td>      <th>  BIC:               </th> <td>   498.8</td>\n",
       "</tr>\n",
       "<tr>\n",
       "  <th>Df Model:</th>              <td>     2</td>      <th>                     </th>     <td> </td>   \n",
       "</tr>\n",
       "<tr>\n",
       "  <th>Covariance Type:</th>      <td>nonrobust</td>    <th>                     </th>     <td> </td>   \n",
       "</tr>\n",
       "</table>\n",
       "<table class=\"simpletable\">\n",
       "<tr>\n",
       "      <td></td>         <th>coef</th>     <th>std err</th>      <th>t</th>      <th>P>|t|</th> <th>[95.0% Conf. Int.]</th> \n",
       "</tr>\n",
       "<tr>\n",
       "  <th>Intercept</th> <td>    9.2285</td> <td>    1.858</td> <td>    4.968</td> <td> 0.000</td> <td>    5.559    12.898</td>\n",
       "</tr>\n",
       "<tr>\n",
       "  <th>length</th>    <td>   -0.0522</td> <td>    0.012</td> <td>   -4.392</td> <td> 0.000</td> <td>   -0.076    -0.029</td>\n",
       "</tr>\n",
       "<tr>\n",
       "  <th>price</th>     <td> 4.488e-05</td> <td> 2.33e-05</td> <td>    1.925</td> <td> 0.056</td> <td>-1.17e-06  9.09e-05</td>\n",
       "</tr>\n",
       "</table>\n",
       "<table class=\"simpletable\">\n",
       "<tr>\n",
       "  <th>Omnibus:</th>       <td>10.367</td> <th>  Durbin-Watson:     </th> <td>   0.835</td>\n",
       "</tr>\n",
       "<tr>\n",
       "  <th>Prob(Omnibus):</th> <td> 0.006</td> <th>  Jarque-Bera (JB):  </th> <td>  11.225</td>\n",
       "</tr>\n",
       "<tr>\n",
       "  <th>Skew:</th>          <td> 0.648</td> <th>  Prob(JB):          </th> <td> 0.00365</td>\n",
       "</tr>\n",
       "<tr>\n",
       "  <th>Kurtosis:</th>      <td> 2.877</td> <th>  Cond. No.          </th> <td>2.70e+05</td>\n",
       "</tr>\n",
       "</table>"
      ],
      "text/plain": [
       "<class 'statsmodels.iolib.summary.Summary'>\n",
       "\"\"\"\n",
       "                            OLS Regression Results                            \n",
       "==============================================================================\n",
       "Dep. Variable:              symboling   R-squared:                       0.134\n",
       "Model:                            OLS   Adj. R-squared:                  0.123\n",
       "Method:                 Least Squares   F-statistic:                     12.03\n",
       "Date:                Sat, 29 Oct 2016   Prob (F-statistic):           1.38e-05\n",
       "Time:                        11:54:57   Log-Likelihood:                -241.77\n",
       "No. Observations:                 159   AIC:                             489.5\n",
       "Df Residuals:                     156   BIC:                             498.8\n",
       "Df Model:                           2                                         \n",
       "Covariance Type:            nonrobust                                         \n",
       "==============================================================================\n",
       "                 coef    std err          t      P>|t|      [95.0% Conf. Int.]\n",
       "------------------------------------------------------------------------------\n",
       "Intercept      9.2285      1.858      4.968      0.000         5.559    12.898\n",
       "length        -0.0522      0.012     -4.392      0.000        -0.076    -0.029\n",
       "price       4.488e-05   2.33e-05      1.925      0.056     -1.17e-06  9.09e-05\n",
       "==============================================================================\n",
       "Omnibus:                       10.367   Durbin-Watson:                   0.835\n",
       "Prob(Omnibus):                  0.006   Jarque-Bera (JB):               11.225\n",
       "Skew:                           0.648   Prob(JB):                      0.00365\n",
       "Kurtosis:                       2.877   Cond. No.                     2.70e+05\n",
       "==============================================================================\n",
       "\n",
       "Warnings:\n",
       "[1] Standard Errors assume that the covariance matrix of the errors is correctly specified.\n",
       "[2] The condition number is large, 2.7e+05. This might indicate that there are\n",
       "strong multicollinearity or other numerical problems.\n",
       "\"\"\""
      ]
     },
     "execution_count": 68,
     "metadata": {},
     "output_type": "execute_result"
    }
   ],
   "source": [
    "model = smf.ols('symboling~length+price', data=automobile)\n",
    "result=model.fit()\n",
    "result.summary()"
   ]
  },
  {
   "cell_type": "code",
   "execution_count": null,
   "metadata": {
    "collapsed": true
   },
   "outputs": [],
   "source": []
  },
  {
   "cell_type": "code",
   "execution_count": 69,
   "metadata": {
    "collapsed": true
   },
   "outputs": [],
   "source": [
    "#cross validation -> train 과 test 데이터를 나눠서 검증함\n",
    "#regularization -> 제약을 줘서 overfitting이 안되게 함.\n",
    "#    외무 유머 .. 주말\n",
    "# A   1    3  ..  3\n",
    "# B   3    5  ..  2"
   ]
  },
  {
   "cell_type": "code",
   "execution_count": 9,
   "metadata": {
    "collapsed": true
   },
   "outputs": [],
   "source": [
    "import seaborn"
   ]
  },
  {
   "cell_type": "code",
   "execution_count": 11,
   "metadata": {
    "collapsed": true
   },
   "outputs": [],
   "source": [
    "import pandas"
   ]
  },
  {
   "cell_type": "code",
   "execution_count": 10,
   "metadata": {
    "collapsed": true
   },
   "outputs": [],
   "source": [
    "%matplotlib inline"
   ]
  },
  {
   "cell_type": "code",
   "execution_count": 12,
   "metadata": {
    "collapsed": true
   },
   "outputs": [],
   "source": [
    "automobile = pandas.read_csv('automobile.csv')"
   ]
  },
  {
   "cell_type": "code",
   "execution_count": 14,
   "metadata": {
    "collapsed": false
   },
   "outputs": [
    {
     "data": {
      "image/png": "[encoded data removed]",
      "text/plain": [
       "<matplotlib.figure.Figure at 0x2f3f3641f28>"
      ]
     },
     "metadata": {},
     "output_type": "display_data"
    }
   ],
   "source": [
    "plot=seaborn.regplot('length','symboling',data=automobile)"
   ]
  },
  {
   "cell_type": "code",
   "execution_count": 15,
   "metadata": {
    "collapsed": true
   },
   "outputs": [],
   "source": [
    "plot.get_figure().savefig('plot.png')"
   ]
  },
  {
   "cell_type": "code",
   "execution_count": 19,
   "metadata": {
    "collapsed": false
   },
   "outputs": [],
   "source": [
    "from pptx import Presentation\n",
    "from pptx.util import Cm"
   ]
  },
  {
   "cell_type": "code",
   "execution_count": 20,
   "metadata": {
    "collapsed": true
   },
   "outputs": [],
   "source": [
    "prs=Presentation()"
   ]
  },
  {
   "cell_type": "code",
   "execution_count": 22,
   "metadata": {
    "collapsed": false
   },
   "outputs": [],
   "source": [
    "slide_layout=prs.slide_layouts[5]"
   ]
  },
  {
   "cell_type": "code",
   "execution_count": 24,
   "metadata": {
    "collapsed": false
   },
   "outputs": [],
   "source": [
    "slide=prs.slides.add_slide(slide_layout)"
   ]
  },
  {
   "cell_type": "code",
   "execution_count": 25,
   "metadata": {
    "collapsed": true
   },
   "outputs": [],
   "source": [
    "slide.shapes.title.text='그림 있어요~'"
   ]
  },
  {
   "cell_type": "code",
   "execution_count": 26,
   "metadata": {
    "collapsed": false
   },
   "outputs": [
    {
     "data": {
      "text/plain": [
       "<pptx.shapes.picture.Picture at 0x2f3f3a33518>"
      ]
     },
     "execution_count": 26,
     "metadata": {},
     "output_type": "execute_result"
    }
   ],
   "source": [
    "slide.shapes.add_picture('plot.png',left=Cm(2),top=Cm(3),width=Cm(20),height=Cm(15))"
   ]
  },
  {
   "cell_type": "code",
   "execution_count": 27,
   "metadata": {
    "collapsed": true
   },
   "outputs": [],
   "source": [
    "prs.save('plot.pptx')"
   ]
  },
  {
   "cell_type": "code",
   "execution_count": 28,
   "metadata": {
    "collapsed": true
   },
   "outputs": [],
   "source": [
    "#Classification : 이거냐 저거냐, 저 사진이 남자냐 여자냐\n",
    "#Regression : 연속적일 때\n",
    "#Clustering : 비슷한 애들끼리 그룹으로 묶는거\n",
    "#Dimensionality reduction : 시각화할때, \n",
    "#Model selection : \n",
    "#Preprocessing : 전처리"
   ]
  },
  {
   "cell_type": "code",
   "execution_count": 29,
   "metadata": {
    "collapsed": true
   },
   "outputs": [],
   "source": [
    "from sklearn.linear_model import LinearRegression"
   ]
  },
  {
   "cell_type": "code",
   "execution_count": 30,
   "metadata": {
    "collapsed": true
   },
   "outputs": [],
   "source": [
    "lm = LinearRegression()"
   ]
  },
  {
   "cell_type": "code",
   "execution_count": 31,
   "metadata": {
    "collapsed": true
   },
   "outputs": [],
   "source": [
    "variables=['bore','city_mpg','compression_ratio','curb_weight','engine_size','horsepower','peak_rpm','city_mpg','price']"
   ]
  },
  {
   "cell_type": "code",
   "execution_count": 32,
   "metadata": {
    "collapsed": true
   },
   "outputs": [],
   "source": [
    "X=automobile[variables]"
   ]
  },
  {
   "cell_type": "code",
   "execution_count": 33,
   "metadata": {
    "collapsed": true
   },
   "outputs": [],
   "source": [
    "y=automobile['symboling']"
   ]
  },
  {
   "cell_type": "code",
   "execution_count": 34,
   "metadata": {
    "collapsed": false
   },
   "outputs": [
    {
     "data": {
      "text/plain": [
       "LinearRegression(copy_X=True, fit_intercept=True, n_jobs=1, normalize=False)"
      ]
     },
     "execution_count": 34,
     "metadata": {},
     "output_type": "execute_result"
    }
   ],
   "source": [
    "lm.fit(X,y)"
   ]
  },
  {
   "cell_type": "code",
   "execution_count": 35,
   "metadata": {
    "collapsed": false
   },
   "outputs": [
    {
     "data": {
      "text/plain": [
       "array([ -9.19994818e-01,  -1.77056096e-02,   4.96314792e-02,\n",
       "        -2.48623412e-03,   1.29670222e-02,   1.85775081e-02,\n",
       "        -5.82385783e-06,  -1.77056096e-02,   8.75977992e-06])"
      ]
     },
     "execution_count": 35,
     "metadata": {},
     "output_type": "execute_result"
    }
   ],
   "source": [
    "lm.coef_"
   ]
  },
  {
   "cell_type": "code",
   "execution_count": 37,
   "metadata": {
    "collapsed": false
   },
   "outputs": [
    {
     "data": {
      "text/plain": [
       "6.9288843193298266"
      ]
     },
     "execution_count": 37,
     "metadata": {},
     "output_type": "execute_result"
    }
   ],
   "source": [
    "lm.intercept_"
   ]
  },
  {
   "cell_type": "code",
   "execution_count": 40,
   "metadata": {
    "collapsed": false,
    "scrolled": true
   },
   "outputs": [
    {
     "data": {
      "text/plain": [
       "array([ 1.22869619,  0.75338096,  0.6024508 ,  0.66337215,  0.76358223,\n",
       "        0.76791832,  1.38246601,  1.24690571,  1.05748346,  1.10408469,\n",
       "        1.01951923,  1.13622242,  1.35524505,  1.58126814,  1.1277013 ,\n",
       "        1.07705992,  1.08509264,  0.39132056,  1.10374268,  1.03335441,\n",
       "        1.71806314,  0.994447  ,  1.44978434,  1.41526047,  1.28245795,\n",
       "        1.23845072,  1.02167976,  0.90042109,  0.86093763,  0.70457539,\n",
       "        0.88146531,  1.23904373,  0.22109461,  1.2863216 ,  1.23393184,\n",
       "        1.22763252,  1.12730717,  1.07500811,  0.57858565,  0.51336387,\n",
       "        0.59391526,  0.52869348,  0.50015975,  0.73139093,  0.04071458,\n",
       "       -0.51993407,  0.11342492, -0.54029597,  0.62250774,  1.05563528,\n",
       "        1.21046833,  1.06549898,  1.53665454,  1.31447473,  0.85766323,\n",
       "        0.7524453 ,  0.66350767,  1.22647236,  1.22647236,  1.26072767,\n",
       "        1.04838751,  1.19870063,  1.1507279 ,  0.94129166,  1.12234876,\n",
       "        0.93528862,  1.07437603,  0.91466447,  0.98895521,  0.95922628,\n",
       "        1.0191793 ,  1.18187652,  0.69002727,  1.19807228,  1.35175495,\n",
       "        1.95895547,  1.19320277, -0.5854505 , -0.54552935, -0.72711241,\n",
       "       -0.64986104, -0.68075962, -0.64066327,  0.03777215,  1.03130428,\n",
       "        1.58126814,  1.1277013 ,  1.07705992,  0.68660953,  0.38212062,\n",
       "        0.97147785,  0.46788954,  0.3782057 ,  1.29350627,  0.25083061,\n",
       "        1.13299716,  1.04015112,  0.4066035 ,  0.63154315,  0.33801293,\n",
       "        0.56213265,  0.59991164,  0.51039435,  0.24236734,  0.4235622 ,\n",
       "        0.32140989,  0.26197347,  0.18007343,  0.11471114,  0.75868036,\n",
       "        0.77225454,  0.83572436,  0.18063902,  0.30600614, -1.72499723,\n",
       "        0.80860895,  0.74127194,  0.68673574,  0.54412729,  0.50000598,\n",
       "        0.78993468,  0.75306627,  0.63504252,  0.54960109,  1.25708508,\n",
       "        1.17216923,  0.98940494,  1.00977402,  0.97554643,  0.66790779,\n",
       "        0.58395552, -0.01134173,  0.85061917,  0.65904764,  0.71176318,\n",
       "        0.71973458,  0.6134062 ,  1.59791686,  1.52897323,  1.10709639,\n",
       "        0.63361782,  1.02436766,  0.62808627,  1.01883611,  0.8648313 ,\n",
       "        0.80347035,  1.17806447,  1.18494571, -0.10348008, -0.40263975,\n",
       "       -0.16940115, -0.43078552,  0.62508821,  0.35127267, -0.1687225 ,\n",
       "        0.56647175,  0.83497434,  0.40062888, -0.24993185])"
      ]
     },
     "execution_count": 40,
     "metadata": {},
     "output_type": "execute_result"
    }
   ],
   "source": [
    "lm.predict(X)"
   ]
  },
  {
   "cell_type": "markdown",
   "metadata": {},
   "source": [
    "# Cross validation"
   ]
  },
  {
   "cell_type": "code",
   "execution_count": 2,
   "metadata": {
    "collapsed": false
   },
   "outputs": [],
   "source": [
    "import pandas"
   ]
  },
  {
   "cell_type": "code",
   "execution_count": 3,
   "metadata": {
    "collapsed": true
   },
   "outputs": [],
   "source": [
    "automobile = pandas.read_csv('automobile.csv')"
   ]
  },
  {
   "cell_type": "markdown",
   "metadata": {},
   "source": [
    "### 데이터 준비"
   ]
  },
  {
   "cell_type": "code",
   "execution_count": 14,
   "metadata": {
    "collapsed": false
   },
   "outputs": [],
   "source": [
    "variables = ['bore', 'city_mpg', 'compression_ratio', 'curb_weight', 'engine_size',             'horsepower', 'peak_rpm', 'city_mpg', 'price']\n",
    "X = automobile[variables]\n",
    "y = automobile['doors']"
   ]
  },
  {
   "cell_type": "markdown",
   "metadata": {},
   "source": [
    "### 데이터 분할"
   ]
  },
  {
   "cell_type": "code",
   "execution_count": 15,
   "metadata": {
    "collapsed": false
   },
   "outputs": [],
   "source": [
    "from sklearn.model_selection import train_test_split"
   ]
  },
  {
   "cell_type": "code",
   "execution_count": 16,
   "metadata": {
    "collapsed": true
   },
   "outputs": [],
   "source": [
    "X_train, X_test, y_train, y_test = train_test_split(X, y, test_size=0.4, random_state=0)"
   ]
  },
  {
   "cell_type": "code",
   "execution_count": 17,
   "metadata": {
    "collapsed": true
   },
   "outputs": [],
   "source": [
    "from sklearn.linear_model import LogisticRegression\n",
    "from sklearn import metrics"
   ]
  },
  {
   "cell_type": "code",
   "execution_count": 18,
   "metadata": {
    "collapsed": true
   },
   "outputs": [],
   "source": [
    "lasso = LogisticRegression(penalty='l1', C=0.1)"
   ]
  },
  {
   "cell_type": "code",
   "execution_count": 19,
   "metadata": {
    "collapsed": false
   },
   "outputs": [
    {
     "data": {
      "text/plain": [
       "LogisticRegression(C=0.1, class_weight=None, dual=False, fit_intercept=True,\n",
       "          intercept_scaling=1, max_iter=100, multi_class='ovr', n_jobs=1,\n",
       "          penalty='l1', random_state=None, solver='liblinear', tol=0.0001,\n",
       "          verbose=0, warm_start=False)"
      ]
     },
     "execution_count": 19,
     "metadata": {},
     "output_type": "execute_result"
    }
   ],
   "source": [
    "lasso.fit(X_train, y_train)"
   ]
  },
  {
   "cell_type": "code",
   "execution_count": 20,
   "metadata": {
    "collapsed": true
   },
   "outputs": [],
   "source": [
    "y_lasso = lasso.predict(X_test)"
   ]
  },
  {
   "cell_type": "code",
   "execution_count": 21,
   "metadata": {
    "collapsed": false
   },
   "outputs": [
    {
     "data": {
      "text/plain": [
       "array(['two', 'four', 'four', 'four', 'four', 'four', 'two', 'four', 'two',\n",
       "       'four', 'two', 'four', 'two', 'two', 'two', 'two', 'four', 'four',\n",
       "       'two', 'two', 'two', 'four', 'two', 'four', 'two', 'two', 'two',\n",
       "       'four', 'four', 'four', 'two', 'two', 'two', 'four', 'two', 'four',\n",
       "       'four', 'two', 'four', 'four', 'four', 'two', 'four', 'two', 'four',\n",
       "       'two', 'two', 'four', 'two', 'four', 'four', 'two', 'two', 'four',\n",
       "       'four', 'two', 'two', 'two', 'four', 'four', 'four', 'two', 'two',\n",
       "       'four'], dtype=object)"
      ]
     },
     "execution_count": 21,
     "metadata": {},
     "output_type": "execute_result"
    }
   ],
   "source": [
    "y_lasso"
   ]
  },
  {
   "cell_type": "code",
   "execution_count": 22,
   "metadata": {
    "collapsed": false
   },
   "outputs": [
    {
     "data": {
      "text/plain": [
       "0.609375"
      ]
     },
     "execution_count": 22,
     "metadata": {},
     "output_type": "execute_result"
    }
   ],
   "source": [
    "metrics.accuracy_score(y_test, y_lasso)"
   ]
  },
  {
   "cell_type": "code",
   "execution_count": 23,
   "metadata": {
    "collapsed": false
   },
   "outputs": [
    {
     "data": {
      "text/plain": [
       "0.71875"
      ]
     },
     "execution_count": 23,
     "metadata": {},
     "output_type": "execute_result"
    }
   ],
   "source": [
    "metrics.precision_score(y_test, y_lasso, pos_label='four')"
   ]
  },
  {
   "cell_type": "markdown",
   "metadata": {},
   "source": [
    "## 로지스틱 회귀분석(Ridge)"
   ]
  },
  {
   "cell_type": "code",
   "execution_count": 24,
   "metadata": {
    "collapsed": true
   },
   "outputs": [],
   "source": [
    "ridge = LogisticRegression(penalty='l2', C=10)"
   ]
  },
  {
   "cell_type": "code",
   "execution_count": 27,
   "metadata": {
    "collapsed": false
   },
   "outputs": [
    {
     "data": {
      "text/plain": [
       "LogisticRegression(C=10, class_weight=None, dual=False, fit_intercept=True,\n",
       "          intercept_scaling=1, max_iter=100, multi_class='ovr', n_jobs=1,\n",
       "          penalty='l2', random_state=None, solver='liblinear', tol=0.0001,\n",
       "          verbose=0, warm_start=False)"
      ]
     },
     "execution_count": 27,
     "metadata": {},
     "output_type": "execute_result"
    }
   ],
   "source": [
    "ridge.fit(X_train, y_train)"
   ]
  },
  {
   "cell_type": "code",
   "execution_count": 28,
   "metadata": {
    "collapsed": true
   },
   "outputs": [],
   "source": [
    "y_ridge = ridge.predict(X_test)"
   ]
  },
  {
   "cell_type": "markdown",
   "metadata": {},
   "source": [
    "### 모형 평가"
   ]
  },
  {
   "cell_type": "code",
   "execution_count": 29,
   "metadata": {
    "collapsed": false
   },
   "outputs": [
    {
     "data": {
      "text/plain": [
       "array([[23, 16],\n",
       "       [10, 15]])"
      ]
     },
     "execution_count": 29,
     "metadata": {},
     "output_type": "execute_result"
    }
   ],
   "source": [
    "metrics.confusion_matrix(y_test, y_ridge)"
   ]
  },
  {
   "cell_type": "code",
   "execution_count": 30,
   "metadata": {
    "collapsed": false
   },
   "outputs": [
    {
     "data": {
      "text/plain": [
       "0.59375"
      ]
     },
     "execution_count": 30,
     "metadata": {},
     "output_type": "execute_result"
    }
   ],
   "source": [
    "metrics.accuracy_score(y_test, y_ridge)"
   ]
  },
  {
   "cell_type": "code",
   "execution_count": 31,
   "metadata": {
    "collapsed": false
   },
   "outputs": [
    {
     "data": {
      "text/plain": [
       "0.69696969696969702"
      ]
     },
     "execution_count": 31,
     "metadata": {},
     "output_type": "execute_result"
    }
   ],
   "source": [
    "metrics.precision_score(y_test, y_ridge, pos_label='four')"
   ]
  },
  {
   "cell_type": "code",
   "execution_count": 32,
   "metadata": {
    "collapsed": false
   },
   "outputs": [
    {
     "data": {
      "text/plain": [
       "0.58974358974358976"
      ]
     },
     "execution_count": 32,
     "metadata": {},
     "output_type": "execute_result"
    }
   ],
   "source": [
    "metrics.recall_score(y_test, y_ridge, pos_label='four')"
   ]
  },
  {
   "cell_type": "code",
   "execution_count": 21,
   "metadata": {
    "collapsed": false
   },
   "outputs": [
    {
     "ename": "NameError",
     "evalue": "name 'y_ridge' is not defined",
     "output_type": "error",
     "traceback": [
      "\u001b[0;31m---------------------------------------------------------------------------\u001b[0m",
      "\u001b[0;31mNameError\u001b[0m                                 Traceback (most recent call last)",
      "\u001b[0;32m<ipython-input-21-b25d0ab040b3>\u001b[0m in \u001b[0;36m<module>\u001b[0;34m()\u001b[0m\n\u001b[0;32m----> 1\u001b[0;31m \u001b[0mmetrics\u001b[0m\u001b[1;33m.\u001b[0m\u001b[0mf1_score\u001b[0m\u001b[1;33m(\u001b[0m\u001b[0my_test\u001b[0m\u001b[1;33m,\u001b[0m \u001b[0my_ridge\u001b[0m\u001b[1;33m,\u001b[0m \u001b[0mpos_label\u001b[0m\u001b[1;33m=\u001b[0m\u001b[1;34m'four'\u001b[0m\u001b[1;33m)\u001b[0m\u001b[1;33m\u001b[0m\u001b[0m\n\u001b[0m",
      "\u001b[0;31mNameError\u001b[0m: name 'y_ridge' is not defined"
     ]
    }
   ],
   "source": [
    "metrics.f1_score(y_test, y_ridge, pos_label='four')"
   ]
  },
  {
   "cell_type": "markdown",
   "metadata": {},
   "source": [
    "# SVM"
   ]
  },
  {
   "cell_type": "code",
   "execution_count": 5,
   "metadata": {
    "collapsed": true
   },
   "outputs": [],
   "source": [
    "import pandas"
   ]
  },
  {
   "cell_type": "code",
   "execution_count": 6,
   "metadata": {
    "collapsed": true
   },
   "outputs": [],
   "source": [
    "automobile = pandas.read_csv('automobile.csv')"
   ]
  },
  {
   "cell_type": "markdown",
   "metadata": {},
   "source": [
    "## 데이터 준비"
   ]
  },
  {
   "cell_type": "code",
   "execution_count": 7,
   "metadata": {
    "collapsed": true
   },
   "outputs": [],
   "source": [
    "variables = ['bore', 'city_mpg', 'compression_ratio', 'curb_weight', 'engine_size',\n",
    "             'horsepower', 'peak_rpm', 'city_mpg', 'price']\n",
    "X = automobile[variables]\n",
    "y = automobile['doors']"
   ]
  },
  {
   "cell_type": "markdown",
   "metadata": {},
   "source": [
    "## 데이터 분할"
   ]
  },
  {
   "cell_type": "code",
   "execution_count": 8,
   "metadata": {
    "collapsed": true
   },
   "outputs": [],
   "source": [
    "from sklearn.model_selection import train_test_split"
   ]
  },
  {
   "cell_type": "code",
   "execution_count": 9,
   "metadata": {
    "collapsed": true
   },
   "outputs": [],
   "source": [
    "X_train, X_test, y_train, y_test = train_test_split(X, y, test_size=0.4, random_state=0)"
   ]
  },
  {
   "cell_type": "markdown",
   "metadata": {},
   "source": [
    "### 선형 SVM"
   ]
  },
  {
   "cell_type": "code",
   "execution_count": 10,
   "metadata": {
    "collapsed": true
   },
   "outputs": [],
   "source": [
    "from sklearn.svm import SVC"
   ]
  },
  {
   "cell_type": "code",
   "execution_count": 11,
   "metadata": {
    "collapsed": true
   },
   "outputs": [],
   "source": [
    "from sklearn import metrics"
   ]
  },
  {
   "cell_type": "code",
   "execution_count": 12,
   "metadata": {
    "collapsed": true
   },
   "outputs": [],
   "source": [
    "svc = SVC(kernel='linear')"
   ]
  },
  {
   "cell_type": "code",
   "execution_count": 13,
   "metadata": {
    "collapsed": false
   },
   "outputs": [
    {
     "data": {
      "text/plain": [
       "SVC(C=1.0, cache_size=200, class_weight=None, coef0=0.0,\n",
       "  decision_function_shape=None, degree=3, gamma='auto', kernel='linear',\n",
       "  max_iter=-1, probability=False, random_state=None, shrinking=True,\n",
       "  tol=0.001, verbose=False)"
      ]
     },
     "execution_count": 13,
     "metadata": {},
     "output_type": "execute_result"
    }
   ],
   "source": [
    "svc.fit(X_train, y_train)"
   ]
  },
  {
   "cell_type": "code",
   "execution_count": 15,
   "metadata": {
    "collapsed": true
   },
   "outputs": [],
   "source": [
    "y_svc = svc.predict(X_test)"
   ]
  },
  {
   "cell_type": "markdown",
   "metadata": {},
   "source": [
    "### 모형 평가"
   ]
  },
  {
   "cell_type": "code",
   "execution_count": 16,
   "metadata": {
    "collapsed": false
   },
   "outputs": [
    {
     "data": {
      "text/plain": [
       "array([[21, 18],\n",
       "       [11, 14]])"
      ]
     },
     "execution_count": 16,
     "metadata": {},
     "output_type": "execute_result"
    }
   ],
   "source": [
    "metrics.confusion_matrix(y_test, y_svc)"
   ]
  },
  {
   "cell_type": "code",
   "execution_count": 17,
   "metadata": {
    "collapsed": false
   },
   "outputs": [
    {
     "data": {
      "text/plain": [
       "0.546875"
      ]
     },
     "execution_count": 17,
     "metadata": {},
     "output_type": "execute_result"
    }
   ],
   "source": [
    "metrics.accuracy_score(y_test, y_svc)"
   ]
  },
  {
   "cell_type": "code",
   "execution_count": 18,
   "metadata": {
    "collapsed": false
   },
   "outputs": [
    {
     "data": {
      "text/plain": [
       "0.65625"
      ]
     },
     "execution_count": 18,
     "metadata": {},
     "output_type": "execute_result"
    }
   ],
   "source": [
    "metrics.precision_score(y_test, y_svc, pos_label='four')"
   ]
  },
  {
   "cell_type": "code",
   "execution_count": 19,
   "metadata": {
    "collapsed": false
   },
   "outputs": [
    {
     "data": {
      "text/plain": [
       "0.53846153846153844"
      ]
     },
     "execution_count": 19,
     "metadata": {},
     "output_type": "execute_result"
    }
   ],
   "source": [
    "metrics.recall_score(y_test, y_svc, pos_label='four')"
   ]
  },
  {
   "cell_type": "code",
   "execution_count": 20,
   "metadata": {
    "collapsed": false
   },
   "outputs": [
    {
     "data": {
      "text/plain": [
       "0.59154929577464788"
      ]
     },
     "execution_count": 20,
     "metadata": {},
     "output_type": "execute_result"
    }
   ],
   "source": [
    "metrics.f1_score(y_test, y_svc, pos_label='four')"
   ]
  },
  {
   "cell_type": "markdown",
   "metadata": {},
   "source": [
    "### 페널티 조정"
   ]
  },
  {
   "cell_type": "code",
   "execution_count": 22,
   "metadata": {
    "collapsed": true
   },
   "outputs": [],
   "source": [
    "svc2 = SVC(kernel='linear', C=0.1)"
   ]
  },
  {
   "cell_type": "code",
   "execution_count": 23,
   "metadata": {
    "collapsed": false
   },
   "outputs": [
    {
     "data": {
      "text/plain": [
       "SVC(C=0.1, cache_size=200, class_weight=None, coef0=0.0,\n",
       "  decision_function_shape=None, degree=3, gamma='auto', kernel='linear',\n",
       "  max_iter=-1, probability=False, random_state=None, shrinking=True,\n",
       "  tol=0.001, verbose=False)"
      ]
     },
     "execution_count": 23,
     "metadata": {},
     "output_type": "execute_result"
    }
   ],
   "source": [
    "svc2.fit(X_train, y_train)"
   ]
  },
  {
   "cell_type": "code",
   "execution_count": 24,
   "metadata": {
    "collapsed": true
   },
   "outputs": [],
   "source": [
    "y_svc2 = svc2.predict(X_test)"
   ]
  },
  {
   "cell_type": "markdown",
   "metadata": {},
   "source": [
    "### 모형 평가"
   ]
  },
  {
   "cell_type": "code",
   "execution_count": 25,
   "metadata": {
    "collapsed": false
   },
   "outputs": [
    {
     "data": {
      "text/plain": [
       "array([[24, 15],\n",
       "       [ 9, 16]])"
      ]
     },
     "execution_count": 25,
     "metadata": {},
     "output_type": "execute_result"
    }
   ],
   "source": [
    "metrics.confusion_matrix(y_test, y_svc2)"
   ]
  },
  {
   "cell_type": "code",
   "execution_count": 26,
   "metadata": {
    "collapsed": false
   },
   "outputs": [
    {
     "data": {
      "text/plain": [
       "0.625"
      ]
     },
     "execution_count": 26,
     "metadata": {},
     "output_type": "execute_result"
    }
   ],
   "source": [
    "metrics.accuracy_score(y_test, y_svc2)"
   ]
  },
  {
   "cell_type": "code",
   "execution_count": 27,
   "metadata": {
    "collapsed": false
   },
   "outputs": [
    {
     "data": {
      "text/plain": [
       "0.72727272727272729"
      ]
     },
     "execution_count": 27,
     "metadata": {},
     "output_type": "execute_result"
    }
   ],
   "source": [
    "metrics.precision_score(y_test, y_svc2, pos_label='four')"
   ]
  },
  {
   "cell_type": "code",
   "execution_count": 28,
   "metadata": {
    "collapsed": false
   },
   "outputs": [
    {
     "data": {
      "text/plain": [
       "0.61538461538461542"
      ]
     },
     "execution_count": 28,
     "metadata": {},
     "output_type": "execute_result"
    }
   ],
   "source": [
    "metrics.recall_score(y_test, y_svc2, pos_label='four')"
   ]
  },
  {
   "cell_type": "code",
   "execution_count": 38,
   "metadata": {
    "collapsed": false
   },
   "outputs": [
    {
     "data": {
      "text/plain": [
       "0.66666666666666674"
      ]
     },
     "execution_count": 38,
     "metadata": {},
     "output_type": "execute_result"
    }
   ],
   "source": [
    "metrics.f1_score(y_test, y_svc2, pos_label='four')"
   ]
  },
  {
   "cell_type": "markdown",
   "metadata": {},
   "source": [
    "### 같은 패턴이 반복되니 함수로 만듭시다"
   ]
  },
  {
   "cell_type": "code",
   "execution_count": 30,
   "metadata": {
    "collapsed": true
   },
   "outputs": [],
   "source": [
    "def run_model(kernel, penalty):\n",
    "    model = SVC(kernel=kernel, C=penalty)\n",
    "    model.fit(X_train, y_train)\n",
    "    y_pred = model.predict(X_test)\n",
    "    \n",
    "    print('confusion matrix')\n",
    "    print(metrics.confusion_matrix(y_test, y_pred))\n",
    "    print('accuracy')\n",
    "    print(metrics.accuracy_score(y_test, y_pred))\n",
    "    print('precision')\n",
    "    print(metrics.precision_score(y_test, y_pred, pos_label='four'))\n",
    "    print('recall')\n",
    "    print(metrics.recall_score(y_test, y_pred, pos_label='four'))\n",
    "    print('F1')\n",
    "    print(metrics.f1_score(y_test, y_pred, pos_label='four'))\n",
    "    return model"
   ]
  },
  {
   "cell_type": "code",
   "execution_count": 66,
   "metadata": {
    "collapsed": false
   },
   "outputs": [
    {
     "name": "stdout",
     "output_type": "stream",
     "text": [
      "confusion matrix\n",
      "[[39  0]\n",
      " [25  0]]\n",
      "accuracy\n",
      "0.609375\n",
      "precision\n",
      "0.609375\n",
      "recall\n",
      "1.0\n",
      "F1\n",
      "0.757281553398\n"
     ]
    }
   ],
   "source": [
    "svc3 = run_model('linear', 0.0000001)"
   ]
  },
  {
   "cell_type": "markdown",
   "metadata": {},
   "source": [
    "### SVM + RBF 커널"
   ]
  },
  {
   "cell_type": "code",
   "execution_count": 67,
   "metadata": {
    "collapsed": false
   },
   "outputs": [
    {
     "name": "stdout",
     "output_type": "stream",
     "text": [
      "confusion matrix\n",
      "[[39  0]\n",
      " [24  1]]\n",
      "accuracy\n",
      "0.625\n",
      "precision\n",
      "0.619047619048\n",
      "recall\n",
      "1.0\n",
      "F1\n",
      "0.764705882353\n"
     ]
    }
   ],
   "source": [
    "svc_rbf = run_model('rbf', 1)"
   ]
  },
  {
   "cell_type": "code",
   "execution_count": 68,
   "metadata": {
    "collapsed": true
   },
   "outputs": [],
   "source": [
    "def run_model(kernel, penalty, gamma='auto'):\n",
    "    model = SVC(kernel=kernel, C=penalty, gamma=gamma)\n",
    "    model.fit(X_train, y_train)\n",
    "    y_pred = model.predict(X_test)\n",
    "    \n",
    "    print('confusion matrix')\n",
    "    print(metrics.confusion_matrix(y_test, y_pred))\n",
    "    print('accuracy')\n",
    "    print(metrics.accuracy_score(y_test, y_pred))\n",
    "    print('precision')\n",
    "    print(metrics.precision_score(y_test, y_pred, pos_label='four'))\n",
    "    print('recall')\n",
    "    print(metrics.recall_score(y_test, y_pred, pos_label='four'))\n",
    "    print('F1')\n",
    "    print(metrics.f1_score(y_test, y_pred, pos_label='four'))\n",
    "    return model"
   ]
  },
  {
   "cell_type": "code",
   "execution_count": 71,
   "metadata": {
    "collapsed": false
   },
   "outputs": [
    {
     "name": "stdout",
     "output_type": "stream",
     "text": [
      "confusion matrix\n",
      "[[19 20]\n",
      " [14 11]]\n",
      "accuracy\n",
      "0.46875\n",
      "precision\n",
      "0.575757575758\n",
      "recall\n",
      "0.487179487179\n",
      "F1\n",
      "0.527777777778\n"
     ]
    }
   ],
   "source": [
    "svc_rbf2 = run_model('rbf', 100, gamma=0.000001)"
   ]
  },
  {
   "cell_type": "code",
   "execution_count": 84,
   "metadata": {
    "collapsed": false
   },
   "outputs": [
    {
     "name": "stdout",
     "output_type": "stream",
     "text": [
      "confusion matrix\n",
      "[[39  0]\n",
      " [25  0]]\n",
      "accuracy\n",
      "0.609375\n",
      "precision\n",
      "0.609375\n",
      "recall\n",
      "1.0\n",
      "F1\n",
      "0.757281553398\n"
     ]
    }
   ],
   "source": [
    "svc_rbf2 = run_model('rbf', 100, gamma=0.0000000001)"
   ]
  },
  {
   "cell_type": "markdown",
   "metadata": {},
   "source": [
    "### 수제(?) 커널\n",
    "#### 독립 변수 중에 이산 변수만 골라낸다"
   ]
  },
  {
   "cell_type": "code",
   "execution_count": 85,
   "metadata": {
    "collapsed": false
   },
   "outputs": [
    {
     "name": "stdout",
     "output_type": "stream",
     "text": [
      "symboling\n",
      "normalized_losses\n",
      "maker\n",
      "fuel\n",
      "aspiration\n",
      "doors\n",
      "body\n",
      "wheels\n",
      "engine_location\n",
      "wheel_base\n",
      "length\n",
      "width\n",
      "height\n",
      "curb_weight\n",
      "engine_type\n",
      "cylinders\n",
      "engine_size\n",
      "fuel_system\n",
      "bore\n",
      "stroke\n",
      "compression_ratio\n",
      "horsepower\n",
      "peak_rpm\n",
      "city_mpg\n",
      "highway_mpg\n",
      "price\n"
     ]
    }
   ],
   "source": [
    "for v in automobile.columns:\n",
    "    print(v)"
   ]
  },
  {
   "cell_type": "code",
   "execution_count": 86,
   "metadata": {
    "collapsed": true
   },
   "outputs": [],
   "source": [
    "discrete = []\n",
    "for v in automobile.columns:\n",
    "    if automobile[v].dtype == object:\n",
    "        discrete.append(v)"
   ]
  },
  {
   "cell_type": "markdown",
   "metadata": {},
   "source": [
    "#### 위의 표현은 아래처럼 간략히 쓸 수도 있음"
   ]
  },
  {
   "cell_type": "code",
   "execution_count": 87,
   "metadata": {
    "collapsed": true
   },
   "outputs": [],
   "source": [
    "discrete = [v for v in automobile.columns if automobile[v].dtype == object]"
   ]
  },
  {
   "cell_type": "code",
   "execution_count": 88,
   "metadata": {
    "collapsed": true
   },
   "outputs": [],
   "source": [
    "data = automobile[discrete]"
   ]
  },
  {
   "cell_type": "code",
   "execution_count": 89,
   "metadata": {
    "collapsed": true
   },
   "outputs": [],
   "source": [
    "X = data[[x for x in discrete if x != 'doors']]"
   ]
  },
  {
   "cell_type": "code",
   "execution_count": 90,
   "metadata": {
    "collapsed": true
   },
   "outputs": [],
   "source": [
    "y = automobile['doors']"
   ]
  },
  {
   "cell_type": "markdown",
   "metadata": {},
   "source": [
    "### 커널 만들기\n",
    "#### 9가지 변수 중에 같은 변수의 갯수를 센다"
   ]
  },
  {
   "cell_type": "code",
   "execution_count": 91,
   "metadata": {
    "collapsed": true
   },
   "outputs": [],
   "source": [
    "same = 0\n",
    "for a, b in zip(data.ix[0,:], data.ix[1,:]):\n",
    "    if a == b:\n",
    "        same = same + 1"
   ]
  },
  {
   "cell_type": "code",
   "execution_count": 92,
   "metadata": {
    "collapsed": false
   },
   "outputs": [
    {
     "data": {
      "text/plain": [
       "8"
      ]
     },
     "execution_count": 92,
     "metadata": {},
     "output_type": "execute_result"
    }
   ],
   "source": [
    "same"
   ]
  },
  {
   "cell_type": "code",
   "execution_count": 93,
   "metadata": {
    "collapsed": true
   },
   "outputs": [],
   "source": [
    "def hand_made_kernel(d1, d2):\n",
    "    same = 0\n",
    "    for a, b in zip(d1, d2):\n",
    "        if a == b:\n",
    "            same = same + 1\n",
    "    return same"
   ]
  },
  {
   "cell_type": "markdown",
   "metadata": {},
   "source": [
    "### 데이터 분할"
   ]
  },
  {
   "cell_type": "code",
   "execution_count": 95,
   "metadata": {
    "collapsed": false
   },
   "outputs": [],
   "source": [
    "X_train, X_test, y_train, y_test = train_test_split(X, y, test_size=0.4, random_state=0)"
   ]
  },
  {
   "cell_type": "code",
   "execution_count": 96,
   "metadata": {
    "collapsed": true
   },
   "outputs": [],
   "source": [
    "row_train, _ = X_train.shape"
   ]
  },
  {
   "cell_type": "markdown",
   "metadata": {},
   "source": [
    "### 커널 적용"
   ]
  },
  {
   "cell_type": "code",
   "execution_count": 97,
   "metadata": {
    "collapsed": true
   },
   "outputs": [],
   "source": [
    "import numpy"
   ]
  },
  {
   "cell_type": "code",
   "execution_count": 98,
   "metadata": {
    "collapsed": true
   },
   "outputs": [],
   "source": [
    "P_train = numpy.zeros((row_train, row_train))"
   ]
  },
  {
   "cell_type": "code",
   "execution_count": 99,
   "metadata": {
    "collapsed": true
   },
   "outputs": [],
   "source": [
    "for i in range(row_train):\n",
    "    for j in range(row_train):\n",
    "        P_train[i, j] = hand_made_kernel(X_train.iloc[i,:], X_train.iloc[j,:])"
   ]
  },
  {
   "cell_type": "code",
   "execution_count": 100,
   "metadata": {
    "collapsed": false
   },
   "outputs": [
    {
     "data": {
      "text/plain": [
       "array([[ 9.,  5.,  8., ...,  6.,  6.,  3.],\n",
       "       [ 5.,  9.,  6., ...,  4.,  7.,  6.],\n",
       "       [ 8.,  6.,  9., ...,  6.,  6.,  3.],\n",
       "       ..., \n",
       "       [ 6.,  4.,  6., ...,  9.,  5.,  2.],\n",
       "       [ 6.,  7.,  6., ...,  5.,  9.,  5.],\n",
       "       [ 3.,  6.,  3., ...,  2.,  5.,  9.]])"
      ]
     },
     "execution_count": 100,
     "metadata": {},
     "output_type": "execute_result"
    }
   ],
   "source": [
    "P_train "
   ]
  },
  {
   "cell_type": "markdown",
   "metadata": {},
   "source": [
    "### 훈련"
   ]
  },
  {
   "cell_type": "code",
   "execution_count": 101,
   "metadata": {
    "collapsed": true
   },
   "outputs": [],
   "source": [
    "model = SVC(kernel='precomputed', C=1)"
   ]
  },
  {
   "cell_type": "code",
   "execution_count": 102,
   "metadata": {
    "collapsed": false
   },
   "outputs": [
    {
     "data": {
      "text/plain": [
       "SVC(C=1, cache_size=200, class_weight=None, coef0=0.0,\n",
       "  decision_function_shape=None, degree=3, gamma='auto',\n",
       "  kernel='precomputed', max_iter=-1, probability=False, random_state=None,\n",
       "  shrinking=True, tol=0.001, verbose=False)"
      ]
     },
     "execution_count": 102,
     "metadata": {},
     "output_type": "execute_result"
    }
   ],
   "source": [
    "model.fit(P_train, y_train)"
   ]
  },
  {
   "cell_type": "markdown",
   "metadata": {},
   "source": [
    "### 예측을 위해 커널 적용"
   ]
  },
  {
   "cell_type": "code",
   "execution_count": 103,
   "metadata": {
    "collapsed": true
   },
   "outputs": [],
   "source": [
    "row_test, _ = X_test.shape"
   ]
  },
  {
   "cell_type": "code",
   "execution_count": 104,
   "metadata": {
    "collapsed": true
   },
   "outputs": [],
   "source": [
    "P_test = numpy.zeros((row_test, row_train))"
   ]
  },
  {
   "cell_type": "code",
   "execution_count": 105,
   "metadata": {
    "collapsed": true
   },
   "outputs": [],
   "source": [
    "for i in range(row_test):\n",
    "    for j in range(row_train):\n",
    "        P_test[i, j] = hand_made_kernel(X_test.iloc[i,:], X_train.iloc[j,:])"
   ]
  },
  {
   "cell_type": "code",
   "execution_count": 106,
   "metadata": {
    "collapsed": false
   },
   "outputs": [
    {
     "data": {
      "text/plain": [
       "array([[ 6.,  3.,  6., ...,  4.,  4.,  4.],\n",
       "       [ 6.,  4.,  6., ...,  7.,  5.,  2.],\n",
       "       [ 6.,  4.,  5., ...,  4.,  3.,  2.],\n",
       "       ..., \n",
       "       [ 8.,  6.,  9., ...,  6.,  6.,  3.],\n",
       "       [ 7.,  5.,  7., ...,  8.,  6.,  3.],\n",
       "       [ 8.,  4.,  7., ...,  6.,  5.,  2.]])"
      ]
     },
     "execution_count": 106,
     "metadata": {},
     "output_type": "execute_result"
    }
   ],
   "source": [
    "P_test"
   ]
  },
  {
   "cell_type": "markdown",
   "metadata": {},
   "source": [
    "### 훈련"
   ]
  },
  {
   "cell_type": "code",
   "execution_count": 107,
   "metadata": {
    "collapsed": true
   },
   "outputs": [],
   "source": [
    "model = SVC(kernel='precomputed', C=1)"
   ]
  },
  {
   "cell_type": "code",
   "execution_count": 108,
   "metadata": {
    "collapsed": false
   },
   "outputs": [
    {
     "data": {
      "text/plain": [
       "SVC(C=1, cache_size=200, class_weight=None, coef0=0.0,\n",
       "  decision_function_shape=None, degree=3, gamma='auto',\n",
       "  kernel='precomputed', max_iter=-1, probability=False, random_state=None,\n",
       "  shrinking=True, tol=0.001, verbose=False)"
      ]
     },
     "execution_count": 108,
     "metadata": {},
     "output_type": "execute_result"
    }
   ],
   "source": [
    "model.fit(P_train, y_train)"
   ]
  },
  {
   "cell_type": "markdown",
   "metadata": {},
   "source": [
    "### 예측을 위해 커널 적용"
   ]
  },
  {
   "cell_type": "code",
   "execution_count": 109,
   "metadata": {
    "collapsed": true
   },
   "outputs": [],
   "source": [
    "row_test, _ = X_test.shape"
   ]
  },
  {
   "cell_type": "code",
   "execution_count": 110,
   "metadata": {
    "collapsed": true
   },
   "outputs": [],
   "source": [
    "P_test = numpy.zeros((row_test, row_train))"
   ]
  },
  {
   "cell_type": "code",
   "execution_count": 111,
   "metadata": {
    "collapsed": true
   },
   "outputs": [],
   "source": [
    "for i in range(row_test):\n",
    "    for j in range(row_train):\n",
    "        P_test[i, j] = hand_made_kernel(X_test.iloc[i,:], X_train.iloc[j,:])"
   ]
  },
  {
   "cell_type": "code",
   "execution_count": 112,
   "metadata": {
    "collapsed": false
   },
   "outputs": [
    {
     "data": {
      "text/plain": [
       "array([[ 6.,  3.,  6., ...,  4.,  4.,  4.],\n",
       "       [ 6.,  4.,  6., ...,  7.,  5.,  2.],\n",
       "       [ 6.,  4.,  5., ...,  4.,  3.,  2.],\n",
       "       ..., \n",
       "       [ 8.,  6.,  9., ...,  6.,  6.,  3.],\n",
       "       [ 7.,  5.,  7., ...,  8.,  6.,  3.],\n",
       "       [ 8.,  4.,  7., ...,  6.,  5.,  2.]])"
      ]
     },
     "execution_count": 112,
     "metadata": {},
     "output_type": "execute_result"
    }
   ],
   "source": [
    "P_test"
   ]
  },
  {
   "cell_type": "markdown",
   "metadata": {},
   "source": [
    "### 성능 평가"
   ]
  },
  {
   "cell_type": "code",
   "execution_count": 113,
   "metadata": {
    "collapsed": true
   },
   "outputs": [],
   "source": [
    "yp = model.predict(P_test)"
   ]
  },
  {
   "cell_type": "code",
   "execution_count": 114,
   "metadata": {
    "collapsed": false
   },
   "outputs": [
    {
     "data": {
      "text/plain": [
       "array([[36,  3],\n",
       "       [ 5, 20]])"
      ]
     },
     "execution_count": 114,
     "metadata": {},
     "output_type": "execute_result"
    }
   ],
   "source": [
    "metrics.confusion_matrix(y_test, yp)"
   ]
  },
  {
   "cell_type": "code",
   "execution_count": 115,
   "metadata": {
    "collapsed": false
   },
   "outputs": [
    {
     "data": {
      "text/plain": [
       "0.875"
      ]
     },
     "execution_count": 115,
     "metadata": {},
     "output_type": "execute_result"
    }
   ],
   "source": [
    "metrics.accuracy_score(y_test, yp)"
   ]
  },
  {
   "cell_type": "code",
   "execution_count": 116,
   "metadata": {
    "collapsed": false
   },
   "outputs": [
    {
     "data": {
      "text/plain": [
       "0.87804878048780488"
      ]
     },
     "execution_count": 116,
     "metadata": {},
     "output_type": "execute_result"
    }
   ],
   "source": [
    "metrics.precision_score(y_test, yp, pos_label='four')"
   ]
  },
  {
   "cell_type": "code",
   "execution_count": 117,
   "metadata": {
    "collapsed": false
   },
   "outputs": [
    {
     "data": {
      "text/plain": [
       "0.92307692307692313"
      ]
     },
     "execution_count": 117,
     "metadata": {},
     "output_type": "execute_result"
    }
   ],
   "source": [
    "metrics.recall_score(y_test, yp, pos_label='four')"
   ]
  },
  {
   "cell_type": "code",
   "execution_count": 118,
   "metadata": {
    "collapsed": false
   },
   "outputs": [
    {
     "data": {
      "text/plain": [
       "0.90000000000000002"
      ]
     },
     "execution_count": 118,
     "metadata": {},
     "output_type": "execute_result"
    }
   ],
   "source": [
    "metrics.f1_score(y_test, yp, pos_label='four')"
   ]
  },
  {
   "cell_type": "code",
   "execution_count": null,
   "metadata": {
    "collapsed": true
   },
   "outputs": [],
   "source": []
  }
 ],
 "metadata": {
  "anaconda-cloud": {},
  "kernelspec": {
   "display_name": "Python [conda root]",
   "language": "python",
   "name": "conda-root-py"
  },
  "language_info": {
   "codemirror_mode": {
    "name": "ipython",
    "version": 3
   },
   "file_extension": ".py",
   "mimetype": "text/x-python",
   "name": "python",
   "nbconvert_exporter": "python",
   "pygments_lexer": "ipython3",
   "version": "3.5.2"
  }
 },
 "nbformat": 4,
 "nbformat_minor": 0
}
