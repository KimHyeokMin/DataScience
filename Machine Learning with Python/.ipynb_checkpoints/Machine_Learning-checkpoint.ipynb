{
 "cells": [
  {
   "cell_type": "markdown",
   "metadata": {},
   "source": [
    "# Machine Learning : Concepts, Methods and Tools"
   ]
  },
  {
   "cell_type": "markdown",
   "metadata": {},
   "source": [
    "## What is Machine Learning?\n",
    "\n",
    "\n",
    "### Limitations of explicit programming\n",
    "- 기존의 방식은 데이터와 프로그래밍, 즉 코딩을 통해 결과를 내는 방식\n",
    "\n",
    "### Machine learning\n",
    "- Field of study that gives computers the ability to learn without being explicitly programmed.\n",
    "- 머신러닝은 데이터와 결과를 주면 프로그램 규칙을 컴퓨터가 찾아주는 방식"
   ]
  },
  {
   "cell_type": "markdown",
   "metadata": {},
   "source": [
    "##### Feature engineering : \n",
    "- 얼마만큼의 X 변수를 잘 만드냐에 따라 모델 성능의 결과가 다름"
   ]
  },
  {
   "cell_type": "markdown",
   "metadata": {},
   "source": [
    "<img src=\"images/Picture1.png\"/>"
   ]
  },
  {
   "cell_type": "markdown",
   "metadata": {},
   "source": [
    "## Why use Machine Learning ?\n",
    "- Problems for which existing solutions require a lot of han-tuning or longlists of rules \n",
    "> **one machine learning algorithm can often simplify code and perform better**\n",
    "- Complex problems for which there is no good solution at all using a traditional approach \n",
    "> **the best machine learning techniques can find a solution**\n",
    "- Fluctuating environments (유동적인 환경)\n",
    "> ** a machine learning systm can adapt to new data**\n",
    "- Getting insights about complex problems and large amounts of data"
   ]
  },
  {
   "cell_type": "markdown",
   "metadata": {},
   "source": [
    "## Limitaions of Machine Learning\n",
    "- 과적합(over-fitting) 또는 과도한 일반화(Overgeneralization) 문제\n",
    "- 모델 성능 약화(model performance deterioration)\n",
    "- 활용할 수 있는 정확한 데이터가 충분하지 않을 경우\n",
    "- 영역 복잡성(Domain Complexity)\n",
    "- 샘플링 오류 및 편향(Sampling Error or Bias) 문제\n",
    "- 미래 데이터 유출(Data Leakage from the Future)"
   ]
  },
  {
   "cell_type": "markdown",
   "metadata": {},
   "source": [
    "<img src=\"images/Picture2.png\"/>"
   ]
  },
  {
   "cell_type": "markdown",
   "metadata": {},
   "source": [
    "## Traditional ML vs. deep learning\n",
    "<img src=\"images/Picture3.png\" />\n",
    "\n",
    "*Coming up wih features is difficult, time-consuming, requires expert knowledge. \"Applied machine learning\" is basically feature engineering.*\n",
    "\n",
    "*딥러닝은 이미지, 오디오 그리고 텍스트에 특화되어 있다. 즉 예측률이 좋다. 딥러닝의 기본 전제는 위와같이 피쳐엔지니어링을 안하는 것이지만 현재 비즈니스 추세는 features 가 필요하여 하이브리드로 가는 추세이다.*"
   ]
  },
  {
   "cell_type": "markdown",
   "metadata": {},
   "source": [
    "## Types of Machine Learning\n",
    "> 머신러닝의 대부분은 지도학습으로 사용되며, Classification 이 70~80%, 나머지가 Regression(연속값 예측) 분석으로 사용된다.\n",
    "\n",
    "#### Machine Learning\n",
    "1. Supervised Learning (지도학습 Predictive Analytics)\n",
    " - Classification\n",
    "    - binary\n",
    "    - multiclass\n",
    " - Regression\n",
    "2. Unsupervised Learning (비지도학습 Descriptive Analytics)\n",
    " - Clustering\n",
    " - Dimensionality reduction\n",
    " - Association rule learning"
   ]
  },
  {
   "cell_type": "markdown",
   "metadata": {},
   "source": [
    "## Naming Conventions (규약)\n",
    "- **Features = predictor variables = independent variables**\n",
    "- **Class = target variable = dependent variable**"
   ]
  },
  {
   "cell_type": "markdown",
   "metadata": {
    "collapsed": true
   },
   "source": [
    "## 분류(Classification) 분석"
   ]
  },
  {
   "cell_type": "markdown",
   "metadata": {},
   "source": [
    "### 분류분석의 개념\n",
    "<img src=\"images/Picture4.png\" />\n"
   ]
  },
  {
   "cell_type": "markdown",
   "metadata": {},
   "source": [
    "### 분류분석 기법\n",
    "> 분류 분석은 선(SVM), 면(Decision Tree, Random Forest), 비선형(Neural Network)가 있으며 과적합 문제가 있으므로 어떤 기법이 최적인지는 전부 해봐야 알 수 있다.\n",
    "\n",
    "#### 시각적해석\n",
    "\n",
    "<img src=\"images/Picture5.png\" />"
   ]
  },
  {
   "cell_type": "markdown",
   "metadata": {},
   "source": [
    "#### Support Vector Machines\n",
    "\n",
    "<img src=\"images/Picture6.png\" />"
   ]
  },
  {
   "cell_type": "markdown",
   "metadata": {},
   "source": [
    "#### Decision Tree based Methods\n",
    "\n",
    "<img src=\"images/Picture7.png\" />"
   ]
  },
  {
   "cell_type": "markdown",
   "metadata": {},
   "source": [
    "#### Neural Networks\n",
    "\n",
    "<img src=\"images/Picture8.png\" />"
   ]
  },
  {
   "cell_type": "markdown",
   "metadata": {},
   "source": [
    "### Overfitting vs. Underfitting"
   ]
  },
  {
   "cell_type": "markdown",
   "metadata": {},
   "source": [
    "#### 과도적합(overfitting)\n",
    "- 모델이 데이터에 필요이상으로 적합한 모델\n",
    "- 데이터 내에 존재하는 규칙 뿐만 아니라 불완전한 레코드도 학습\n",
    "\n",
    "#### 과소적합(underfitting)\n",
    "- 모델이 데이터에 제대로 적합하지 못한 모델\n",
    "- 데이터 내에 존재하는 규칙도 제대로 학습하지 못함\n",
    "\n",
    "<img src=\"images/Picture9.png\" />"
   ]
  },
  {
   "cell_type": "markdown",
   "metadata": {},
   "source": [
    "### 차원의 저주(Curse of Dimensionality)"
   ]
  },
  {
   "cell_type": "markdown",
   "metadata": {},
   "source": [
    "- Feature는 최대한 많이 만들고 줄여나가야 한다.\n",
    "- Feature의 수가 증가하면 (같은 비율의 공간을 채우기 위해 변수 1개당) 분석에 필요한 데이터의 양은 기하급수적으로 증가한다.\n",
    "<img src=\"images/Picture10.png\" />\n",
    "- 충분한 데이터가 없다면 적은 데이터로 공간을 설명해야 하기 때문에 Overfitting이 발생하게 되고, 결국 모형의 성능이 떨어지게 된다.(일반화가 안됨)\n",
    "<img src=\"images/Picture11.png\" />\n",
    "- 해결방법 : feature reduction or feature selection"
   ]
  },
  {
   "cell_type": "markdown",
   "metadata": {},
   "source": [
    "### 데이터 분할(Data Partitioning)"
   ]
  },
  {
   "cell_type": "markdown",
   "metadata": {},
   "source": [
    "<img src=\"images/Picture12.png\" />\n",
    "- 모형의 Overfitting 여부(일반화 가능성)를 검증하기 위해 데이터를 학습용과 평가용으로 분리\n",
    "- 학습데이터(Training data) -> 모형 적합(Model Fitting)\n",
    "- 평가데이터(Test data) -> 모형 평가(Model Evaluation)\n",
    "- 60%(학습) - 40%(평가), 75%(학습) - 25%(평가) 분할을 주로 사용"
   ]
  },
  {
   "cell_type": "markdown",
   "metadata": {},
   "source": [
    "### Data Structure for Classification"
   ]
  },
  {
   "cell_type": "markdown",
   "metadata": {},
   "source": [
    "<img src=\"images/Picture13.png\" />\n",
    "- 모든 데이터가 하나의 테이블에 존재해야 한다.\n",
    "- 각 행은 기업과 관련있는 한 개체(Ex: 고객)에 대응해야 한다.\n",
    "- 하나의 값을 갖는 필드는 무시되어야 한다.\n",
    "- 대부분이 한 값을 갖는 필드도 가급적 무시되어야 한다.\n",
    "- 각 행마다 다른 값들을 가지는 필드는 무시되어야 한다.\n",
    "- 목표필드와 지나치게 높은 상관관계를 갖는 필드는 제거되어야 한다."
   ]
  },
  {
   "cell_type": "markdown",
   "metadata": {},
   "source": [
    "### 분류분석이 적용될 수 있는 비즈니스 문제"
   ]
  },
  {
   "cell_type": "markdown",
   "metadata": {},
   "source": [
    "- 특정 상품(Ex: 퇴직연금)에 가입할 가능성이 높은 고객은 누구인가?\n",
    "- 추가 가입을 유도하기 위해 대상고객에게 어떤 상품을 추천해야 하는가?\n",
    "- 향후 6개월 안에 이탈(Ex: 계약 만기 전에 실효 또는 중도 해약)할 가능성이 높은 고객들은 누구이며 그들의 특징은?\n",
    "- 고객별 LTV(Life Time Value)를 계산해 주는 모델은?\n",
    "\n",
    "- Ex: LTV = 현재 고객의 기여가치 + 추가 구매확률에 의한 기여가치 - 이탈확률에 의한 손실 가치\n",
    "- 담보대출 고객 중에서 누가 향후 90일 내에 조기상환할 것인가?\n",
    "- 각 고객별로 클릭할 가능성이 가장 높은 광고는 어떤 것인가?\n",
    "- 고객별로 어떤 할인쿠폰이 다음달에 사용될 것인가?\n",
    "- 추후 VIP의 고객이 될 가능성이 높은 고객들은?\n",
    "- 누가 차량사고를 낼 것인가?\n",
    "- 누가 이직할 것인가?"
   ]
  },
  {
   "cell_type": "markdown",
   "metadata": {},
   "source": [
    "### 지도학습이 발견한 이상하고 놀라운 사실"
   ]
  },
  {
   "cell_type": "markdown",
   "metadata": {},
   "source": [
    "- 배너광고를 본 사람 중 61%는 그와 관련된 검색을 할 가능성이 높다.\n",
    "- 맥 사용자들은 상대적으로 더 비싼 호텔을 예약한다.\n",
    "- 금융 및 주식사이트는 오후1시 직후가 접속 피크다.\n",
    "- 이메일 주소는 그 사람의 충성도를 암시한다.\n",
    "- 신용카드를 술집에서 자주 사용한다면 결제대금을 연체할 위험이 높다.\n",
    "- 신용등급이 낮을수록 자동차 사고를 낼 확률이 높다.\n",
    "- 이미 여러개의 계좌를 개설한 고객들에게 우편물을 보내면 오히려 그들이 더 많은 계좌를 개설할 가능성을 낮춘다.\n",
    "- 약정기간이 끝났는지 온라인으로 알아보는 고객은 경쟁업체로 넘어갈 가능성이 높다.\n",
    "- 직무순환을 많이 한 직원일수록 회사에 더 오래 다니는 경향이 있다.\n",
    "- 스테이플러는 일자리를 의미한다."
   ]
  },
  {
   "cell_type": "markdown",
   "metadata": {},
   "source": [
    "# Machine Learning Process"
   ]
  },
  {
   "cell_type": "markdown",
   "metadata": {
    "collapsed": true
   },
   "source": [
    "## CRISP-DM : SPSS에서 제시하는 데이터 마이닝 프로세스\n",
    ">CRISP-DM(cross-industry standard process for data mining)은 데이터마이닝에 관련된 광버위한 업무의 범위를 다루고 있음."
   ]
  },
  {
   "cell_type": "markdown",
   "metadata": {},
   "source": [
    "<img align=\"left\" src=\"http://www.kdnuggets.com/wp-content/uploads/crisp-dm-4-problems-fig1.png\" alt=\"CRISP-DM\">\n",
    "<img align=\"left\" src=\"http://www.dataprix.com/files/CRISPDM/Metodologia_CRISP_DM1_html_52cdbecf.png\", alt=\"CRISP-DM\">"
   ]
  },
  {
   "cell_type": "markdown",
   "metadata": {},
   "source": [
    "- 단계 1: 비즈니스 이해(Business Understanding)\n",
    "  - 각종 참고 자료와 현업 책임자와의 커뮤니케이션을 통해 해당 비즈니스를 이해하는 단계\n",
    "- 단계 2: 데이터 이해(Data Understanding)\n",
    "  - 레코드 수, 변수 종류, 자료의 질 등, 현업이 보유 관리하고 있는 데이터를 이해하는 단계\n",
    "- 단계 3: 데이터 준비(Data Preparation)\n",
    "  - 데이터의 정제, 새로운 데이터 생성 등, 자료를 분석 가능한 상태로 만드는 단계\n",
    "- 단계 4: 모델링(Modeling)\n",
    "  - 자료 기술 및 탐색을 포함하여 필요한 각종 모델링을 하는 단계\n",
    "- 단계 5: 평가(Evaluation)\n",
    "  - 모형의 해석 가능 여부, 독립적인 새 자료에 적용되는 경우에도 재현 가능한지를 검토하는 단계\n",
    "- 단계 6: 전개(Deployment)\n",
    "  - 각 관리자에게 전달하여 필요한 조치를 취하는 등 검토가 끝난 모형을 실제 현업에 적용하는 단계\n"
   ]
  },
  {
   "cell_type": "markdown",
   "metadata": {},
   "source": [
    "## Predictive Analytics Process"
   ]
  },
  {
   "cell_type": "markdown",
   "metadata": {},
   "source": [
    "<img src=\"images/Picture14.png\" />"
   ]
  },
  {
   "cell_type": "markdown",
   "metadata": {},
   "source": [
    "## Excercise #1"
   ]
  },
  {
   "cell_type": "markdown",
   "metadata": {},
   "source": [
    "### Step 1: Business Understanding\n",
    "\n",
    "- 사업 목적\n",
    "  - 새로운 개인연금상품(PEP: Personal Equity Plan)을 개발하여 기존 고객들을 대상으로 가능한 많은 계좌를 유치\n",
    "- 분석 목적\n",
    "  - PEP 가입 예측모형 개발\n",
    "  - 고객 프로파일 개발\n",
    "  - 다이렉트 메일 광고 효율성 제고\n",
    "  - 타겟 메일링에 의한 응답률 제고"
   ]
  },
  {
   "cell_type": "markdown",
   "metadata": {},
   "source": [
    "### Step 2: Data Understanding\n",
    "- 데이터 획득 절차\n",
    "  1. 기존고객 DB로부터 시험메일 발송을 위한 표본고객목록을 추출\n",
    "  2. 새로운 금융상품(PEP)의 제안 메일을 발송\n",
    "  3. 고객의 반응을 기록\n",
    "- 분석 데이터\n",
    "  - 학습용 데이터 600건\n",
    "  - 신규고객 데이터 200건"
   ]
  },
  {
   "cell_type": "markdown",
   "metadata": {},
   "source": [
    "<font color = \"blue\">\n",
    "##### Frequently used libraries in Module 3 & 4 #####"
   ]
  },
  {
   "cell_type": "code",
   "execution_count": 1,
   "metadata": {
    "collapsed": true
   },
   "outputs": [],
   "source": [
    "import pandas as pd\n",
    "from pandas import Series, DataFrame\n",
    "import numpy as np\n",
    "import matplotlib.pyplot as plt\n",
    "%matplotlib inline"
   ]
  },
  {
   "cell_type": "markdown",
   "metadata": {},
   "source": [
    "### Collect Initial Data"
   ]
  },
  {
   "cell_type": "markdown",
   "metadata": {},
   "source": [
    "#### Create the Workspace"
   ]
  },
  {
   "cell_type": "code",
   "execution_count": 2,
   "metadata": {},
   "outputs": [
    {
     "data": {
      "application/json": {
       "cell": {
        "!": "OSMagics",
        "HTML": "Other",
        "SVG": "Other",
        "bash": "Other",
        "capture": "ExecutionMagics",
        "cmd": "Other",
        "debug": "ExecutionMagics",
        "file": "Other",
        "html": "DisplayMagics",
        "javascript": "DisplayMagics",
        "js": "DisplayMagics",
        "latex": "DisplayMagics",
        "markdown": "DisplayMagics",
        "perl": "Other",
        "prun": "ExecutionMagics",
        "pypy": "Other",
        "python": "Other",
        "python2": "Other",
        "python3": "Other",
        "ruby": "Other",
        "script": "ScriptMagics",
        "sh": "Other",
        "svg": "DisplayMagics",
        "sx": "OSMagics",
        "system": "OSMagics",
        "time": "ExecutionMagics",
        "timeit": "ExecutionMagics",
        "writefile": "OSMagics"
       },
       "line": {
        "alias": "OSMagics",
        "alias_magic": "BasicMagics",
        "autocall": "AutoMagics",
        "automagic": "AutoMagics",
        "autosave": "KernelMagics",
        "bookmark": "OSMagics",
        "cd": "OSMagics",
        "clear": "KernelMagics",
        "cls": "KernelMagics",
        "colors": "BasicMagics",
        "config": "ConfigMagics",
        "connect_info": "KernelMagics",
        "copy": "Other",
        "ddir": "Other",
        "debug": "ExecutionMagics",
        "dhist": "OSMagics",
        "dirs": "OSMagics",
        "doctest_mode": "BasicMagics",
        "echo": "Other",
        "ed": "Other",
        "edit": "KernelMagics",
        "env": "OSMagics",
        "gui": "BasicMagics",
        "hist": "Other",
        "history": "HistoryMagics",
        "killbgscripts": "ScriptMagics",
        "ldir": "Other",
        "less": "KernelMagics",
        "load": "CodeMagics",
        "load_ext": "ExtensionMagics",
        "loadpy": "CodeMagics",
        "logoff": "LoggingMagics",
        "logon": "LoggingMagics",
        "logstart": "LoggingMagics",
        "logstate": "LoggingMagics",
        "logstop": "LoggingMagics",
        "ls": "Other",
        "lsmagic": "BasicMagics",
        "macro": "ExecutionMagics",
        "magic": "BasicMagics",
        "matplotlib": "PylabMagics",
        "mkdir": "Other",
        "more": "KernelMagics",
        "notebook": "BasicMagics",
        "page": "BasicMagics",
        "pastebin": "CodeMagics",
        "pdb": "ExecutionMagics",
        "pdef": "NamespaceMagics",
        "pdoc": "NamespaceMagics",
        "pfile": "NamespaceMagics",
        "pinfo": "NamespaceMagics",
        "pinfo2": "NamespaceMagics",
        "pip": "BasicMagics",
        "popd": "OSMagics",
        "pprint": "BasicMagics",
        "precision": "BasicMagics",
        "profile": "BasicMagics",
        "prun": "ExecutionMagics",
        "psearch": "NamespaceMagics",
        "psource": "NamespaceMagics",
        "pushd": "OSMagics",
        "pwd": "OSMagics",
        "pycat": "OSMagics",
        "pylab": "PylabMagics",
        "qtconsole": "KernelMagics",
        "quickref": "BasicMagics",
        "recall": "HistoryMagics",
        "rehashx": "OSMagics",
        "reload_ext": "ExtensionMagics",
        "ren": "Other",
        "rep": "Other",
        "rerun": "HistoryMagics",
        "reset": "NamespaceMagics",
        "reset_selective": "NamespaceMagics",
        "rmdir": "Other",
        "run": "ExecutionMagics",
        "save": "CodeMagics",
        "sc": "OSMagics",
        "set_env": "OSMagics",
        "store": "StoreMagics",
        "sx": "OSMagics",
        "system": "OSMagics",
        "tb": "ExecutionMagics",
        "time": "ExecutionMagics",
        "timeit": "ExecutionMagics",
        "unalias": "OSMagics",
        "unload_ext": "ExtensionMagics",
        "who": "NamespaceMagics",
        "who_ls": "NamespaceMagics",
        "whos": "NamespaceMagics",
        "xdel": "NamespaceMagics",
        "xmode": "BasicMagics"
       }
      },
      "text/plain": [
       "Available line magics:\n",
       "%alias  %alias_magic  %autocall  %automagic  %autosave  %bookmark  %cd  %clear  %cls  %colors  %config  %connect_info  %copy  %ddir  %debug  %dhist  %dirs  %doctest_mode  %echo  %ed  %edit  %env  %gui  %hist  %history  %killbgscripts  %ldir  %less  %load  %load_ext  %loadpy  %logoff  %logon  %logstart  %logstate  %logstop  %ls  %lsmagic  %macro  %magic  %matplotlib  %mkdir  %more  %notebook  %page  %pastebin  %pdb  %pdef  %pdoc  %pfile  %pinfo  %pinfo2  %popd  %pprint  %precision  %profile  %prun  %psearch  %psource  %pushd  %pwd  %pycat  %pylab  %qtconsole  %quickref  %recall  %rehashx  %reload_ext  %ren  %rep  %rerun  %reset  %reset_selective  %rmdir  %run  %save  %sc  %set_env  %store  %sx  %system  %tb  %time  %timeit  %unalias  %unload_ext  %who  %who_ls  %whos  %xdel  %xmode\n",
       "\n",
       "Available cell magics:\n",
       "%%!  %%HTML  %%SVG  %%bash  %%capture  %%cmd  %%debug  %%file  %%html  %%javascript  %%js  %%latex  %%markdown  %%perl  %%prun  %%pypy  %%python  %%python2  %%python3  %%ruby  %%script  %%sh  %%svg  %%sx  %%system  %%time  %%timeit  %%writefile\n",
       "\n",
       "Automagic is ON, % prefix IS NOT needed for line magics."
      ]
     },
     "execution_count": 2,
     "metadata": {},
     "output_type": "execute_result"
    }
   ],
   "source": [
    "%lsmagic"
   ]
  },
  {
   "cell_type": "code",
   "execution_count": 3,
   "metadata": {
    "collapsed": true
   },
   "outputs": [],
   "source": [
    "# Change working directory\n",
    "#%cd c:/+module3"
   ]
  },
  {
   "cell_type": "markdown",
   "metadata": {},
   "source": [
    "#### Read Initial Data"
   ]
  },
  {
   "cell_type": "code",
   "execution_count": 4,
   "metadata": {
    "collapsed": true
   },
   "outputs": [],
   "source": [
    "#for modeling\n",
    "df = pd.read_csv(\"data/M3T1_data_pepTestCustomers.csv\")\n",
    "#for deployment\n",
    "new = pd.read_csv(\"data/M3T1_data_pepNewCustomers.csv\")"
   ]
  },
  {
   "cell_type": "markdown",
   "metadata": {},
   "source": [
    "### Describe Data"
   ]
  },
  {
   "cell_type": "code",
   "execution_count": 8,
   "metadata": {},
   "outputs": [
    {
     "name": "stdout",
     "output_type": "stream",
     "text": [
      "<class 'pandas.core.frame.DataFrame'>\n",
      "RangeIndex: 600 entries, 0 to 599\n",
      "Data columns (total 12 columns):\n",
      "id             600 non-null object\n",
      "age            600 non-null int64\n",
      "sex            600 non-null int64\n",
      "region         600 non-null int64\n",
      "income         600 non-null float64\n",
      "married        600 non-null int64\n",
      "children       600 non-null int64\n",
      "car            600 non-null int64\n",
      "save_act       600 non-null int64\n",
      "current_act    600 non-null int64\n",
      "mortgage       600 non-null int64\n",
      "pep            600 non-null int64\n",
      "dtypes: float64(1), int64(10), object(1)\n",
      "memory usage: 56.3+ KB\n"
     ]
    }
   ],
   "source": [
    "df.info()"
   ]
  },
  {
   "cell_type": "code",
   "execution_count": 11,
   "metadata": {},
   "outputs": [
    {
     "data": {
      "text/html": [
       "<div>\n",
       "<style>\n",
       "    .dataframe thead tr:only-child th {\n",
       "        text-align: right;\n",
       "    }\n",
       "\n",
       "    .dataframe thead th {\n",
       "        text-align: left;\n",
       "    }\n",
       "\n",
       "    .dataframe tbody tr th {\n",
       "        vertical-align: top;\n",
       "    }\n",
       "</style>\n",
       "<table border=\"1\" class=\"dataframe\">\n",
       "  <thead>\n",
       "    <tr style=\"text-align: right;\">\n",
       "      <th></th>\n",
       "      <th>id</th>\n",
       "      <th>age</th>\n",
       "      <th>sex</th>\n",
       "      <th>region</th>\n",
       "      <th>income</th>\n",
       "      <th>married</th>\n",
       "      <th>children</th>\n",
       "      <th>car</th>\n",
       "      <th>save_act</th>\n",
       "      <th>current_act</th>\n",
       "      <th>mortgage</th>\n",
       "      <th>pep</th>\n",
       "    </tr>\n",
       "  </thead>\n",
       "  <tbody>\n",
       "    <tr>\n",
       "      <th>0</th>\n",
       "      <td>ID12101</td>\n",
       "      <td>48</td>\n",
       "      <td>0</td>\n",
       "      <td>0</td>\n",
       "      <td>17546.00</td>\n",
       "      <td>0</td>\n",
       "      <td>1</td>\n",
       "      <td>0</td>\n",
       "      <td>0</td>\n",
       "      <td>0</td>\n",
       "      <td>0</td>\n",
       "      <td>1</td>\n",
       "    </tr>\n",
       "    <tr>\n",
       "      <th>1</th>\n",
       "      <td>ID12102</td>\n",
       "      <td>40</td>\n",
       "      <td>1</td>\n",
       "      <td>3</td>\n",
       "      <td>30085.10</td>\n",
       "      <td>1</td>\n",
       "      <td>3</td>\n",
       "      <td>1</td>\n",
       "      <td>0</td>\n",
       "      <td>1</td>\n",
       "      <td>1</td>\n",
       "      <td>0</td>\n",
       "    </tr>\n",
       "    <tr>\n",
       "      <th>2</th>\n",
       "      <td>ID12103</td>\n",
       "      <td>51</td>\n",
       "      <td>0</td>\n",
       "      <td>0</td>\n",
       "      <td>16575.40</td>\n",
       "      <td>1</td>\n",
       "      <td>0</td>\n",
       "      <td>1</td>\n",
       "      <td>1</td>\n",
       "      <td>1</td>\n",
       "      <td>0</td>\n",
       "      <td>0</td>\n",
       "    </tr>\n",
       "    <tr>\n",
       "      <th>3</th>\n",
       "      <td>ID12104</td>\n",
       "      <td>23</td>\n",
       "      <td>0</td>\n",
       "      <td>3</td>\n",
       "      <td>20375.40</td>\n",
       "      <td>1</td>\n",
       "      <td>3</td>\n",
       "      <td>0</td>\n",
       "      <td>0</td>\n",
       "      <td>1</td>\n",
       "      <td>0</td>\n",
       "      <td>0</td>\n",
       "    </tr>\n",
       "    <tr>\n",
       "      <th>4</th>\n",
       "      <td>ID12105</td>\n",
       "      <td>57</td>\n",
       "      <td>0</td>\n",
       "      <td>1</td>\n",
       "      <td>50576.30</td>\n",
       "      <td>1</td>\n",
       "      <td>0</td>\n",
       "      <td>0</td>\n",
       "      <td>1</td>\n",
       "      <td>0</td>\n",
       "      <td>0</td>\n",
       "      <td>0</td>\n",
       "    </tr>\n",
       "    <tr>\n",
       "      <th>5</th>\n",
       "      <td>ID12106</td>\n",
       "      <td>57</td>\n",
       "      <td>0</td>\n",
       "      <td>3</td>\n",
       "      <td>37869.60</td>\n",
       "      <td>1</td>\n",
       "      <td>2</td>\n",
       "      <td>0</td>\n",
       "      <td>1</td>\n",
       "      <td>1</td>\n",
       "      <td>0</td>\n",
       "      <td>1</td>\n",
       "    </tr>\n",
       "    <tr>\n",
       "      <th>6</th>\n",
       "      <td>ID12107</td>\n",
       "      <td>22</td>\n",
       "      <td>1</td>\n",
       "      <td>1</td>\n",
       "      <td>8877.07</td>\n",
       "      <td>0</td>\n",
       "      <td>0</td>\n",
       "      <td>0</td>\n",
       "      <td>0</td>\n",
       "      <td>1</td>\n",
       "      <td>0</td>\n",
       "      <td>1</td>\n",
       "    </tr>\n",
       "    <tr>\n",
       "      <th>7</th>\n",
       "      <td>ID12108</td>\n",
       "      <td>58</td>\n",
       "      <td>1</td>\n",
       "      <td>3</td>\n",
       "      <td>24946.60</td>\n",
       "      <td>1</td>\n",
       "      <td>0</td>\n",
       "      <td>1</td>\n",
       "      <td>1</td>\n",
       "      <td>1</td>\n",
       "      <td>0</td>\n",
       "      <td>0</td>\n",
       "    </tr>\n",
       "    <tr>\n",
       "      <th>8</th>\n",
       "      <td>ID12109</td>\n",
       "      <td>37</td>\n",
       "      <td>0</td>\n",
       "      <td>2</td>\n",
       "      <td>25304.30</td>\n",
       "      <td>1</td>\n",
       "      <td>2</td>\n",
       "      <td>1</td>\n",
       "      <td>0</td>\n",
       "      <td>0</td>\n",
       "      <td>0</td>\n",
       "      <td>0</td>\n",
       "    </tr>\n",
       "    <tr>\n",
       "      <th>9</th>\n",
       "      <td>ID12110</td>\n",
       "      <td>54</td>\n",
       "      <td>1</td>\n",
       "      <td>3</td>\n",
       "      <td>24212.10</td>\n",
       "      <td>1</td>\n",
       "      <td>2</td>\n",
       "      <td>1</td>\n",
       "      <td>1</td>\n",
       "      <td>1</td>\n",
       "      <td>0</td>\n",
       "      <td>0</td>\n",
       "    </tr>\n",
       "  </tbody>\n",
       "</table>\n",
       "</div>"
      ],
      "text/plain": [
       "        id  age  sex  region    income  married  children  car  save_act  \\\n",
       "0  ID12101   48    0       0  17546.00        0         1    0         0   \n",
       "1  ID12102   40    1       3  30085.10        1         3    1         0   \n",
       "2  ID12103   51    0       0  16575.40        1         0    1         1   \n",
       "3  ID12104   23    0       3  20375.40        1         3    0         0   \n",
       "4  ID12105   57    0       1  50576.30        1         0    0         1   \n",
       "5  ID12106   57    0       3  37869.60        1         2    0         1   \n",
       "6  ID12107   22    1       1   8877.07        0         0    0         0   \n",
       "7  ID12108   58    1       3  24946.60        1         0    1         1   \n",
       "8  ID12109   37    0       2  25304.30        1         2    1         0   \n",
       "9  ID12110   54    1       3  24212.10        1         2    1         1   \n",
       "\n",
       "   current_act  mortgage  pep  \n",
       "0            0         0    1  \n",
       "1            1         1    0  \n",
       "2            1         0    0  \n",
       "3            1         0    0  \n",
       "4            0         0    0  \n",
       "5            1         0    1  \n",
       "6            1         0    1  \n",
       "7            1         0    0  \n",
       "8            0         0    0  \n",
       "9            1         0    0  "
      ]
     },
     "execution_count": 11,
     "metadata": {},
     "output_type": "execute_result"
    }
   ],
   "source": [
    "df.head(10)"
   ]
  },
  {
   "cell_type": "code",
   "execution_count": null,
   "metadata": {
    "collapsed": true
   },
   "outputs": [],
   "source": []
  }
 ],
 "metadata": {
  "kernelspec": {
   "display_name": "Python 3",
   "language": "python",
   "name": "python3"
  },
  "language_info": {
   "codemirror_mode": {
    "name": "ipython",
    "version": 3
   },
   "file_extension": ".py",
   "mimetype": "text/x-python",
   "name": "python",
   "nbconvert_exporter": "python",
   "pygments_lexer": "ipython3",
   "version": "3.6.2"
  }
 },
 "nbformat": 4,
 "nbformat_minor": 2
}
