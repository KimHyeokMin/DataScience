{
 "cells": [
  {
   "cell_type": "markdown",
   "metadata": {},
   "source": [
    "## What is Machine Learning?\n",
    "\n",
    "\n",
    "### Limitations of explicit programming\n",
    "- 기존의 방식은 데이터와 프로그래밍, 즉 코딩을 통해 결과를 내는 방식\n",
    "\n",
    "### Machine learning\n",
    "- Field of study that gives computers the ability to learn without being explicitly programmed.\n",
    "- 머신러닝은 데이터와 결과를 주면 프로그램 규칙을 컴퓨터가 찾아주는 방식"
   ]
  },
  {
   "cell_type": "markdown",
   "metadata": {},
   "source": [
    "##### Feature engineering : \n",
    "- 얼마만큼의 X 변수를 잘 만드냐에 따라 모델 성능의 결과가 다름"
   ]
  },
  {
   "attachments": {},
   "cell_type": "markdown",
   "metadata": {},
   "source": [
    "<img src=\"images/Picture1.png\"/>"
   ]
  },
  {
   "cell_type": "markdown",
   "metadata": {},
   "source": [
    "## Why use Machine Learning ?\n",
    "- Problems for which existing solutions require a lot of han-tuning or longlists of rules \n",
    "> **one machine learning algorithm can often simplify code and perform better**\n",
    "- Complex problems for which there is no good solution at all using a traditional approach \n",
    "> **the best machine learning techniques can find a solution**\n",
    "- Fluctuating environments (유동적인 환경)\n",
    "> ** a machine learning systm can adapt to new data**\n",
    "- Getting insights about complex problems and large amounts of data"
   ]
  },
  {
   "cell_type": "markdown",
   "metadata": {},
   "source": [
    "## Limitaions of Machine Learning\n",
    "- 과적합(over-fitting) 또는 과도한 일반화(Overgeneralization) 문제\n",
    "- 모델 성능 약화(model performance deterioration)\n",
    "- 활용할 수 있는 정확한 데이터가 충분하지 않을 경우\n",
    "- 영역 복잡성(Domain Complexity)\n",
    "- 샘플링 오류 및 편향(Sampling Error or Bias) 문제\n",
    "- 미래 데이터 유출(Data Leakage from the Future)"
   ]
  },
  {
   "attachments": {},
   "cell_type": "markdown",
   "metadata": {},
   "source": [
    "<img src=\"images/Picture2.png\" width=400 />"
   ]
  },
  {
   "attachments": {},
   "cell_type": "markdown",
   "metadata": {},
   "source": [
    "## Traditional ML vs. deep learning\n",
    "<img src=\"images/Picture3.png\" />\n",
    "\n",
    "*Coming up wih features is difficult, time-consuming, requires expert knowledge. \"Applied machine learning\" is basically feature engineering.*\n",
    "\n",
    "*딥러닝은 이미지, 오디오 그리고 텍스트에 특화되어 있다. 즉 예측률이 좋다. 딥러닝의 기본 전제는 위와같이 피쳐엔지니어링을 안하는 것이지만 현재 비즈니스 추세는 features 가 필요하여 하이브리드로 가는 추세이다.*"
   ]
  },
  {
   "cell_type": "markdown",
   "metadata": {},
   "source": [
    "## Types of Machine Learning\n",
    "#### Machine Learning\n",
    "1. Supervised Learning (지도학습 Predictive Analytics)\n",
    " - Classification\n",
    "    - binary\n",
    "    - multiclass\n",
    " - Regression\n",
    "2. Unsupervised Learning (비지도학습 Descriptive Analytics)\n",
    " - Clustering\n",
    " - Dimensionality reduction\n",
    " - Association rule learning"
   ]
  },
  {
   "cell_type": "markdown",
   "metadata": {},
   "source": [
    "## Naming Conventions (규약)\n",
    "- **Features = predictor variables = independent variables**\n",
    "- **Class = target variable = dependent variable**"
   ]
  },
  {
   "cell_type": "markdown",
   "metadata": {
    "collapsed": true
   },
   "source": [
    "## 분류(Classification) 분석의 개념"
   ]
  },
  {
   "cell_type": "code",
   "execution_count": null,
   "metadata": {
    "collapsed": true
   },
   "outputs": [],
   "source": []
  }
 ],
 "metadata": {
  "kernelspec": {
   "display_name": "Python 3",
   "language": "python",
   "name": "python3"
  },
  "language_info": {
   "codemirror_mode": {
    "name": "ipython",
    "version": 3
   },
   "file_extension": ".py",
   "mimetype": "text/x-python",
   "name": "python",
   "nbconvert_exporter": "python",
   "pygments_lexer": "ipython3",
   "version": "3.6.2"
  }
 },
 "nbformat": 4,
 "nbformat_minor": 2
}
