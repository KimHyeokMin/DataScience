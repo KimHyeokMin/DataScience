{
 "cells": [
  {
   "cell_type": "markdown",
   "metadata": {},
   "source": [
    "# Machine Learning : Concepts, Methods and Tools"
   ]
  },
  {
   "cell_type": "markdown",
   "metadata": {},
   "source": [
    "## What is Machine Learning?\n",
    "\n",
    "\n",
    "### Limitations of explicit programming\n",
    "- 기존의 방식은 데이터와 프로그래밍, 즉 코딩을 통해 결과를 내는 방식\n",
    "\n",
    "### Machine learning\n",
    "- Field of study that gives computers the ability to learn without being explicitly programmed.\n",
    "- 머신러닝은 데이터와 결과를 주면 프로그램 규칙을 컴퓨터가 찾아주는 방식"
   ]
  },
  {
   "cell_type": "markdown",
   "metadata": {},
   "source": [
    "##### Feature engineering : \n",
    "- 얼마만큼의 X 변수를 잘 만드냐에 따라 모델 성능의 결과가 다름"
   ]
  },
  {
   "cell_type": "markdown",
   "metadata": {},
   "source": [
    "<img src=\"images/Picture1.png\"/>"
   ]
  },
  {
   "cell_type": "markdown",
   "metadata": {},
   "source": [
    "## Why use Machine Learning ?\n",
    "- Problems for which existing solutions require a lot of han-tuning or longlists of rules \n",
    "> **one machine learning algorithm can often simplify code and perform better**\n",
    "- Complex problems for which there is no good solution at all using a traditional approach \n",
    "> **the best machine learning techniques can find a solution**\n",
    "- Fluctuating environments (유동적인 환경)\n",
    "> ** a machine learning systm can adapt to new data**\n",
    "- Getting insights about complex problems and large amounts of data"
   ]
  },
  {
   "cell_type": "markdown",
   "metadata": {},
   "source": [
    "## Limitaions of Machine Learning\n",
    "- 과적합(over-fitting) 또는 과도한 일반화(Overgeneralization) 문제\n",
    "- 모델 성능 약화(model performance deterioration)\n",
    "- 활용할 수 있는 정확한 데이터가 충분하지 않을 경우\n",
    "- 영역 복잡성(Domain Complexity)\n",
    "- 샘플링 오류 및 편향(Sampling Error or Bias) 문제\n",
    "- 미래 데이터 유출(Data Leakage from the Future)"
   ]
  },
  {
   "cell_type": "markdown",
   "metadata": {},
   "source": [
    "<img src=\"images/Picture2.png\"/>"
   ]
  },
  {
   "cell_type": "markdown",
   "metadata": {},
   "source": [
    "## Traditional ML vs. deep learning\n",
    "<img src=\"images/Picture3.png\" />\n",
    "\n",
    "*Coming up wih features is difficult, time-consuming, requires expert knowledge. \"Applied machine learning\" is basically feature engineering.*\n",
    "\n",
    "*딥러닝은 이미지, 오디오 그리고 텍스트에 특화되어 있다. 즉 예측률이 좋다. 딥러닝의 기본 전제는 위와같이 피쳐엔지니어링을 안하는 것이지만 현재 비즈니스 추세는 features 가 필요하여 하이브리드로 가는 추세이다.*"
   ]
  },
  {
   "cell_type": "markdown",
   "metadata": {},
   "source": [
    "## Types of Machine Learning\n",
    "#### Machine Learning\n",
    "1. Supervised Learning (지도학습 Predictive Analytics)\n",
    " - Classification\n",
    "    - binary\n",
    "    - multiclass\n",
    " - Regression\n",
    "2. Unsupervised Learning (비지도학습 Descriptive Analytics)\n",
    " - Clustering\n",
    " - Dimensionality reduction\n",
    " - Association rule learning"
   ]
  },
  {
   "cell_type": "markdown",
   "metadata": {},
   "source": [
    "## Naming Conventions (규약)\n",
    "- **Features = predictor variables = independent variables**\n",
    "- **Class = target variable = dependent variable**"
   ]
  },
  {
   "cell_type": "markdown",
   "metadata": {
    "collapsed": true
   },
   "source": [
    "## 분류(Classification) 분석"
   ]
  },
  {
   "cell_type": "markdown",
   "metadata": {},
   "source": [
    "### 분류분석의 개념\n",
    "<img src=\"images/Picture4.png\" />\n"
   ]
  },
  {
   "cell_type": "markdown",
   "metadata": {},
   "source": [
    "### 분류분석 기법\n",
    "#### 시각적해석\n",
    "\n",
    "<img src=\"images/Picture5.png\" width=300 />"
   ]
  },
  {
   "cell_type": "markdown",
   "metadata": {},
   "source": [
    "#### Support Vector Machines\n",
    "\n",
    "<img src=\"images/Picture6.png\" width=300 />"
   ]
  },
  {
   "cell_type": "markdown",
   "metadata": {},
   "source": [
    "#### Decision Tree based Methods\n",
    "\n",
    "<img src=\"images/Picture7.png\" width=300 />"
   ]
  },
  {
   "cell_type": "markdown",
   "metadata": {},
   "source": [
    "#### Neural Networks\n",
    "\n",
    "<img src=\"images/Picture8.png\" width=300 />"
   ]
  },
  {
   "cell_type": "markdown",
   "metadata": {},
   "source": [
    "### Overfitting vs. Underfitting"
   ]
  },
  {
   "cell_type": "markdown",
   "metadata": {},
   "source": [
    "#### 과도적합(overfitting)\n",
    "- 모델이 데이터에 필요이상으로 적합한 모델\n",
    "- 데이터 내에 존재하는 규칙 뿐만 아니라 불완전한 레코드도 학습\n",
    "\n",
    "#### 과소적합(underfitting)\n",
    "- 모델이 데이터에 제대로 적합하지 못한 모델\n",
    "- 데이터 내에 존재하는 규칙도 제대로 학습하지 못함\n",
    "\n",
    "<img src=\"images/Picture9.png\" />"
   ]
  },
  {
   "cell_type": "markdown",
   "metadata": {},
   "source": [
    "### 차원의 저주(Curse of Dimensionality)"
   ]
  },
  {
   "cell_type": "markdown",
   "metadata": {},
   "source": [
    "- Feature의 수가 증가하면 (같은 빙ㄹ의 공간을 채우기 위해 변수 1개당) 분석에 필요한 데이터의 양은 기하급수적으로 증가한다.\n",
    "<img src=\"images/Picture10.png\" />\n",
    "- 충분한 데이터가 없다면 적은 데이터로 공간을 설명해야 하기 때문에 Overfitting이 발생하게 되고, 결국 모형의 성능이 떨어지게 된다.(일반화가 안됨)\n",
    "<img src=\"images/Picture11.png\" width=350 />\n",
    "- 해결방법 : feature reduction or feature selection"
   ]
  },
  {
   "cell_type": "markdown",
   "metadata": {},
   "source": [
    "### 데이터 분할(Data Partitioning)"
   ]
  },
  {
   "cell_type": "markdown",
   "metadata": {},
   "source": [
    "<img src=\"images/Picture12.png\" width=400 />\n",
    "- 모형의 Overfitting 여부(일반화 가능성)를 검증하기 위해 데이터를 학습용과 평가용으로 분리\n",
    "- 학습데이터(Training data) -> 모형 적합(Model Fitting)\n",
    "- 평가데이터(Test data) -> 모형 평가(Model Evaluation)\n",
    "- 60%(학습) - 40%(평가), 75%(학습) - 25%(평가) 분할을 주로 사용"
   ]
  },
  {
   "cell_type": "markdown",
   "metadata": {},
   "source": [
    "### Data Structure for Classification"
   ]
  },
  {
   "cell_type": "markdown",
   "metadata": {},
   "source": [
    "<img src=\"images/Picture13.png\" />\n",
    "- 모든 데이터가 하나의 테이블에 존재해야 한다.\n",
    "- 각 행은 기업과 관련있는 한 개체(Ex: 고객)에 대응해야 한다.\n",
    "- 하나의 값을 갖는 필드는 무시되어야 한다.\n",
    "- 대부분이 한 값을 갖는 필드도 가급적 무시되어야 한다.\n",
    "- 각 행마다 다른 값들을 가지는 필드는 무시되어야 한다.\n",
    "- 목표필드와 지나치게 높은 상관관계를 갖는 필드는 제거되어야 한다."
   ]
  },
  {
   "cell_type": "markdown",
   "metadata": {},
   "source": [
    "### 분류분석이 적용될 수 있는 비즈니스 문제"
   ]
  },
  {
   "cell_type": "markdown",
   "metadata": {},
   "source": [
    "- 특정 상품(Ex: 퇴직연금)에 가입할 가능성이 높은 고객은 누구인가?\n",
    "- 추가 가입을 유도하기 위해 대상고객에게 어떤 상품을 추천해야 하는가?\n",
    "- 향후 6개월 안에 이탈(Ex: 계약 만기 전에 실효 또는 중도 해약)할 가능성이 높은 고객들은 누구이며 그들의 특징은?\n",
    "- 고객별 LTV(Life Time Value)를 계산해 주는 모델은?\n",
    "\n",
    "- Ex: LTV = 현재 고객의 기여가치 + 추가 구매확률에 의한 기여가치 - 이탈확률에 의한 손실 가치\n",
    "- 담보대출 고객 중에서 누가 향후 90일 내에 조기상환할 것인가?\n",
    "- 각 고객별로 클릭할 가능성이 가장 높은 광고는 어떤 것인가?\n",
    "- 고객별로 어떤 할인쿠폰이 다음달에 사용될 것인가?\n",
    "- 추후 VIP의 고객이 될 가능성이 높은 고객들은?\n",
    "- 누가 차량사고를 낼 것인가?\n",
    "- 누가 이직할 것인가?"
   ]
  },
  {
   "cell_type": "markdown",
   "metadata": {},
   "source": [
    "### 지도학습이 발견한 이상하고 놀라운 사실"
   ]
  },
  {
   "cell_type": "markdown",
   "metadata": {},
   "source": [
    "- 배너광고를 본 사람 중 61%는 그와 관련된 검색을 할 가능성이 높다.\n",
    "- 맥 사용자들은 상대적으로 더 비싼 호텔을 예약한다.\n",
    "- 금융 및 주식사이트는 오후1시 직후가 접속 피크다.\n",
    "- 이메일 주소는 그 사람의 충성도를 암시한다.\n",
    "- 신용카드를 술집에서 자주 사용한다면 결제대금을 연체할 위험이 높다.\n",
    "- 신용등급이 낮을수록 자동차 사고를 낼 확률이 높다.\n",
    "- 이미 여러개의 계좌를 개설한 고객들에게 우편물을 보내면 오히려 그들이 더 많은 계좌를 개설할 가능성을 낮춘다.\n",
    "- 약정기간이 끝났는지 온라인으로 알아보는 고객은 경쟁업체로 넘어갈 가능성이 높다.\n",
    "- 직무순환을 많이 한 직원일수록 회사에 더 오래 다니는 경향이 있다.\n",
    "- 스테이플러는 일자리를 의미한다."
   ]
  },
  {
   "cell_type": "markdown",
   "metadata": {},
   "source": [
    "# Machine Learning Process"
   ]
  },
  {
   "cell_type": "markdown",
   "metadata": {
    "collapsed": true
   },
   "source": []
  },
  {
   "cell_type": "markdown",
   "metadata": {
    "collapsed": true
   },
   "source": []
  }
 ],
 "metadata": {
  "kernelspec": {
   "display_name": "Python 3",
   "language": "python",
   "name": "python3"
  },
  "language_info": {
   "codemirror_mode": {
    "name": "ipython",
    "version": 3
   },
   "file_extension": ".py",
   "mimetype": "text/x-python",
   "name": "python",
   "nbconvert_exporter": "python",
   "pygments_lexer": "ipython3",
   "version": "3.6.2"
  }
 },
 "nbformat": 4,
 "nbformat_minor": 2
}
